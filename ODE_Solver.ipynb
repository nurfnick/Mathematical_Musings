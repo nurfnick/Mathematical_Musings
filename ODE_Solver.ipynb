{
  "nbformat": 4,
  "nbformat_minor": 0,
  "metadata": {
    "colab": {
      "provenance": [],
      "authorship_tag": "ABX9TyO5E2wA2XjuVhoYOqNLRfil",
      "include_colab_link": true
    },
    "kernelspec": {
      "name": "python3",
      "display_name": "Python 3"
    },
    "language_info": {
      "name": "python"
    }
  },
  "cells": [
    {
      "cell_type": "markdown",
      "metadata": {
        "id": "view-in-github",
        "colab_type": "text"
      },
      "source": [
        "<a href=\"https://colab.research.google.com/github/nurfnick/Mathematical_Musings/blob/main/ODE_Solver.ipynb\" target=\"_parent\"><img src=\"https://colab.research.google.com/assets/colab-badge.svg\" alt=\"Open In Colab\"/></a>"
      ]
    },
    {
      "cell_type": "markdown",
      "source": [
        "# Sympy ODE Solver"
      ],
      "metadata": {
        "id": "J3D5s_9l1oYb"
      }
    },
    {
      "cell_type": "code",
      "execution_count": null,
      "metadata": {
        "colab": {
          "base_uri": "https://localhost:8080/",
          "height": 38
        },
        "id": "FU8jJ_vQ1n1A",
        "outputId": "32f4f8e5-d048-4469-a177-627f3c1d9db5"
      },
      "outputs": [
        {
          "output_type": "execute_result",
          "data": {
            "text/plain": [
              "Eq(f(x), ((1 - 3*x)*exp(x) + 1)*exp(x))"
            ],
            "text/latex": "$\\displaystyle f{\\left(x \\right)} = \\left(\\left(1 - 3 x\\right) e^{x} + 1\\right) e^{x}$"
          },
          "metadata": {},
          "execution_count": 7
        }
      ],
      "source": [
        "from sympy import Function, dsolve, Eq, Derivative, sin, cos, symbols,exp\n",
        "\n",
        "from sympy.abc import x\n",
        "\n",
        "f = Function('f')\n",
        "\n",
        "dsolve(Derivative(f(x), x, x) -4*Derivative(f(x),x)+ 4*f(x) - exp(x), f(x),ics = {f(0): 2, Derivative(f(x),x).subs(x,0): 0})"
      ]
    },
    {
      "cell_type": "markdown",
      "source": [
        "This solves the ODE:\n",
        "$$\n",
        "y''-4y'+4y = e^x\\quad y(0) =2\\quad y'(0)=0\n",
        "$$"
      ],
      "metadata": {
        "id": "M8mGBcV93I9f"
      }
    },
    {
      "cell_type": "code",
      "source": [
        "from sympy import Function, dsolve, Eq, Derivative, sin, cos, symbols,exp\n",
        "\n",
        "from sympy.abc import x\n",
        "\n",
        "f = Function('f')\n",
        "\n",
        "dsolve(Derivative(f(x), x, x) -2*Derivative(f(x),x)+ 2*f(x) + exp(x)*(6*cos(x)+4*sin(x)), f(x),ics = {f(0): 1, Derivative(f(x),x).subs(x,0): 4})"
      ],
      "metadata": {
        "id": "M5wfc0U515sr",
        "outputId": "cf98c276-c144-4061-daf7-1493cbeff76a",
        "colab": {
          "base_uri": "https://localhost:8080/",
          "height": 38
        }
      },
      "execution_count": 1,
      "outputs": [
        {
          "output_type": "execute_result",
          "data": {
            "text/plain": [
              "Eq(f(x), ((1 - 3*x)*sin(x) + (2*x + 1)*cos(x))*exp(x))"
            ],
            "text/latex": "$\\displaystyle f{\\left(x \\right)} = \\left(\\left(1 - 3 x\\right) \\sin{\\left(x \\right)} + \\left(2 x + 1\\right) \\cos{\\left(x \\right)}\\right) e^{x}$"
          },
          "metadata": {},
          "execution_count": 1
        }
      ]
    },
    {
      "cell_type": "markdown",
      "source": [
        "This solves\n",
        "$$\n",
        "y''-2y'2y = -e^x\\left(6\\cos x+4\\sin x\\right)\\quad y(0)=1\\quad y'(0) = 4\n",
        "$$"
      ],
      "metadata": {
        "id": "-VOWW_Dt4BEK"
      }
    },
    {
      "cell_type": "code",
      "source": [
        "\n"
      ],
      "metadata": {
        "id": "_2dxOtcv39pq"
      },
      "execution_count": null,
      "outputs": []
    }
  ]
}