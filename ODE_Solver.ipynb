{
  "nbformat": 4,
  "nbformat_minor": 0,
  "metadata": {
    "colab": {
      "provenance": [],
      "authorship_tag": "ABX9TyMtKYf4jyuVsmzq+0JH9+YV",
      "include_colab_link": true
    },
    "kernelspec": {
      "name": "python3",
      "display_name": "Python 3"
    },
    "language_info": {
      "name": "python"
    }
  },
  "cells": [
    {
      "cell_type": "markdown",
      "metadata": {
        "id": "view-in-github",
        "colab_type": "text"
      },
      "source": [
        "<a href=\"https://colab.research.google.com/github/nurfnick/Mathematical_Musings/blob/main/ODE_Solver.ipynb\" target=\"_parent\"><img src=\"https://colab.research.google.com/assets/colab-badge.svg\" alt=\"Open In Colab\"/></a>"
      ]
    },
    {
      "cell_type": "markdown",
      "source": [
        "# Sympy ODE Solver"
      ],
      "metadata": {
        "id": "J3D5s_9l1oYb"
      }
    },
    {
      "cell_type": "code",
      "execution_count": 7,
      "metadata": {
        "colab": {
          "base_uri": "https://localhost:8080/",
          "height": 38
        },
        "id": "FU8jJ_vQ1n1A",
        "outputId": "32f4f8e5-d048-4469-a177-627f3c1d9db5"
      },
      "outputs": [
        {
          "output_type": "execute_result",
          "data": {
            "text/plain": [
              "Eq(f(x), ((1 - 3*x)*exp(x) + 1)*exp(x))"
            ],
            "text/latex": "$\\displaystyle f{\\left(x \\right)} = \\left(\\left(1 - 3 x\\right) e^{x} + 1\\right) e^{x}$"
          },
          "metadata": {},
          "execution_count": 7
        }
      ],
      "source": [
        "from sympy import Function, dsolve, Eq, Derivative, sin, cos, symbols,exp\n",
        "\n",
        "from sympy.abc import x\n",
        "\n",
        "f = Function('f')\n",
        "\n",
        "dsolve(Derivative(f(x), x, x) -4*Derivative(f(x),x)+ 4*f(x) - exp(x), f(x),ics = {f(0): 2, Derivative(f(x),x).subs(x,0): 0})"
      ]
    },
    {
      "cell_type": "code",
      "source": [],
      "metadata": {
        "id": "M5wfc0U515sr"
      },
      "execution_count": null,
      "outputs": []
    }
  ]
}