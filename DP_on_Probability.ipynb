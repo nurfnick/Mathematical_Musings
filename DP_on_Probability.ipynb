{
  "nbformat": 4,
  "nbformat_minor": 0,
  "metadata": {
    "colab": {
      "name": "Untitled26.ipynb",
      "provenance": [],
      "authorship_tag": "ABX9TyOGDin5mDRfyc2Bpf7c5ovT",
      "include_colab_link": true
    },
    "kernelspec": {
      "name": "python3",
      "display_name": "Python 3"
    }
  },
  "cells": [
    {
      "cell_type": "markdown",
      "metadata": {
        "id": "view-in-github",
        "colab_type": "text"
      },
      "source": [
        "<a href=\"https://colab.research.google.com/github/nurfnick/Mathematical_Musings/blob/main/DP_on_Probability.ipynb\" target=\"_parent\"><img src=\"https://colab.research.google.com/assets/colab-badge.svg\" alt=\"Open In Colab\"/></a>"
      ]
    },
    {
      "cell_type": "code",
      "metadata": {
        "colab": {
          "base_uri": "https://localhost:8080/"
        },
        "id": "4HeXzY4HhZ55",
        "outputId": "9f9227ea-f79e-4998-a81c-20ccf709252c"
      },
      "source": [
        "\r\n",
        "\r\n",
        "def f(step, chips, target = 5, maxsteps = 3):\r\n",
        "  if maxsteps == step:\r\n",
        "    if chips>=target:\r\n",
        "      return 1\r\n",
        "    elif chips <target:\r\n",
        "      return 0\r\n",
        "  else:\r\n",
        "    return max([1/3*f(step+1, chips -x, target, maxsteps)+2/3*f(step+1, chips+ x, target, maxsteps) for x in range(chips+1)])\r\n",
        "\r\n",
        "f(0,3)"
      ],
      "execution_count": 41,
      "outputs": [
        {
          "output_type": "execute_result",
          "data": {
            "text/plain": [
              "0.7407407407407407"
            ]
          },
          "metadata": {
            "tags": []
          },
          "execution_count": 41
        }
      ]
    },
    {
      "cell_type": "markdown",
      "metadata": {
        "id": "JhWBmshiAzaL"
      },
      "source": [
        "If you were given three chips in an unfair equal odds game, what is the probability you could get to 5 chips in at most 3 steps?"
      ]
    },
    {
      "cell_type": "code",
      "metadata": {
        "colab": {
          "base_uri": "https://localhost:8080/"
        },
        "id": "pwabhPFKBCMG",
        "outputId": "f4344918-a71a-4662-84d1-db8478e14bd9"
      },
      "source": [
        "f(0,1,4,7)"
      ],
      "execution_count": 48,
      "outputs": [
        {
          "output_type": "execute_result",
          "data": {
            "text/plain": [
              "0.5157750342935526"
            ]
          },
          "metadata": {
            "tags": []
          },
          "execution_count": 48
        }
      ]
    },
    {
      "cell_type": "markdown",
      "metadata": {
        "id": "BtrcqORXBBKi"
      },
      "source": [
        "Next I want to apply this to the seven game series.  Assume your team has a probability of winning all games as **pwin** What is the probability that they win the series?"
      ]
    },
    {
      "cell_type": "code",
      "metadata": {
        "id": "fru1EeEF6kvo"
      },
      "source": [
        "def serieswin(wins, losses, pwin):\r\n",
        "  if losses == 4:\r\n",
        "    return 0\r\n",
        "  elif wins == 4:\r\n",
        "    return 1\r\n",
        "  else:\r\n",
        "    return pwin*serieswin(wins+1,losses,pwin) + (1-pwin)*serieswin(wins, losses+1,pwin)\r\n",
        "\r\n"
      ],
      "execution_count": 29,
      "outputs": []
    },
    {
      "cell_type": "code",
      "metadata": {
        "colab": {
          "base_uri": "https://localhost:8080/"
        },
        "id": "Uul8YZGH_fGY",
        "outputId": "aceeb5a7-fdb3-4681-8f5f-311728343b6f"
      },
      "source": [
        "serieswin(0,0,.6)"
      ],
      "execution_count": 31,
      "outputs": [
        {
          "output_type": "execute_result",
          "data": {
            "text/plain": [
              "0.710208"
            ]
          },
          "metadata": {
            "tags": []
          },
          "execution_count": 31
        }
      ]
    },
    {
      "cell_type": "code",
      "metadata": {
        "id": "CtbXEFP5_8LG"
      },
      "source": [
        "s = lambda x: serieswin(0,0,x)"
      ],
      "execution_count": 39,
      "outputs": []
    },
    {
      "cell_type": "code",
      "metadata": {
        "colab": {
          "base_uri": "https://localhost:8080/",
          "height": 279
        },
        "id": "REPqIjU0__NW",
        "outputId": "050c698f-262d-4185-e8a0-db4f2ca77145"
      },
      "source": [
        "import matplotlib.pyplot as plt\r\n",
        "import numpy as np\r\n",
        "\r\n",
        "x = np.arange(0.001,1,.0001)\r\n",
        "plt.plot(x,s(x))\r\n",
        "plt.ylabel('Probability of Winning the Series')\r\n",
        "plt.xlabel('Probability of Winning Each Game')\r\n",
        "plt.show()"
      ],
      "execution_count": 52,
      "outputs": [
        {
          "output_type": "display_data",
          "data": {
            "image/png": "[encoded data removed]",
            "text/plain": [
              "<Figure size 432x288 with 1 Axes>"
            ]
          },
          "metadata": {
            "tags": [],
            "needs_background": "light"
          }
        }
      ]
    },
    {
      "cell_type": "code",
      "metadata": {
        "id": "cxF4ndExAiMi"
      },
      "source": [
        ""
      ],
      "execution_count": null,
      "outputs": []
    }
  ]
}