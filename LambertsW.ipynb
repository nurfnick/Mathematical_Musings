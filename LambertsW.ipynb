{
  "nbformat": 4,
  "nbformat_minor": 0,
  "metadata": {
    "colab": {
      "provenance": [],
      "authorship_tag": "ABX9TyPY+eEN0sMAQOAR9K09BIFN",
      "include_colab_link": true
    },
    "kernelspec": {
      "name": "python3",
      "display_name": "Python 3"
    },
    "language_info": {
      "name": "python"
    }
  },
  "cells": [
    {
      "cell_type": "markdown",
      "metadata": {
        "id": "view-in-github",
        "colab_type": "text"
      },
      "source": [
        "<a href=\"https://colab.research.google.com/github/nurfnick/Mathematical_Musings/blob/main/LambertsW.ipynb\" target=\"_parent\"><img src=\"https://colab.research.google.com/assets/colab-badge.svg\" alt=\"Open In Colab\"/></a>"
      ]
    },
    {
      "cell_type": "code",
      "execution_count": 18,
      "metadata": {
        "colab": {
          "base_uri": "https://localhost:8080/",
          "height": 37
        },
        "id": "DfAlQeTbaHKP",
        "outputId": "d2b0b137-91bc-4e5a-a6bb-739f1ce58d84"
      },
      "outputs": [
        {
          "output_type": "execute_result",
          "data": {
            "text/plain": [
              "2**x - 3"
            ],
            "text/latex": "$\\displaystyle 2^{x} - 3$"
          },
          "metadata": {},
          "execution_count": 18
        }
      ],
      "source": [
        "from sympy import *\n",
        "\n",
        "x = symbols('x')\n",
        "\n",
        "f = 2**x-3\n",
        "g = x\n",
        "\n",
        "f"
      ]
    },
    {
      "cell_type": "code",
      "source": [
        "plot(f,g,(x,-5,5))"
      ],
      "metadata": {
        "colab": {
          "base_uri": "https://localhost:8080/",
          "height": 315
        },
        "id": "4zK_53xuaTGm",
        "outputId": "d0dae31f-d60a-4a7e-8ca7-3b4ecfacedcb"
      },
      "execution_count": 19,
      "outputs": [
        {
          "output_type": "display_data",
          "data": {
            "text/plain": [
              "<Figure size 432x288 with 1 Axes>"
            ],
            "image/png": "[encoded data removed]"
          },
          "metadata": {
            "needs_background": "light"
          }
        },
        {
          "output_type": "execute_result",
          "data": {
            "text/plain": [
              "<sympy.plotting.plot.Plot at 0x7ff3f18c0dc0>"
            ]
          },
          "metadata": {},
          "execution_count": 19
        }
      ]
    },
    {
      "cell_type": "code",
      "source": [
        "solve(f-g,x)"
      ],
      "metadata": {
        "colab": {
          "base_uri": "https://localhost:8080/"
        },
        "id": "q0YwR4nBaaMe",
        "outputId": "af789963-3a5a-481b-a085-1838006aa146"
      },
      "execution_count": 20,
      "outputs": [
        {
          "output_type": "execute_result",
          "data": {
            "text/plain": [
              "[-3 - LambertW(-log(2)/8)/log(2)]"
            ]
          },
          "metadata": {},
          "execution_count": 20
        }
      ]
    },
    {
      "cell_type": "code",
      "source": [
        "nsolve(f-g,x,-3)"
      ],
      "metadata": {
        "colab": {
          "base_uri": "https://localhost:8080/",
          "height": 37
        },
        "id": "ugoS6m2JazAF",
        "outputId": "d983914b-a6ef-441b-955e-324434faa45d"
      },
      "execution_count": 21,
      "outputs": [
        {
          "output_type": "execute_result",
          "data": {
            "text/plain": [
              "-2.86250037122030"
            ],
            "text/latex": "$\\displaystyle -2.8625003712203$"
          },
          "metadata": {},
          "execution_count": 21
        }
      ]
    },
    {
      "cell_type": "code",
      "source": [
        "nsolve(f-g,x,2)"
      ],
      "metadata": {
        "colab": {
          "base_uri": "https://localhost:8080/",
          "height": 37
        },
        "id": "bXQuW8t1bFo5",
        "outputId": "99da2fcb-279f-4c0f-fdf8-ea8dde73e15f"
      },
      "execution_count": 22,
      "outputs": [
        {
          "output_type": "execute_result",
          "data": {
            "text/plain": [
              "2.44490755461021"
            ],
            "text/latex": "$\\displaystyle 2.44490755461021$"
          },
          "metadata": {},
          "execution_count": 22
        }
      ]
    },
    {
      "cell_type": "code",
      "source": [
        "N(solve(f-g,x)[0])"
      ],
      "metadata": {
        "colab": {
          "base_uri": "https://localhost:8080/",
          "height": 37
        },
        "id": "bn1Hu9TNbSUp",
        "outputId": "4fa64530-84ff-4608-cf29-ebfd2c837925"
      },
      "execution_count": 23,
      "outputs": [
        {
          "output_type": "execute_result",
          "data": {
            "text/plain": [
              "-2.86250037122030"
            ],
            "text/latex": "$\\displaystyle -2.8625003712203$"
          },
          "metadata": {},
          "execution_count": 23
        }
      ]
    },
    {
      "cell_type": "code",
      "source": [
        "plot(LambertW(x))"
      ],
      "metadata": {
        "colab": {
          "base_uri": "https://localhost:8080/",
          "height": 315
        },
        "id": "FmEUEnGtbut2",
        "outputId": "4b571c70-530b-42b1-ce11-047711913aee"
      },
      "execution_count": 24,
      "outputs": [
        {
          "output_type": "display_data",
          "data": {
            "text/plain": [
              "<Figure size 432x288 with 1 Axes>"
            ],
            "image/png": "[encoded data removed]"
          },
          "metadata": {
            "needs_background": "light"
          }
        },
        {
          "output_type": "execute_result",
          "data": {
            "text/plain": [
              "<sympy.plotting.plot.Plot at 0x7ff3f195e0a0>"
            ]
          },
          "metadata": {},
          "execution_count": 24
        }
      ]
    },
    {
      "cell_type": "code",
      "source": [
        "w = LambertW(x)\n",
        "\n",
        "w.diff(x)"
      ],
      "metadata": {
        "colab": {
          "base_uri": "https://localhost:8080/",
          "height": 57
        },
        "id": "QGFZ83cdcLP1",
        "outputId": "bbd60e4f-9e93-4fb1-8f6c-5ef6a1890c38"
      },
      "execution_count": 25,
      "outputs": [
        {
          "output_type": "execute_result",
          "data": {
            "text/plain": [
              "LambertW(x)/(x*(LambertW(x) + 1))"
            ],
            "text/latex": "$\\displaystyle \\frac{W\\left(x\\right)}{x \\left(W\\left(x\\right) + 1\\right)}$"
          },
          "metadata": {},
          "execution_count": 25
        }
      ]
    },
    {
      "cell_type": "code",
      "source": [
        "w.integrate(x)"
      ],
      "metadata": {
        "colab": {
          "base_uri": "https://localhost:8080/",
          "height": 52
        },
        "id": "QRvv6SFecWmz",
        "outputId": "3a575c8a-8256-44a8-e817-32178769a919"
      },
      "execution_count": 26,
      "outputs": [
        {
          "output_type": "execute_result",
          "data": {
            "text/plain": [
              "x*LambertW(x) - x + x/LambertW(x)"
            ],
            "text/latex": "$\\displaystyle x W\\left(x\\right) - x + \\frac{x}{W\\left(x\\right)}$"
          },
          "metadata": {},
          "execution_count": 26
        }
      ]
    },
    {
      "cell_type": "code",
      "source": [
        "w.series(x)"
      ],
      "metadata": {
        "id": "BplM5M1Ncm0W",
        "outputId": "786db4be-f81d-4191-e35b-6c9d314400a6",
        "colab": {
          "base_uri": "https://localhost:8080/",
          "height": 54
        }
      },
      "execution_count": 27,
      "outputs": [
        {
          "output_type": "execute_result",
          "data": {
            "text/plain": [
              "x - x**2 + 3*x**3/2 - 8*x**4/3 + 125*x**5/24 + O(x**6)"
            ],
            "text/latex": "$\\displaystyle x - x^{2} + \\frac{3 x^{3}}{2} - \\frac{8 x^{4}}{3} + \\frac{125 x^{5}}{24} + O\\left(x^{6}\\right)$"
          },
          "metadata": {},
          "execution_count": 27
        }
      ]
    },
    {
      "cell_type": "code",
      "source": [
        "w.series(x,2)"
      ],
      "metadata": {
        "id": "PNbWCagPc3iP",
        "outputId": "941c9611-fb8c-46d2-d838-c0c5639af847",
        "colab": {
          "base_uri": "https://localhost:8080/",
          "height": 56
        }
      },
      "execution_count": 28,
      "outputs": [
        {
          "output_type": "execute_result",
          "data": {
            "text/plain": [
              "-1676/3 + 1082*(x - 2)**2/3 + 377*(x - 2)**3/2 + 593*(x - 2)**4/12 + 125*(x - 2)**5/24 + 1039*x/3 + O((x - 2)**6, (x, 2))"
            ],
            "text/latex": "$\\displaystyle - \\frac{1676}{3} + \\frac{1082 \\left(x - 2\\right)^{2}}{3} + \\frac{377 \\left(x - 2\\right)^{3}}{2} + \\frac{593 \\left(x - 2\\right)^{4}}{12} + \\frac{125 \\left(x - 2\\right)^{5}}{24} + \\frac{1039 x}{3} + O\\left(\\left(x - 2\\right)^{6}; x\\rightarrow 2\\right)$"
          },
          "metadata": {},
          "execution_count": 28
        }
      ]
    },
    {
      "cell_type": "code",
      "source": [],
      "metadata": {
        "id": "xlalDQ6yc68D"
      },
      "execution_count": null,
      "outputs": []
    }
  ]
}