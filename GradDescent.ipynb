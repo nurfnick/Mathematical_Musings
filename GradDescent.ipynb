{
  "nbformat": 4,
  "nbformat_minor": 0,
  "metadata": {
    "colab": {
      "name": "Untitled63.ipynb",
      "provenance": [],
      "authorship_tag": "ABX9TyP5TX4K6Uh+Zg6YBuNg6/WE",
      "include_colab_link": true
    },
    "kernelspec": {
      "name": "python3",
      "display_name": "Python 3"
    },
    "language_info": {
      "name": "python"
    }
  },
  "cells": [
    {
      "cell_type": "markdown",
      "metadata": {
        "id": "view-in-github",
        "colab_type": "text"
      },
      "source": [
        "<a href=\"https://colab.research.google.com/github/nurfnick/Mathematical_Musings/blob/main/GradDescent.ipynb\" target=\"_parent\"><img src=\"https://colab.research.google.com/assets/colab-badge.svg\" alt=\"Open In Colab\"/></a>"
      ]
    },
    {
      "cell_type": "markdown",
      "metadata": {
        "id": "T7sKvdiswGte"
      },
      "source": [
        "# Gradient Descent for Training Linear Regression"
      ]
    },
    {
      "cell_type": "markdown",
      "metadata": {
        "id": "ou6LW0izwUtq"
      },
      "source": [
        "In multiple linear regression, the goal is to minimize the sum of the squared errors.\n",
        "\n",
        "$$ RSS = \\sum_{i=1}^n \\left(y_i-\\hat y_i\\right)^2 = (\\vec y - X \\vec \\beta)^T(\\vec y - X\\vec \\beta) $$\n",
        "\n",
        "This first equation is in the traditional format (where $\\hat y$ is the prediction $\\vec x \\cdot \\vec \\beta$) and the second in a matrix format.\n",
        "\n",
        "We know the solution to this problem analytically, $\\hat \\beta = \\left(X^TX\\right)^{-1}X^T\\vec y$.  What I am interested in is if I can code to find an approximation of this solution by following the gradient descent.\n",
        "\n",
        "The gradient descent is an iterative process where by we initialize a solution (for $\\beta$) and update it by using $\\beta - w \\nabla RSS$ where $w$ is some user chosen weight and \n",
        "$$\n",
        "\\nabla RSS = -2X^T\\left(\\vec y - X\\vec \\beta\\right)\n",
        "$$\n",
        "\n",
        "Okay enough with the theory, let's get our hands dirty with some coding!  I'll start with some data and show the solution for $\\hat \\beta$."
      ]
    },
    {
      "cell_type": "code",
      "metadata": {
        "id": "tNPItba_wF3e"
      },
      "source": [
        "import numpy as np\n",
        "import pandas as pa\n",
        "from sklearn.linear_model import LinearRegression\n",
        "\n",
        "df = pa.read_csv('https://raw.githubusercontent.com/nurfnick/Applied_Stats_Jupyter_Notebooks/master/blues.csv')"
      ],
      "execution_count": 1,
      "outputs": []
    },
    {
      "cell_type": "code",
      "metadata": {
        "colab": {
          "base_uri": "https://localhost:8080/",
          "height": 206
        },
        "id": "Rx89yAwsz9P0",
        "outputId": "26d889a6-d36e-46ec-c003-b2e3274b4556"
      },
      "source": [
        "df.head()"
      ],
      "execution_count": 4,
      "outputs": [
        {
          "output_type": "execute_result",
          "data": {
            "text/html": [
              "<div>\n",
              "<style scoped>\n",
              "    .dataframe tbody tr th:only-of-type {\n",
              "        vertical-align: middle;\n",
              "    }\n",
              "\n",
              "    .dataframe tbody tr th {\n",
              "        vertical-align: top;\n",
              "    }\n",
              "\n",
              "    .dataframe thead th {\n",
              "        text-align: right;\n",
              "    }\n",
              "</style>\n",
              "<table border=\"1\" class=\"dataframe\">\n",
              "  <thead>\n",
              "    <tr style=\"text-align: right;\">\n",
              "      <th></th>\n",
              "      <th>Rk</th>\n",
              "      <th>Player</th>\n",
              "      <th>From</th>\n",
              "      <th>To</th>\n",
              "      <th>Yrs</th>\n",
              "      <th>Lg</th>\n",
              "      <th>GP</th>\n",
              "      <th>G</th>\n",
              "      <th>A</th>\n",
              "      <th>PTS</th>\n",
              "      <th>+/-</th>\n",
              "      <th>PIM</th>\n",
              "      <th>EV</th>\n",
              "      <th>PP</th>\n",
              "      <th>SH</th>\n",
              "      <th>GW</th>\n",
              "      <th>EV.1</th>\n",
              "      <th>PP.1</th>\n",
              "      <th>SH.1</th>\n",
              "      <th>S</th>\n",
              "      <th>S%</th>\n",
              "      <th>TOI</th>\n",
              "      <th>ATOI</th>\n",
              "    </tr>\n",
              "  </thead>\n",
              "  <tbody>\n",
              "    <tr>\n",
              "      <th>0</th>\n",
              "      <td>1</td>\n",
              "      <td>Bruce Affleck\\afflebr01</td>\n",
              "      <td>1975</td>\n",
              "      <td>1979</td>\n",
              "      <td>5</td>\n",
              "      <td>NHL</td>\n",
              "      <td>274</td>\n",
              "      <td>14</td>\n",
              "      <td>65</td>\n",
              "      <td>79</td>\n",
              "      <td>-81</td>\n",
              "      <td>86</td>\n",
              "      <td>10</td>\n",
              "      <td>4</td>\n",
              "      <td>0</td>\n",
              "      <td>2</td>\n",
              "      <td>48</td>\n",
              "      <td>14</td>\n",
              "      <td>3</td>\n",
              "      <td>363</td>\n",
              "      <td>3.9</td>\n",
              "      <td>NaN</td>\n",
              "      <td>NaN</td>\n",
              "    </tr>\n",
              "    <tr>\n",
              "      <th>1</th>\n",
              "      <td>2</td>\n",
              "      <td>Kenny Agostino\\agostke01</td>\n",
              "      <td>2017</td>\n",
              "      <td>2017</td>\n",
              "      <td>1</td>\n",
              "      <td>NHL</td>\n",
              "      <td>7</td>\n",
              "      <td>1</td>\n",
              "      <td>2</td>\n",
              "      <td>3</td>\n",
              "      <td>0</td>\n",
              "      <td>2</td>\n",
              "      <td>1</td>\n",
              "      <td>0</td>\n",
              "      <td>0</td>\n",
              "      <td>0</td>\n",
              "      <td>1</td>\n",
              "      <td>1</td>\n",
              "      <td>0</td>\n",
              "      <td>17</td>\n",
              "      <td>5.9</td>\n",
              "      <td>89.0</td>\n",
              "      <td>12:47</td>\n",
              "    </tr>\n",
              "    <tr>\n",
              "      <th>2</th>\n",
              "      <td>3</td>\n",
              "      <td>Glenn Anderson*\\andergl01</td>\n",
              "      <td>1995</td>\n",
              "      <td>1996</td>\n",
              "      <td>2</td>\n",
              "      <td>NHL</td>\n",
              "      <td>51</td>\n",
              "      <td>14</td>\n",
              "      <td>16</td>\n",
              "      <td>30</td>\n",
              "      <td>-2</td>\n",
              "      <td>43</td>\n",
              "      <td>12</td>\n",
              "      <td>2</td>\n",
              "      <td>0</td>\n",
              "      <td>3</td>\n",
              "      <td>13</td>\n",
              "      <td>3</td>\n",
              "      <td>0</td>\n",
              "      <td>89</td>\n",
              "      <td>15.7</td>\n",
              "      <td>NaN</td>\n",
              "      <td>NaN</td>\n",
              "    </tr>\n",
              "    <tr>\n",
              "      <th>3</th>\n",
              "      <td>4</td>\n",
              "      <td>Perry Anderson\\anderpe01</td>\n",
              "      <td>1982</td>\n",
              "      <td>1985</td>\n",
              "      <td>4</td>\n",
              "      <td>NHL</td>\n",
              "      <td>144</td>\n",
              "      <td>22</td>\n",
              "      <td>18</td>\n",
              "      <td>40</td>\n",
              "      <td>-14</td>\n",
              "      <td>355</td>\n",
              "      <td>22</td>\n",
              "      <td>0</td>\n",
              "      <td>0</td>\n",
              "      <td>2</td>\n",
              "      <td>18</td>\n",
              "      <td>0</td>\n",
              "      <td>0</td>\n",
              "      <td>168</td>\n",
              "      <td>13.1</td>\n",
              "      <td>NaN</td>\n",
              "      <td>NaN</td>\n",
              "    </tr>\n",
              "    <tr>\n",
              "      <th>4</th>\n",
              "      <td>5</td>\n",
              "      <td>Ron Anderson\\anderro01</td>\n",
              "      <td>1970</td>\n",
              "      <td>1970</td>\n",
              "      <td>1</td>\n",
              "      <td>NHL</td>\n",
              "      <td>59</td>\n",
              "      <td>9</td>\n",
              "      <td>9</td>\n",
              "      <td>18</td>\n",
              "      <td>9</td>\n",
              "      <td>36</td>\n",
              "      <td>8</td>\n",
              "      <td>1</td>\n",
              "      <td>0</td>\n",
              "      <td>0</td>\n",
              "      <td>8</td>\n",
              "      <td>1</td>\n",
              "      <td>0</td>\n",
              "      <td>107</td>\n",
              "      <td>8.4</td>\n",
              "      <td>NaN</td>\n",
              "      <td>NaN</td>\n",
              "    </tr>\n",
              "  </tbody>\n",
              "</table>\n",
              "</div>"
            ],
            "text/plain": [
              "   Rk                     Player  From    To  Yrs  ... SH.1    S    S%   TOI   ATOI\n",
              "0   1    Bruce Affleck\\afflebr01  1975  1979    5  ...    3  363   3.9   NaN    NaN\n",
              "1   2   Kenny Agostino\\agostke01  2017  2017    1  ...    0   17   5.9  89.0  12:47\n",
              "2   3  Glenn Anderson*\\andergl01  1995  1996    2  ...    0   89  15.7   NaN    NaN\n",
              "3   4   Perry Anderson\\anderpe01  1982  1985    4  ...    0  168  13.1   NaN    NaN\n",
              "4   5     Ron Anderson\\anderro01  1970  1970    1  ...    0  107   8.4   NaN    NaN\n",
              "\n",
              "[5 rows x 23 columns]"
            ]
          },
          "metadata": {},
          "execution_count": 4
        }
      ]
    },
    {
      "cell_type": "markdown",
      "metadata": {
        "id": "Yc-0LQmr0GeI"
      },
      "source": [
        "This dataset is (most?) of the players for my favorite hockey team.  Let's try to predict **GP** from **G**, **A**, **PTS**, and **+/-**.  If you aren't familiar with these you can gain some content knowledge about hockey [here](https://en.wikipedia.org/wiki/Ice_hockey)"
      ]
    },
    {
      "cell_type": "code",
      "metadata": {
        "id": "S9waEMuBz_O_"
      },
      "source": [
        "X= np.array(df[['G', 'A', '+/-']])\n",
        "y = np.array(df['GP'])\n"
      ],
      "execution_count": 73,
      "outputs": []
    },
    {
      "cell_type": "code",
      "metadata": {
        "id": "WRAQIjwy3CT4"
      },
      "source": [
        "X = np.insert(X,3,1,axis = 1)#Adding 1's to get the intercept too!"
      ],
      "execution_count": 74,
      "outputs": []
    },
    {
      "cell_type": "markdown",
      "metadata": {
        "id": "9pTx6OjG2UWN"
      },
      "source": [
        "By the above equation..."
      ]
    },
    {
      "cell_type": "code",
      "metadata": {
        "colab": {
          "base_uri": "https://localhost:8080/"
        },
        "id": "DMFaKVSg01g3",
        "outputId": "50d9fc44-8616-4346-f78a-b03b9930e744"
      },
      "source": [
        "XX = np.dot(X.transpose(),X)\n",
        "z = np.linalg.inv(XX)\n",
        "w = z@X.transpose()\n",
        "np.dot(w,y)"
      ],
      "execution_count": 75,
      "outputs": [
        {
          "output_type": "execute_result",
          "data": {
            "text/plain": [
              "array([ 0.32673324,  1.79968341,  0.21442554, 50.11143093])"
            ]
          },
          "metadata": {},
          "execution_count": 75
        }
      ]
    },
    {
      "cell_type": "markdown",
      "metadata": {
        "id": "Wl06il0KAdpk"
      },
      "source": [
        "Let's double check with a built-in call."
      ]
    },
    {
      "cell_type": "code",
      "metadata": {
        "colab": {
          "base_uri": "https://localhost:8080/"
        },
        "id": "fd2Igsko1jxo",
        "outputId": "18b4877a-a041-46ff-ec0b-248fabf12cc8"
      },
      "source": [
        "from sklearn.linear_model import LinearRegression\n",
        "linreg = LinearRegression()#define it as a regular linear regression\n",
        "linreg.fit(X,y)#This fits it!\n",
        "linreg.coef_"
      ],
      "execution_count": 76,
      "outputs": [
        {
          "output_type": "execute_result",
          "data": {
            "text/plain": [
              "array([0.32673324, 1.79968341, 0.21442554, 0.        ])"
            ]
          },
          "metadata": {},
          "execution_count": 76
        }
      ]
    },
    {
      "cell_type": "markdown",
      "metadata": {
        "id": "ibEU6KPNAkX1"
      },
      "source": [
        "The final 0 is just because it casts the intercet differently then we have, it is displayed next."
      ]
    },
    {
      "cell_type": "code",
      "metadata": {
        "colab": {
          "base_uri": "https://localhost:8080/"
        },
        "id": "rAlLXEkl2hBF",
        "outputId": "cb64acb6-5604-4867-8d36-b018fae2f3ed"
      },
      "source": [
        "linreg.intercept_"
      ],
      "execution_count": 77,
      "outputs": [
        {
          "output_type": "execute_result",
          "data": {
            "text/plain": [
              "50.11143092932841"
            ]
          },
          "metadata": {},
          "execution_count": 77
        }
      ]
    },
    {
      "cell_type": "markdown",
      "metadata": {
        "id": "pmiNH7xaAsPT"
      },
      "source": [
        "So we know the answer, great, let's try to estimate it!"
      ]
    },
    {
      "cell_type": "code",
      "metadata": {
        "colab": {
          "base_uri": "https://localhost:8080/"
        },
        "id": "CzfwhzoG44n7",
        "outputId": "e7d9993e-1af6-484b-b13d-a4a37a04e92e"
      },
      "source": [
        "b = np.random.normal(0,5,4)#intitialize\n",
        "w = 0.01 #a weight for the descent\n",
        "def grad(b):\n",
        "  return -2*(X.transpose()@(y-X@b))\n",
        "\n",
        "for i in range(10):\n",
        "  b = b - w*grad(b)\n",
        "  print(b)"
      ],
      "execution_count": 115,
      "outputs": [
        {
          "output_type": "stream",
          "name": "stdout",
          "text": [
            "[222312.94897922 296427.788518    21184.9772416    2315.69969114]\n",
            "[-1.75548436e+10 -2.63866655e+10 -4.88873770e+08 -1.76298991e+08]\n",
            "[1.49862903e+15 2.26271927e+15 3.64155313e+13 1.51526300e+13]\n",
            "[-1.28317963e+20 -1.93772107e+20 -3.09457384e+18 -1.29775237e+18]\n",
            "[1.09881749e+25 1.65932478e+25 2.64886480e+23 1.11130668e+23]\n",
            "[-9.40946702e+29 -1.42092416e+30 -2.26823996e+28 -9.51641818e+27]\n",
            "[8.05757789e+34 1.21677530e+35 1.94235172e+33 8.14916309e+32]\n",
            "[-6.89991911e+39 -1.04195718e+40 -1.66328750e+38 -6.97834596e+37]\n",
            "[5.90858498e+44 8.92255758e+44 1.42431749e+43 5.97574399e+42]\n",
            "[-5.05967909e+49 -7.64062431e+49 -1.21968110e+48 -5.11718915e+47]\n"
          ]
        }
      ]
    },
    {
      "cell_type": "code",
      "metadata": {
        "colab": {
          "base_uri": "https://localhost:8080/"
        },
        "id": "550kBj15A6VT",
        "outputId": "fe292a61-6cd7-4ed1-8648-ecb1d9678af0"
      },
      "source": [
        "b"
      ],
      "execution_count": 91,
      "outputs": [
        {
          "output_type": "execute_result",
          "data": {
            "text/plain": [
              "array([-2.71347038e+49, -4.09761318e+49, -6.54106413e+47, -2.74431262e+47])"
            ]
          },
          "metadata": {},
          "execution_count": 91
        }
      ]
    },
    {
      "cell_type": "code",
      "metadata": {
        "colab": {
          "base_uri": "https://localhost:8080/"
        },
        "id": "qQkqZvRsA9U8",
        "outputId": "e37fe3e7-f530-49aa-98cc-7ad81d1a1af3"
      },
      "source": [
        "b = 20\n",
        "w = 0.4\n",
        "for i in range(10):\n",
        "  b = b - w*2*b\n",
        "  print(b)"
      ],
      "execution_count": 113,
      "outputs": [
        {
          "output_type": "stream",
          "name": "stdout",
          "text": [
            "4.0\n",
            "0.7999999999999998\n",
            "0.15999999999999992\n",
            "0.03199999999999997\n",
            "0.0063999999999999925\n",
            "0.0012799999999999982\n",
            "0.0002559999999999995\n",
            "5.119999999999989e-05\n",
            "1.0239999999999976e-05\n",
            "2.0479999999999946e-06\n"
          ]
        }
      ]
    },
    {
      "cell_type": "code",
      "metadata": {
        "colab": {
          "base_uri": "https://localhost:8080/"
        },
        "id": "JTzh00KZDYMZ",
        "outputId": "baa0c7f9-31ae-4c02-a833-952ccd718ade"
      },
      "source": [
        "b\n"
      ],
      "execution_count": 108,
      "outputs": [
        {
          "output_type": "execute_result",
          "data": {
            "text/plain": [
              "3.0719999999999915e-07"
            ]
          },
          "metadata": {},
          "execution_count": 108
        }
      ]
    },
    {
      "cell_type": "code",
      "metadata": {
        "id": "wD88NT1aDgTI"
      },
      "source": [
        ""
      ],
      "execution_count": null,
      "outputs": []
    }
  ]
}