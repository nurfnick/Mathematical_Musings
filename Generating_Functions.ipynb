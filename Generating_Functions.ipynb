{
  "nbformat": 4,
  "nbformat_minor": 0,
  "metadata": {
    "colab": {
      "provenance": [],
      "authorship_tag": "ABX9TyNG9nT4yv7ukcWupf51dRcr",
      "include_colab_link": true
    },
    "kernelspec": {
      "name": "python3",
      "display_name": "Python 3"
    },
    "language_info": {
      "name": "python"
    }
  },
  "cells": [
    {
      "cell_type": "markdown",
      "metadata": {
        "id": "view-in-github",
        "colab_type": "text"
      },
      "source": [
        "<a href=\"https://colab.research.google.com/github/nurfnick/Mathematical_Musings/blob/main/Generating_Functions.ipynb\" target=\"_parent\"><img src=\"https://colab.research.google.com/assets/colab-badge.svg\" alt=\"Open In Colab\"/></a>"
      ]
    },
    {
      "cell_type": "markdown",
      "source": [
        "# Generating Functions\n",
        "\n",
        "I've been working through the Applied Discrete Structures book for my class.  I was curious about the following question and could not do it by hand.\n",
        "\n",
        ">Suppose that you roll a die ten times in a row and record the square of each number that you roll. How many ways could the sum of the\n",
        "squares of your rolls equal 40? What is the most common outcome?"
      ],
      "metadata": {
        "id": "_9Awxlt0WhG6"
      }
    },
    {
      "cell_type": "code",
      "execution_count": 1,
      "metadata": {
        "id": "WP7G8yz3Vvsm"
      },
      "outputs": [],
      "source": [
        "from sympy import *\n",
        "\n",
        "x= Symbol('x')\n",
        "\n",
        "f = (x+x**4+x**9+x**16+x**25+x**36)**10"
      ]
    },
    {
      "cell_type": "code",
      "source": [
        "f.expand()"
      ],
      "metadata": {
        "colab": {
          "base_uri": "https://localhost:8080/",
          "height": 614
        },
        "id": "7oY0iQ5QV-zq",
        "outputId": "49dced21-95d6-4afd-e840-c978434ff215"
      },
      "execution_count": 2,
      "outputs": [
        {
          "output_type": "execute_result",
          "data": {
            "text/plain": [
              "x**360 + 10*x**349 + 10*x**340 + 45*x**338 + 10*x**333 + 90*x**329 + 10*x**328 + 120*x**327 + 10*x**325 + 90*x**322 + 45*x**320 + 360*x**318 + 90*x**317 + 210*x**316 + 90*x**314 + 90*x**313 + 360*x**311 + 360*x**309 + 90*x**308 + 840*x**307 + 405*x**306 + 342*x**305 + 360*x**303 + 720*x**302 + 90*x**301 + 960*x**300 + 1350*x**298 + 720*x**297 + 1305*x**296 + 1200*x**295 + 930*x**294 + 450*x**293 + 840*x**292 + 2520*x**291 + 765*x**290 + 2100*x**289 + 360*x**288 + 3240*x**287 + 2880*x**286 + 1980*x**285 + 2520*x**284 + 2640*x**283 + 3240*x**282 + 1980*x**281 + 5250*x**280 + 3000*x**279 + 4500*x**278 + 2520*x**277 + 6030*x**276 + 7560*x**275 + 4980*x**274 + 5340*x**273 + 5085*x**272 + 10440*x**271 + 6660*x**270 + 7920*x**269 + 7980*x**268 + 10080*x**267 + 9540*x**266 + 10920*x**265 + 13980*x**264 + 13320*x**263 + 14070*x**262 + 9190*x**261 + 20412*x**260 + 19320*x**259 + 13590*x**258 + 16380*x**257 + 20940*x**256 + 25320*x**255 + 22680*x**254 + 22260*x**253 + 26130*x**252 + 33120*x**251 + 23941*x**250 + 30240*x**249 + 39420*x**248 + 32760*x**247 + 32550*x**246 + 36630*x**245 + 49140*x**244 + 48240*x**243 + 40320*x**242 + 44110*x**241 + 58680*x**240 + 60480*x**239 + 50400*x**238 + 57630*x**237 + 70650*x**236 + 69720*x**235 + 61330*x**234 + 76860*x**233 + 86355*x**232 + 80520*x**231 + 80010*x**230 + 85210*x**229 + 112440*x**228 + 103320*x**227 + 81700*x**226 + 111222*x**225 + 130500*x**224 + 114360*x**223 + 113820*x**222 + 130500*x**221 + 143220*x**220 + 147360*x**219 + 128565*x**218 + 155070*x**217 + 184410*x**216 + 151200*x**215 + 153090*x**214 + 189870*x**213 + 202230*x**212 + 184320*x**211 + 180270*x**210 + 213660*x**209 + 237915*x**208 + 215880*x**207 + 204120*x**206 + 245622*x**205 + 269940*x**204 + 241920*x**203 + 233265*x**202 + 293040*x**201 + 298917*x**200 + 259080*x**199 + 284280*x**198 + 316620*x**197 + 336510*x**196 + 310800*x**195 + 290160*x**194 + 367380*x**193 + 384450*x**192 + 315000*x**191 + 346920*x**190 + 411150*x**189 + 390960*x**188 + 374880*x**187 + 381510*x**186 + 429012*x**185 + 456480*x**184 + 389760*x**183 + 410220*x**182 + 495120*x**181 + 468940*x**180 + 418320*x**179 + 456915*x**178 + 520260*x**177 + 504630*x**176 + 457800*x**175 + 488760*x**174 + 548190*x**173 + 538440*x**172 + 486840*x**171 + 504252*x**170 + 598510*x**169 + 564570*x**168 + 483840*x**167 + 570450*x**166 + 610770*x**165 + 560700*x**164 + 548880*x**163 + 562680*x**162 + 630720*x**161 + 616081*x**160 + 523320*x**159 + 592920*x**158 + 673350*x**157 + 583530*x**156 + 557280*x**155 + 627570*x**154 + 642070*x**153 + 615510*x**152 + 569040*x**151 + 607140*x**150 + 675720*x**149 + 607960*x**148 + 556800*x**147 + 626265*x**146 + 666742*x**145 + 592875*x**144 + 554400*x**143 + 635340*x**142 + 643950*x**141 + 579690*x**140 + 570360*x**139 + 591360*x**138 + 636300*x**137 + 584955*x**136 + 509880*x**135 + 610830*x**134 + 622620*x**133 + 514710*x**132 + 537480*x**131 + 574647*x**130 + 562680*x**129 + 532440*x**128 + 491400*x**127 + 534120*x**126 + 564552*x**125 + 475650*x**124 + 455640*x**123 + 529875*x**122 + 502260*x**121 + 441360*x**120 + 446760*x**119 + 471810*x**118 + 466990*x**117 + 413100*x**116 + 402600*x**115 + 433740*x**114 + 429750*x**113 + 377460*x**112 + 350400*x**111 + 410760*x**110 + 384750*x**109 + 313830*x**108 + 350640*x**107 + 349660*x**106 + 327780*x**105 + 313650*x**104 + 277320*x**103 + 314580*x**102 + 309510*x**101 + 241962*x**100 + 260760*x**99 + 282420*x**98 + 244870*x**97 + 222000*x**96 + 227160*x**95 + 229260*x**94 + 217470*x**93 + 192240*x**92 + 183120*x**91 + 201211*x**90 + 183510*x**89 + 151350*x**88 + 159480*x**87 + 168210*x**86 + 147622*x**85 + 125640*x**84 + 136440*x**83 + 133045*x**82 + 115320*x**81 + 113490*x**80 + 97800*x**79 + 109500*x**78 + 104220*x**77 + 70890*x**76 + 91200*x**75 + 87705*x**74 + 66390*x**73 + 71440*x**72 + 63360*x**71 + 64770*x**70 + 59700*x**69 + 47340*x**68 + 50400*x**67 + 50070*x**66 + 43092*x**65 + 34845*x**64 + 38400*x**63 + 38160*x**62 + 28390*x**61 + 28020*x**60 + 27720*x**59 + 25125*x**58 + 22230*x**57 + 19620*x**56 + 18240*x**55 + 18570*x**54 + 16470*x**53 + 10600*x**52 + 14640*x**51 + 13257*x**50 + 7320*x**49 + 11160*x**48 + 7920*x**47 + 7080*x**46 + 8300*x**45 + 3780*x**44 + 6240*x**43 + 5430*x**42 + 2880*x**41 + 4186*x**40 + 2880*x**39 + 3150*x**38 + 2200*x**37 + 1560*x**36 + 2520*x**35 + 1015*x**34 + 1350*x**33 + 1260*x**32 + 480*x**31 + 1260*x**30 + 360*x**29 + 300*x**28 + 840*x**27 + 45*x**26 + 262*x**25 + 360*x**24 + 210*x**22 + 90*x**21 + 120*x**19 + 10*x**18 + 45*x**16 + 10*x**13 + x**10"
            ],
            "text/latex": "$\\displaystyle x^{360} + 10 x^{349} + 10 x^{340} + 45 x^{338} + 10 x^{333} + 90 x^{329} + 10 x^{328} + 120 x^{327} + 10 x^{325} + 90 x^{322} + 45 x^{320} + 360 x^{318} + 90 x^{317} + 210 x^{316} + 90 x^{314} + 90 x^{313} + 360 x^{311} + 360 x^{309} + 90 x^{308} + 840 x^{307} + 405 x^{306} + 342 x^{305} + 360 x^{303} + 720 x^{302} + 90 x^{301} + 960 x^{300} + 1350 x^{298} + 720 x^{297} + 1305 x^{296} + 1200 x^{295} + 930 x^{294} + 450 x^{293} + 840 x^{292} + 2520 x^{291} + 765 x^{290} + 2100 x^{289} + 360 x^{288} + 3240 x^{287} + 2880 x^{286} + 1980 x^{285} + 2520 x^{284} + 2640 x^{283} + 3240 x^{282} + 1980 x^{281} + 5250 x^{280} + 3000 x^{279} + 4500 x^{278} + 2520 x^{277} + 6030 x^{276} + 7560 x^{275} + 4980 x^{274} + 5340 x^{273} + 5085 x^{272} + 10440 x^{271} + 6660 x^{270} + 7920 x^{269} + 7980 x^{268} + 10080 x^{267} + 9540 x^{266} + 10920 x^{265} + 13980 x^{264} + 13320 x^{263} + 14070 x^{262} + 9190 x^{261} + 20412 x^{260} + 19320 x^{259} + 13590 x^{258} + 16380 x^{257} + 20940 x^{256} + 25320 x^{255} + 22680 x^{254} + 22260 x^{253} + 26130 x^{252} + 33120 x^{251} + 23941 x^{250} + 30240 x^{249} + 39420 x^{248} + 32760 x^{247} + 32550 x^{246} + 36630 x^{245} + 49140 x^{244} + 48240 x^{243} + 40320 x^{242} + 44110 x^{241} + 58680 x^{240} + 60480 x^{239} + 50400 x^{238} + 57630 x^{237} + 70650 x^{236} + 69720 x^{235} + 61330 x^{234} + 76860 x^{233} + 86355 x^{232} + 80520 x^{231} + 80010 x^{230} + 85210 x^{229} + 112440 x^{228} + 103320 x^{227} + 81700 x^{226} + 111222 x^{225} + 130500 x^{224} + 114360 x^{223} + 113820 x^{222} + 130500 x^{221} + 143220 x^{220} + 147360 x^{219} + 128565 x^{218} + 155070 x^{217} + 184410 x^{216} + 151200 x^{215} + 153090 x^{214} + 189870 x^{213} + 202230 x^{212} + 184320 x^{211} + 180270 x^{210} + 213660 x^{209} + 237915 x^{208} + 215880 x^{207} + 204120 x^{206} + 245622 x^{205} + 269940 x^{204} + 241920 x^{203} + 233265 x^{202} + 293040 x^{201} + 298917 x^{200} + 259080 x^{199} + 284280 x^{198} + 316620 x^{197} + 336510 x^{196} + 310800 x^{195} + 290160 x^{194} + 367380 x^{193} + 384450 x^{192} + 315000 x^{191} + 346920 x^{190} + 411150 x^{189} + 390960 x^{188} + 374880 x^{187} + 381510 x^{186} + 429012 x^{185} + 456480 x^{184} + 389760 x^{183} + 410220 x^{182} + 495120 x^{181} + 468940 x^{180} + 418320 x^{179} + 456915 x^{178} + 520260 x^{177} + 504630 x^{176} + 457800 x^{175} + 488760 x^{174} + 548190 x^{173} + 538440 x^{172} + 486840 x^{171} + 504252 x^{170} + 598510 x^{169} + 564570 x^{168} + 483840 x^{167} + 570450 x^{166} + 610770 x^{165} + 560700 x^{164} + 548880 x^{163} + 562680 x^{162} + 630720 x^{161} + 616081 x^{160} + 523320 x^{159} + 592920 x^{158} + 673350 x^{157} + 583530 x^{156} + 557280 x^{155} + 627570 x^{154} + 642070 x^{153} + 615510 x^{152} + 569040 x^{151} + 607140 x^{150} + 675720 x^{149} + 607960 x^{148} + 556800 x^{147} + 626265 x^{146} + 666742 x^{145} + 592875 x^{144} + 554400 x^{143} + 635340 x^{142} + 643950 x^{141} + 579690 x^{140} + 570360 x^{139} + 591360 x^{138} + 636300 x^{137} + 584955 x^{136} + 509880 x^{135} + 610830 x^{134} + 622620 x^{133} + 514710 x^{132} + 537480 x^{131} + 574647 x^{130} + 562680 x^{129} + 532440 x^{128} + 491400 x^{127} + 534120 x^{126} + 564552 x^{125} + 475650 x^{124} + 455640 x^{123} + 529875 x^{122} + 502260 x^{121} + 441360 x^{120} + 446760 x^{119} + 471810 x^{118} + 466990 x^{117} + 413100 x^{116} + 402600 x^{115} + 433740 x^{114} + 429750 x^{113} + 377460 x^{112} + 350400 x^{111} + 410760 x^{110} + 384750 x^{109} + 313830 x^{108} + 350640 x^{107} + 349660 x^{106} + 327780 x^{105} + 313650 x^{104} + 277320 x^{103} + 314580 x^{102} + 309510 x^{101} + 241962 x^{100} + 260760 x^{99} + 282420 x^{98} + 244870 x^{97} + 222000 x^{96} + 227160 x^{95} + 229260 x^{94} + 217470 x^{93} + 192240 x^{92} + 183120 x^{91} + 201211 x^{90} + 183510 x^{89} + 151350 x^{88} + 159480 x^{87} + 168210 x^{86} + 147622 x^{85} + 125640 x^{84} + 136440 x^{83} + 133045 x^{82} + 115320 x^{81} + 113490 x^{80} + 97800 x^{79} + 109500 x^{78} + 104220 x^{77} + 70890 x^{76} + 91200 x^{75} + 87705 x^{74} + 66390 x^{73} + 71440 x^{72} + 63360 x^{71} + 64770 x^{70} + 59700 x^{69} + 47340 x^{68} + 50400 x^{67} + 50070 x^{66} + 43092 x^{65} + 34845 x^{64} + 38400 x^{63} + 38160 x^{62} + 28390 x^{61} + 28020 x^{60} + 27720 x^{59} + 25125 x^{58} + 22230 x^{57} + 19620 x^{56} + 18240 x^{55} + 18570 x^{54} + 16470 x^{53} + 10600 x^{52} + 14640 x^{51} + 13257 x^{50} + 7320 x^{49} + 11160 x^{48} + 7920 x^{47} + 7080 x^{46} + 8300 x^{45} + 3780 x^{44} + 6240 x^{43} + 5430 x^{42} + 2880 x^{41} + 4186 x^{40} + 2880 x^{39} + 3150 x^{38} + 2200 x^{37} + 1560 x^{36} + 2520 x^{35} + 1015 x^{34} + 1350 x^{33} + 1260 x^{32} + 480 x^{31} + 1260 x^{30} + 360 x^{29} + 300 x^{28} + 840 x^{27} + 45 x^{26} + 262 x^{25} + 360 x^{24} + 210 x^{22} + 90 x^{21} + 120 x^{19} + 10 x^{18} + 45 x^{16} + 10 x^{13} + x^{10}$"
          },
          "metadata": {},
          "execution_count": 2
        }
      ]
    },
    {
      "cell_type": "markdown",
      "source": [
        "The number of times 40 will appear is the coefficient of $x^{40}$ or 4186.  As for the most frequent, I think it is 145 at a whopping 666 742 times.  Let's algorithmically check this"
      ],
      "metadata": {
        "id": "284bCsC5XGrY"
      }
    },
    {
      "cell_type": "code",
      "source": [
        "newf = f\n",
        "m = 0\n",
        "for i in range(360):\n",
        "  newf = diff(newf,x)\n",
        "  m = max(m,newf.subs(x,0)/factorial(i+1))"
      ],
      "metadata": {
        "colab": {
          "base_uri": "https://localhost:8080/",
          "height": 382
        },
        "id": "ee-_0aSJWHhC",
        "outputId": "7bfe6ac6-46fb-42b7-c4c9-4bc12e6f67ff"
      },
      "execution_count": 12,
      "outputs": [
        {
          "output_type": "error",
          "ename": "KeyboardInterrupt",
          "evalue": "ignored",
          "traceback": [
            "\u001b[0;31m---------------------------------------------------------------------------\u001b[0m",
            "\u001b[0;31mKeyboardInterrupt\u001b[0m                         Traceback (most recent call last)",
            "\u001b[0;32m<ipython-input-12-6f62af3b03c6>\u001b[0m in \u001b[0;36m<module>\u001b[0;34m\u001b[0m\n\u001b[1;32m      2\u001b[0m \u001b[0mm\u001b[0m \u001b[0;34m=\u001b[0m \u001b[0;36m0\u001b[0m\u001b[0;34m\u001b[0m\u001b[0;34m\u001b[0m\u001b[0m\n\u001b[1;32m      3\u001b[0m \u001b[0;32mfor\u001b[0m \u001b[0mi\u001b[0m \u001b[0;32min\u001b[0m \u001b[0mrange\u001b[0m\u001b[0;34m(\u001b[0m\u001b[0;36m360\u001b[0m\u001b[0;34m)\u001b[0m\u001b[0;34m:\u001b[0m\u001b[0;34m\u001b[0m\u001b[0;34m\u001b[0m\u001b[0m\n\u001b[0;32m----> 4\u001b[0;31m   \u001b[0mnewf\u001b[0m \u001b[0;34m=\u001b[0m \u001b[0mdiff\u001b[0m\u001b[0;34m(\u001b[0m\u001b[0mnewf\u001b[0m\u001b[0;34m,\u001b[0m\u001b[0mx\u001b[0m\u001b[0;34m)\u001b[0m\u001b[0;34m\u001b[0m\u001b[0;34m\u001b[0m\u001b[0m\n\u001b[0m\u001b[1;32m      5\u001b[0m   \u001b[0mm\u001b[0m \u001b[0;34m=\u001b[0m \u001b[0mmax\u001b[0m\u001b[0;34m(\u001b[0m\u001b[0mm\u001b[0m\u001b[0;34m,\u001b[0m\u001b[0mnewf\u001b[0m\u001b[0;34m.\u001b[0m\u001b[0msubs\u001b[0m\u001b[0;34m(\u001b[0m\u001b[0mx\u001b[0m\u001b[0;34m,\u001b[0m\u001b[0;36m0\u001b[0m\u001b[0;34m)\u001b[0m\u001b[0;34m/\u001b[0m\u001b[0mfactorial\u001b[0m\u001b[0;34m(\u001b[0m\u001b[0mi\u001b[0m\u001b[0;34m)\u001b[0m\u001b[0;34m)\u001b[0m\u001b[0;34m\u001b[0m\u001b[0;34m\u001b[0m\u001b[0m\n",
            "\u001b[0;32m/usr/local/lib/python3.7/dist-packages/sympy/core/function.py\u001b[0m in \u001b[0;36mdiff\u001b[0;34m(f, *symbols, **kwargs)\u001b[0m\n\u001b[1;32m   2490\u001b[0m     \"\"\"\n\u001b[1;32m   2491\u001b[0m     \u001b[0;32mif\u001b[0m \u001b[0mhasattr\u001b[0m\u001b[0;34m(\u001b[0m\u001b[0mf\u001b[0m\u001b[0;34m,\u001b[0m \u001b[0;34m'diff'\u001b[0m\u001b[0;34m)\u001b[0m\u001b[0;34m:\u001b[0m\u001b[0;34m\u001b[0m\u001b[0;34m\u001b[0m\u001b[0m\n\u001b[0;32m-> 2492\u001b[0;31m         \u001b[0;32mreturn\u001b[0m \u001b[0mf\u001b[0m\u001b[0;34m.\u001b[0m\u001b[0mdiff\u001b[0m\u001b[0;34m(\u001b[0m\u001b[0;34m*\u001b[0m\u001b[0msymbols\u001b[0m\u001b[0;34m,\u001b[0m \u001b[0;34m**\u001b[0m\u001b[0mkwargs\u001b[0m\u001b[0;34m)\u001b[0m\u001b[0;34m\u001b[0m\u001b[0;34m\u001b[0m\u001b[0m\n\u001b[0m\u001b[1;32m   2493\u001b[0m     \u001b[0mkwargs\u001b[0m\u001b[0;34m.\u001b[0m\u001b[0msetdefault\u001b[0m\u001b[0;34m(\u001b[0m\u001b[0;34m'evaluate'\u001b[0m\u001b[0;34m,\u001b[0m \u001b[0;32mTrue\u001b[0m\u001b[0;34m)\u001b[0m\u001b[0;34m\u001b[0m\u001b[0;34m\u001b[0m\u001b[0m\n\u001b[1;32m   2494\u001b[0m     \u001b[0;32mreturn\u001b[0m \u001b[0m_derivative_dispatch\u001b[0m\u001b[0;34m(\u001b[0m\u001b[0mf\u001b[0m\u001b[0;34m,\u001b[0m \u001b[0;34m*\u001b[0m\u001b[0msymbols\u001b[0m\u001b[0;34m,\u001b[0m \u001b[0;34m**\u001b[0m\u001b[0mkwargs\u001b[0m\u001b[0;34m)\u001b[0m\u001b[0;34m\u001b[0m\u001b[0;34m\u001b[0m\u001b[0m\n",
            "\u001b[0;32m/usr/local/lib/python3.7/dist-packages/sympy/core/expr.py\u001b[0m in \u001b[0;36mdiff\u001b[0;34m(self, *symbols, **assumptions)\u001b[0m\n\u001b[1;32m   3472\u001b[0m     \u001b[0;32mdef\u001b[0m \u001b[0mdiff\u001b[0m\u001b[0;34m(\u001b[0m\u001b[0mself\u001b[0m\u001b[0;34m,\u001b[0m \u001b[0;34m*\u001b[0m\u001b[0msymbols\u001b[0m\u001b[0;34m,\u001b[0m \u001b[0;34m**\u001b[0m\u001b[0massumptions\u001b[0m\u001b[0;34m)\u001b[0m\u001b[0;34m:\u001b[0m\u001b[0;34m\u001b[0m\u001b[0;34m\u001b[0m\u001b[0m\n\u001b[1;32m   3473\u001b[0m         \u001b[0massumptions\u001b[0m\u001b[0;34m.\u001b[0m\u001b[0msetdefault\u001b[0m\u001b[0;34m(\u001b[0m\u001b[0;34m\"evaluate\"\u001b[0m\u001b[0;34m,\u001b[0m \u001b[0;32mTrue\u001b[0m\u001b[0;34m)\u001b[0m\u001b[0;34m\u001b[0m\u001b[0;34m\u001b[0m\u001b[0m\n\u001b[0;32m-> 3474\u001b[0;31m         \u001b[0;32mreturn\u001b[0m \u001b[0m_derivative_dispatch\u001b[0m\u001b[0;34m(\u001b[0m\u001b[0mself\u001b[0m\u001b[0;34m,\u001b[0m \u001b[0;34m*\u001b[0m\u001b[0msymbols\u001b[0m\u001b[0;34m,\u001b[0m \u001b[0;34m**\u001b[0m\u001b[0massumptions\u001b[0m\u001b[0;34m)\u001b[0m\u001b[0;34m\u001b[0m\u001b[0;34m\u001b[0m\u001b[0m\n\u001b[0m\u001b[1;32m   3475\u001b[0m \u001b[0;34m\u001b[0m\u001b[0m\n\u001b[1;32m   3476\u001b[0m     \u001b[0;31m###########################################################################\u001b[0m\u001b[0;34m\u001b[0m\u001b[0;34m\u001b[0m\u001b[0;34m\u001b[0m\u001b[0m\n",
            "\u001b[0;32m/usr/local/lib/python3.7/dist-packages/sympy/core/function.py\u001b[0m in \u001b[0;36m_derivative_dispatch\u001b[0;34m(expr, *variables, **kwargs)\u001b[0m\n\u001b[1;32m   1940\u001b[0m         \u001b[0;32mfrom\u001b[0m \u001b[0msympy\u001b[0m\u001b[0;34m.\u001b[0m\u001b[0mtensor\u001b[0m\u001b[0;34m.\u001b[0m\u001b[0marray\u001b[0m\u001b[0;34m.\u001b[0m\u001b[0marray_derivatives\u001b[0m \u001b[0;32mimport\u001b[0m \u001b[0mArrayDerivative\u001b[0m\u001b[0;34m\u001b[0m\u001b[0;34m\u001b[0m\u001b[0m\n\u001b[1;32m   1941\u001b[0m         \u001b[0;32mreturn\u001b[0m \u001b[0mArrayDerivative\u001b[0m\u001b[0;34m(\u001b[0m\u001b[0mexpr\u001b[0m\u001b[0;34m,\u001b[0m \u001b[0;34m*\u001b[0m\u001b[0mvariables\u001b[0m\u001b[0;34m,\u001b[0m \u001b[0;34m**\u001b[0m\u001b[0mkwargs\u001b[0m\u001b[0;34m)\u001b[0m\u001b[0;34m\u001b[0m\u001b[0;34m\u001b[0m\u001b[0m\n\u001b[0;32m-> 1942\u001b[0;31m     \u001b[0;32mreturn\u001b[0m \u001b[0mDerivative\u001b[0m\u001b[0;34m(\u001b[0m\u001b[0mexpr\u001b[0m\u001b[0;34m,\u001b[0m \u001b[0;34m*\u001b[0m\u001b[0mvariables\u001b[0m\u001b[0;34m,\u001b[0m \u001b[0;34m**\u001b[0m\u001b[0mkwargs\u001b[0m\u001b[0;34m)\u001b[0m\u001b[0;34m\u001b[0m\u001b[0;34m\u001b[0m\u001b[0m\n\u001b[0m\u001b[1;32m   1943\u001b[0m \u001b[0;34m\u001b[0m\u001b[0m\n\u001b[1;32m   1944\u001b[0m \u001b[0;34m\u001b[0m\u001b[0m\n",
            "\u001b[0;32m/usr/local/lib/python3.7/dist-packages/sympy/core/function.py\u001b[0m in \u001b[0;36m__new__\u001b[0;34m(cls, expr, *variables, **kwargs)\u001b[0m\n\u001b[1;32m   1389\u001b[0m             \u001b[0;31m# derivatives.\u001b[0m\u001b[0;34m\u001b[0m\u001b[0;34m\u001b[0m\u001b[0;34m\u001b[0m\u001b[0m\n\u001b[1;32m   1390\u001b[0m             \u001b[0mzero\u001b[0m \u001b[0;34m=\u001b[0m \u001b[0;32mFalse\u001b[0m\u001b[0;34m\u001b[0m\u001b[0;34m\u001b[0m\u001b[0m\n\u001b[0;32m-> 1391\u001b[0;31m             \u001b[0mfree\u001b[0m \u001b[0;34m=\u001b[0m \u001b[0mexpr\u001b[0m\u001b[0;34m.\u001b[0m\u001b[0mfree_symbols\u001b[0m\u001b[0;34m\u001b[0m\u001b[0;34m\u001b[0m\u001b[0m\n\u001b[0m\u001b[1;32m   1392\u001b[0m             \u001b[0;32mfor\u001b[0m \u001b[0mv\u001b[0m\u001b[0;34m,\u001b[0m \u001b[0mc\u001b[0m \u001b[0;32min\u001b[0m \u001b[0mvariable_count\u001b[0m\u001b[0;34m:\u001b[0m\u001b[0;34m\u001b[0m\u001b[0;34m\u001b[0m\u001b[0m\n\u001b[1;32m   1393\u001b[0m                 \u001b[0mvfree\u001b[0m \u001b[0;34m=\u001b[0m \u001b[0mv\u001b[0m\u001b[0;34m.\u001b[0m\u001b[0mfree_symbols\u001b[0m\u001b[0;34m\u001b[0m\u001b[0;34m\u001b[0m\u001b[0m\n",
            "\u001b[0;32m/usr/local/lib/python3.7/dist-packages/sympy/core/basic.py\u001b[0m in \u001b[0;36mfree_symbols\u001b[0;34m(self)\u001b[0m\n\u001b[1;32m    505\u001b[0m         \u001b[0mAny\u001b[0m \u001b[0mother\u001b[0m \u001b[0mmethod\u001b[0m \u001b[0mthat\u001b[0m \u001b[0muses\u001b[0m \u001b[0mbound\u001b[0m \u001b[0mvariables\u001b[0m \u001b[0mshould\u001b[0m \u001b[0mimplement\u001b[0m \u001b[0ma\u001b[0m\u001b[0;34m\u001b[0m\u001b[0;34m\u001b[0m\u001b[0m\n\u001b[1;32m    506\u001b[0m         free_symbols method.\"\"\"\n\u001b[0;32m--> 507\u001b[0;31m         \u001b[0;32mreturn\u001b[0m \u001b[0mset\u001b[0m\u001b[0;34m(\u001b[0m\u001b[0;34m)\u001b[0m\u001b[0;34m.\u001b[0m\u001b[0munion\u001b[0m\u001b[0;34m(\u001b[0m\u001b[0;34m*\u001b[0m\u001b[0;34m[\u001b[0m\u001b[0ma\u001b[0m\u001b[0;34m.\u001b[0m\u001b[0mfree_symbols\u001b[0m \u001b[0;32mfor\u001b[0m \u001b[0ma\u001b[0m \u001b[0;32min\u001b[0m \u001b[0mself\u001b[0m\u001b[0;34m.\u001b[0m\u001b[0margs\u001b[0m\u001b[0;34m]\u001b[0m\u001b[0;34m)\u001b[0m\u001b[0;34m\u001b[0m\u001b[0;34m\u001b[0m\u001b[0m\n\u001b[0m\u001b[1;32m    508\u001b[0m \u001b[0;34m\u001b[0m\u001b[0m\n\u001b[1;32m    509\u001b[0m     \u001b[0;34m@\u001b[0m\u001b[0mproperty\u001b[0m\u001b[0;34m\u001b[0m\u001b[0;34m\u001b[0m\u001b[0m\n",
            "\u001b[0;32m/usr/local/lib/python3.7/dist-packages/sympy/core/basic.py\u001b[0m in \u001b[0;36m<listcomp>\u001b[0;34m(.0)\u001b[0m\n\u001b[1;32m    505\u001b[0m         \u001b[0mAny\u001b[0m \u001b[0mother\u001b[0m \u001b[0mmethod\u001b[0m \u001b[0mthat\u001b[0m \u001b[0muses\u001b[0m \u001b[0mbound\u001b[0m \u001b[0mvariables\u001b[0m \u001b[0mshould\u001b[0m \u001b[0mimplement\u001b[0m \u001b[0ma\u001b[0m\u001b[0;34m\u001b[0m\u001b[0;34m\u001b[0m\u001b[0m\n\u001b[1;32m    506\u001b[0m         free_symbols method.\"\"\"\n\u001b[0;32m--> 507\u001b[0;31m         \u001b[0;32mreturn\u001b[0m \u001b[0mset\u001b[0m\u001b[0;34m(\u001b[0m\u001b[0;34m)\u001b[0m\u001b[0;34m.\u001b[0m\u001b[0munion\u001b[0m\u001b[0;34m(\u001b[0m\u001b[0;34m*\u001b[0m\u001b[0;34m[\u001b[0m\u001b[0ma\u001b[0m\u001b[0;34m.\u001b[0m\u001b[0mfree_symbols\u001b[0m \u001b[0;32mfor\u001b[0m \u001b[0ma\u001b[0m \u001b[0;32min\u001b[0m \u001b[0mself\u001b[0m\u001b[0;34m.\u001b[0m\u001b[0margs\u001b[0m\u001b[0;34m]\u001b[0m\u001b[0;34m)\u001b[0m\u001b[0;34m\u001b[0m\u001b[0;34m\u001b[0m\u001b[0m\n\u001b[0m\u001b[1;32m    508\u001b[0m \u001b[0;34m\u001b[0m\u001b[0m\n\u001b[1;32m    509\u001b[0m     \u001b[0;34m@\u001b[0m\u001b[0mproperty\u001b[0m\u001b[0;34m\u001b[0m\u001b[0;34m\u001b[0m\u001b[0m\n",
            "\u001b[0;32m/usr/local/lib/python3.7/dist-packages/sympy/core/basic.py\u001b[0m in \u001b[0;36mfree_symbols\u001b[0;34m(self)\u001b[0m\n\u001b[1;32m    505\u001b[0m         \u001b[0mAny\u001b[0m \u001b[0mother\u001b[0m \u001b[0mmethod\u001b[0m \u001b[0mthat\u001b[0m \u001b[0muses\u001b[0m \u001b[0mbound\u001b[0m \u001b[0mvariables\u001b[0m \u001b[0mshould\u001b[0m \u001b[0mimplement\u001b[0m \u001b[0ma\u001b[0m\u001b[0;34m\u001b[0m\u001b[0;34m\u001b[0m\u001b[0m\n\u001b[1;32m    506\u001b[0m         free_symbols method.\"\"\"\n\u001b[0;32m--> 507\u001b[0;31m         \u001b[0;32mreturn\u001b[0m \u001b[0mset\u001b[0m\u001b[0;34m(\u001b[0m\u001b[0;34m)\u001b[0m\u001b[0;34m.\u001b[0m\u001b[0munion\u001b[0m\u001b[0;34m(\u001b[0m\u001b[0;34m*\u001b[0m\u001b[0;34m[\u001b[0m\u001b[0ma\u001b[0m\u001b[0;34m.\u001b[0m\u001b[0mfree_symbols\u001b[0m \u001b[0;32mfor\u001b[0m \u001b[0ma\u001b[0m \u001b[0;32min\u001b[0m \u001b[0mself\u001b[0m\u001b[0;34m.\u001b[0m\u001b[0margs\u001b[0m\u001b[0;34m]\u001b[0m\u001b[0;34m)\u001b[0m\u001b[0;34m\u001b[0m\u001b[0;34m\u001b[0m\u001b[0m\n\u001b[0m\u001b[1;32m    508\u001b[0m \u001b[0;34m\u001b[0m\u001b[0m\n\u001b[1;32m    509\u001b[0m     \u001b[0;34m@\u001b[0m\u001b[0mproperty\u001b[0m\u001b[0;34m\u001b[0m\u001b[0;34m\u001b[0m\u001b[0m\n",
            "\u001b[0;32m/usr/local/lib/python3.7/dist-packages/sympy/core/basic.py\u001b[0m in \u001b[0;36m<listcomp>\u001b[0;34m(.0)\u001b[0m\n\u001b[1;32m    505\u001b[0m         \u001b[0mAny\u001b[0m \u001b[0mother\u001b[0m \u001b[0mmethod\u001b[0m \u001b[0mthat\u001b[0m \u001b[0muses\u001b[0m \u001b[0mbound\u001b[0m \u001b[0mvariables\u001b[0m \u001b[0mshould\u001b[0m \u001b[0mimplement\u001b[0m \u001b[0ma\u001b[0m\u001b[0;34m\u001b[0m\u001b[0;34m\u001b[0m\u001b[0m\n\u001b[1;32m    506\u001b[0m         free_symbols method.\"\"\"\n\u001b[0;32m--> 507\u001b[0;31m         \u001b[0;32mreturn\u001b[0m \u001b[0mset\u001b[0m\u001b[0;34m(\u001b[0m\u001b[0;34m)\u001b[0m\u001b[0;34m.\u001b[0m\u001b[0munion\u001b[0m\u001b[0;34m(\u001b[0m\u001b[0;34m*\u001b[0m\u001b[0;34m[\u001b[0m\u001b[0ma\u001b[0m\u001b[0;34m.\u001b[0m\u001b[0mfree_symbols\u001b[0m \u001b[0;32mfor\u001b[0m \u001b[0ma\u001b[0m \u001b[0;32min\u001b[0m \u001b[0mself\u001b[0m\u001b[0;34m.\u001b[0m\u001b[0margs\u001b[0m\u001b[0;34m]\u001b[0m\u001b[0;34m)\u001b[0m\u001b[0;34m\u001b[0m\u001b[0;34m\u001b[0m\u001b[0m\n\u001b[0m\u001b[1;32m    508\u001b[0m \u001b[0;34m\u001b[0m\u001b[0m\n\u001b[1;32m    509\u001b[0m     \u001b[0;34m@\u001b[0m\u001b[0mproperty\u001b[0m\u001b[0;34m\u001b[0m\u001b[0;34m\u001b[0m\u001b[0m\n",
            "\u001b[0;32m/usr/local/lib/python3.7/dist-packages/sympy/core/basic.py\u001b[0m in \u001b[0;36mfree_symbols\u001b[0;34m(self)\u001b[0m\n\u001b[1;32m    505\u001b[0m         \u001b[0mAny\u001b[0m \u001b[0mother\u001b[0m \u001b[0mmethod\u001b[0m \u001b[0mthat\u001b[0m \u001b[0muses\u001b[0m \u001b[0mbound\u001b[0m \u001b[0mvariables\u001b[0m \u001b[0mshould\u001b[0m \u001b[0mimplement\u001b[0m \u001b[0ma\u001b[0m\u001b[0;34m\u001b[0m\u001b[0;34m\u001b[0m\u001b[0m\n\u001b[1;32m    506\u001b[0m         free_symbols method.\"\"\"\n\u001b[0;32m--> 507\u001b[0;31m         \u001b[0;32mreturn\u001b[0m \u001b[0mset\u001b[0m\u001b[0;34m(\u001b[0m\u001b[0;34m)\u001b[0m\u001b[0;34m.\u001b[0m\u001b[0munion\u001b[0m\u001b[0;34m(\u001b[0m\u001b[0;34m*\u001b[0m\u001b[0;34m[\u001b[0m\u001b[0ma\u001b[0m\u001b[0;34m.\u001b[0m\u001b[0mfree_symbols\u001b[0m \u001b[0;32mfor\u001b[0m \u001b[0ma\u001b[0m \u001b[0;32min\u001b[0m \u001b[0mself\u001b[0m\u001b[0;34m.\u001b[0m\u001b[0margs\u001b[0m\u001b[0;34m]\u001b[0m\u001b[0;34m)\u001b[0m\u001b[0;34m\u001b[0m\u001b[0;34m\u001b[0m\u001b[0m\n\u001b[0m\u001b[1;32m    508\u001b[0m \u001b[0;34m\u001b[0m\u001b[0m\n\u001b[1;32m    509\u001b[0m     \u001b[0;34m@\u001b[0m\u001b[0mproperty\u001b[0m\u001b[0;34m\u001b[0m\u001b[0;34m\u001b[0m\u001b[0m\n",
            "\u001b[0;32m/usr/local/lib/python3.7/dist-packages/sympy/core/basic.py\u001b[0m in \u001b[0;36m<listcomp>\u001b[0;34m(.0)\u001b[0m\n\u001b[1;32m    505\u001b[0m         \u001b[0mAny\u001b[0m \u001b[0mother\u001b[0m \u001b[0mmethod\u001b[0m \u001b[0mthat\u001b[0m \u001b[0muses\u001b[0m \u001b[0mbound\u001b[0m \u001b[0mvariables\u001b[0m \u001b[0mshould\u001b[0m \u001b[0mimplement\u001b[0m \u001b[0ma\u001b[0m\u001b[0;34m\u001b[0m\u001b[0;34m\u001b[0m\u001b[0m\n\u001b[1;32m    506\u001b[0m         free_symbols method.\"\"\"\n\u001b[0;32m--> 507\u001b[0;31m         \u001b[0;32mreturn\u001b[0m \u001b[0mset\u001b[0m\u001b[0;34m(\u001b[0m\u001b[0;34m)\u001b[0m\u001b[0;34m.\u001b[0m\u001b[0munion\u001b[0m\u001b[0;34m(\u001b[0m\u001b[0;34m*\u001b[0m\u001b[0;34m[\u001b[0m\u001b[0ma\u001b[0m\u001b[0;34m.\u001b[0m\u001b[0mfree_symbols\u001b[0m \u001b[0;32mfor\u001b[0m \u001b[0ma\u001b[0m \u001b[0;32min\u001b[0m \u001b[0mself\u001b[0m\u001b[0;34m.\u001b[0m\u001b[0margs\u001b[0m\u001b[0;34m]\u001b[0m\u001b[0;34m)\u001b[0m\u001b[0;34m\u001b[0m\u001b[0;34m\u001b[0m\u001b[0m\n\u001b[0m\u001b[1;32m    508\u001b[0m \u001b[0;34m\u001b[0m\u001b[0m\n\u001b[1;32m    509\u001b[0m     \u001b[0;34m@\u001b[0m\u001b[0mproperty\u001b[0m\u001b[0;34m\u001b[0m\u001b[0;34m\u001b[0m\u001b[0m\n",
            "\u001b[0;32m/usr/local/lib/python3.7/dist-packages/sympy/core/basic.py\u001b[0m in \u001b[0;36mfree_symbols\u001b[0;34m(self)\u001b[0m\n\u001b[1;32m    505\u001b[0m         \u001b[0mAny\u001b[0m \u001b[0mother\u001b[0m \u001b[0mmethod\u001b[0m \u001b[0mthat\u001b[0m \u001b[0muses\u001b[0m \u001b[0mbound\u001b[0m \u001b[0mvariables\u001b[0m \u001b[0mshould\u001b[0m \u001b[0mimplement\u001b[0m \u001b[0ma\u001b[0m\u001b[0;34m\u001b[0m\u001b[0;34m\u001b[0m\u001b[0m\n\u001b[1;32m    506\u001b[0m         free_symbols method.\"\"\"\n\u001b[0;32m--> 507\u001b[0;31m         \u001b[0;32mreturn\u001b[0m \u001b[0mset\u001b[0m\u001b[0;34m(\u001b[0m\u001b[0;34m)\u001b[0m\u001b[0;34m.\u001b[0m\u001b[0munion\u001b[0m\u001b[0;34m(\u001b[0m\u001b[0;34m*\u001b[0m\u001b[0;34m[\u001b[0m\u001b[0ma\u001b[0m\u001b[0;34m.\u001b[0m\u001b[0mfree_symbols\u001b[0m \u001b[0;32mfor\u001b[0m \u001b[0ma\u001b[0m \u001b[0;32min\u001b[0m \u001b[0mself\u001b[0m\u001b[0;34m.\u001b[0m\u001b[0margs\u001b[0m\u001b[0;34m]\u001b[0m\u001b[0;34m)\u001b[0m\u001b[0;34m\u001b[0m\u001b[0;34m\u001b[0m\u001b[0m\n\u001b[0m\u001b[1;32m    508\u001b[0m \u001b[0;34m\u001b[0m\u001b[0m\n\u001b[1;32m    509\u001b[0m     \u001b[0;34m@\u001b[0m\u001b[0mproperty\u001b[0m\u001b[0;34m\u001b[0m\u001b[0;34m\u001b[0m\u001b[0m\n",
            "\u001b[0;32m/usr/local/lib/python3.7/dist-packages/sympy/core/basic.py\u001b[0m in \u001b[0;36m<listcomp>\u001b[0;34m(.0)\u001b[0m\n\u001b[1;32m    505\u001b[0m         \u001b[0mAny\u001b[0m \u001b[0mother\u001b[0m \u001b[0mmethod\u001b[0m \u001b[0mthat\u001b[0m \u001b[0muses\u001b[0m \u001b[0mbound\u001b[0m \u001b[0mvariables\u001b[0m \u001b[0mshould\u001b[0m \u001b[0mimplement\u001b[0m \u001b[0ma\u001b[0m\u001b[0;34m\u001b[0m\u001b[0;34m\u001b[0m\u001b[0m\n\u001b[1;32m    506\u001b[0m         free_symbols method.\"\"\"\n\u001b[0;32m--> 507\u001b[0;31m         \u001b[0;32mreturn\u001b[0m \u001b[0mset\u001b[0m\u001b[0;34m(\u001b[0m\u001b[0;34m)\u001b[0m\u001b[0;34m.\u001b[0m\u001b[0munion\u001b[0m\u001b[0;34m(\u001b[0m\u001b[0;34m*\u001b[0m\u001b[0;34m[\u001b[0m\u001b[0ma\u001b[0m\u001b[0;34m.\u001b[0m\u001b[0mfree_symbols\u001b[0m \u001b[0;32mfor\u001b[0m \u001b[0ma\u001b[0m \u001b[0;32min\u001b[0m \u001b[0mself\u001b[0m\u001b[0;34m.\u001b[0m\u001b[0margs\u001b[0m\u001b[0;34m]\u001b[0m\u001b[0;34m)\u001b[0m\u001b[0;34m\u001b[0m\u001b[0;34m\u001b[0m\u001b[0m\n\u001b[0m\u001b[1;32m    508\u001b[0m \u001b[0;34m\u001b[0m\u001b[0m\n\u001b[1;32m    509\u001b[0m     \u001b[0;34m@\u001b[0m\u001b[0mproperty\u001b[0m\u001b[0;34m\u001b[0m\u001b[0;34m\u001b[0m\u001b[0m\n",
            "\u001b[0;32m/usr/local/lib/python3.7/dist-packages/sympy/core/basic.py\u001b[0m in \u001b[0;36mfree_symbols\u001b[0;34m(self)\u001b[0m\n\u001b[1;32m    505\u001b[0m         \u001b[0mAny\u001b[0m \u001b[0mother\u001b[0m \u001b[0mmethod\u001b[0m \u001b[0mthat\u001b[0m \u001b[0muses\u001b[0m \u001b[0mbound\u001b[0m \u001b[0mvariables\u001b[0m \u001b[0mshould\u001b[0m \u001b[0mimplement\u001b[0m \u001b[0ma\u001b[0m\u001b[0;34m\u001b[0m\u001b[0;34m\u001b[0m\u001b[0m\n\u001b[1;32m    506\u001b[0m         free_symbols method.\"\"\"\n\u001b[0;32m--> 507\u001b[0;31m         \u001b[0;32mreturn\u001b[0m \u001b[0mset\u001b[0m\u001b[0;34m(\u001b[0m\u001b[0;34m)\u001b[0m\u001b[0;34m.\u001b[0m\u001b[0munion\u001b[0m\u001b[0;34m(\u001b[0m\u001b[0;34m*\u001b[0m\u001b[0;34m[\u001b[0m\u001b[0ma\u001b[0m\u001b[0;34m.\u001b[0m\u001b[0mfree_symbols\u001b[0m \u001b[0;32mfor\u001b[0m \u001b[0ma\u001b[0m \u001b[0;32min\u001b[0m \u001b[0mself\u001b[0m\u001b[0;34m.\u001b[0m\u001b[0margs\u001b[0m\u001b[0;34m]\u001b[0m\u001b[0;34m)\u001b[0m\u001b[0;34m\u001b[0m\u001b[0;34m\u001b[0m\u001b[0m\n\u001b[0m\u001b[1;32m    508\u001b[0m \u001b[0;34m\u001b[0m\u001b[0m\n\u001b[1;32m    509\u001b[0m     \u001b[0;34m@\u001b[0m\u001b[0mproperty\u001b[0m\u001b[0;34m\u001b[0m\u001b[0;34m\u001b[0m\u001b[0m\n",
            "\u001b[0;31mKeyboardInterrupt\u001b[0m: "
          ]
        }
      ]
    },
    {
      "cell_type": "code",
      "source": [
        "m"
      ],
      "metadata": {
        "colab": {
          "base_uri": "https://localhost:8080/",
          "height": 37
        },
        "id": "XYOBtHgTZW-A",
        "outputId": "261ad129-5ba4-42b4-9163-db76a302bcfa"
      },
      "execution_count": 13,
      "outputs": [
        {
          "output_type": "execute_result",
          "data": {
            "text/plain": [
              "130"
            ],
            "text/latex": "$\\displaystyle 130$"
          },
          "metadata": {},
          "execution_count": 13
        }
      ]
    },
    {
      "cell_type": "markdown",
      "source": [
        "This runs incredibly slow.  360 derivatives is asking for a lot...  `sympy` should have a built-in..."
      ],
      "metadata": {
        "id": "uZAxAsG2ZJlX"
      }
    },
    {
      "cell_type": "code",
      "source": [
        "coeff = Poly(f).all_coeffs()\n",
        "\n",
        "max(coeff)"
      ],
      "metadata": {
        "colab": {
          "base_uri": "https://localhost:8080/",
          "height": 37
        },
        "id": "4OILnO2yZ8Bg",
        "outputId": "dbaba5be-4839-4ea7-d37d-cb287a69c245"
      },
      "execution_count": 16,
      "outputs": [
        {
          "output_type": "execute_result",
          "data": {
            "text/plain": [
              "675720"
            ],
            "text/latex": "$\\displaystyle 675720$"
          },
          "metadata": {},
          "execution_count": 16
        }
      ]
    },
    {
      "cell_type": "markdown",
      "source": [
        "Looks like I didn't find the max!  What position is it in?"
      ],
      "metadata": {
        "id": "5u2Ey5D6aLpD"
      }
    },
    {
      "cell_type": "code",
      "source": [
        "coeff.index(max(coeff))"
      ],
      "metadata": {
        "colab": {
          "base_uri": "https://localhost:8080/"
        },
        "id": "6T7q0s2daBSK",
        "outputId": "8327db84-9678-4cd8-f441-5de31d9ab372"
      },
      "execution_count": 17,
      "outputs": [
        {
          "output_type": "execute_result",
          "data": {
            "text/plain": [
              "211"
            ]
          },
          "metadata": {},
          "execution_count": 17
        }
      ]
    },
    {
      "cell_type": "markdown",
      "source": [
        "211 is not the power though, just the position in the list.  The list has been reversed."
      ],
      "metadata": {
        "id": "194qav5_anvB"
      }
    },
    {
      "cell_type": "code",
      "source": [
        "360-211"
      ],
      "metadata": {
        "colab": {
          "base_uri": "https://localhost:8080/"
        },
        "id": "WgNqqL-makn3",
        "outputId": "8ddd27de-3ae7-4695-d1fb-cfdfe6a7208a"
      },
      "execution_count": 19,
      "outputs": [
        {
          "output_type": "execute_result",
          "data": {
            "text/plain": [
              "149"
            ]
          },
          "metadata": {},
          "execution_count": 19
        }
      ]
    },
    {
      "cell_type": "markdown",
      "source": [
        "I wonder if I can gain insight as to why this is the most common number to appear in the list"
      ],
      "metadata": {
        "id": "r1XvSEIka-jW"
      }
    },
    {
      "cell_type": "code",
      "source": [
        "sum = 0\n",
        "for i in range(1,7):\n",
        "  sum += i**2"
      ],
      "metadata": {
        "id": "dMitMWcGazWc"
      },
      "execution_count": 20,
      "outputs": []
    },
    {
      "cell_type": "code",
      "source": [
        "sum/6*10"
      ],
      "metadata": {
        "colab": {
          "base_uri": "https://localhost:8080/"
        },
        "id": "eJsFjQGrbOs2",
        "outputId": "d61d6436-a521-40a2-b773-1fe871072702"
      },
      "execution_count": 24,
      "outputs": [
        {
          "output_type": "execute_result",
          "data": {
            "text/plain": [
              "151.66666666666666"
            ]
          },
          "metadata": {},
          "execution_count": 24
        }
      ]
    },
    {
      "cell_type": "markdown",
      "source": [
        "I'd actually expect the mean to have the highest concentration of options but I should keep in mind that this is not normally distributed..."
      ],
      "metadata": {
        "id": "uLlZWbsEbelA"
      }
    },
    {
      "cell_type": "code",
      "source": [],
      "metadata": {
        "id": "3xR_zSk4bVHT"
      },
      "execution_count": null,
      "outputs": []
    }
  ]
}