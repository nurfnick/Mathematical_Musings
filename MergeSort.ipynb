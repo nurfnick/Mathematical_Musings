{
  "nbformat": 4,
  "nbformat_minor": 0,
  "metadata": {
    "colab": {
      "name": "Untitled90.ipynb",
      "provenance": [],
      "authorship_tag": "ABX9TyOHRG+C5HZdQFZGod8yzBEV",
      "include_colab_link": true
    },
    "kernelspec": {
      "name": "python3",
      "display_name": "Python 3"
    },
    "language_info": {
      "name": "python"
    }
  },
  "cells": [
    {
      "cell_type": "markdown",
      "metadata": {
        "id": "view-in-github",
        "colab_type": "text"
      },
      "source": [
        "<a href=\"https://colab.research.google.com/github/nurfnick/Mathematical_Musings/blob/main/MergeSort.ipynb\" target=\"_parent\"><img src=\"https://colab.research.google.com/assets/colab-badge.svg\" alt=\"Open In Colab\"/></a>"
      ]
    },
    {
      "cell_type": "markdown",
      "source": [
        "# Merge Sort Implementation"
      ],
      "metadata": {
        "id": "tBBrY7HN6CCZ"
      }
    },
    {
      "cell_type": "code",
      "execution_count": 38,
      "metadata": {
        "id": "hB2CP8nC6BQw"
      },
      "outputs": [],
      "source": [
        "lst = [10,4,7,8,14,12,9,10,13]"
      ]
    },
    {
      "cell_type": "code",
      "source": [
        "len(lst)"
      ],
      "metadata": {
        "colab": {
          "base_uri": "https://localhost:8080/"
        },
        "id": "X3CkT9dM6NIH",
        "outputId": "4c5f48bf-3f38-4a9c-b65d-ae265e756048"
      },
      "execution_count": 4,
      "outputs": [
        {
          "output_type": "execute_result",
          "data": {
            "text/plain": [
              "8"
            ]
          },
          "metadata": {},
          "execution_count": 4
        }
      ]
    },
    {
      "cell_type": "markdown",
      "source": [
        "The hardest part of the merge sort was comparing the lists.  I think the function below is fairly efficient.  If either list still has elements, it compares the first elements in each and inserts that into the new list (and removes it from that list) when one list is emptied, it clears the other list into the new list."
      ],
      "metadata": {
        "id": "iPgz7VfFE_9F"
      }
    },
    {
      "cell_type": "code",
      "source": [
        "def compare(lst1,lst2):\n",
        "  newlist = []\n",
        "  while (len(lst1) != 0) & (len(lst2) != 0):\n",
        "    if lst1[0] < lst2[0]:\n",
        "      newlist.append(lst1.pop(0))\n",
        "    elif lst1[0] >= lst2[0]:\n",
        "      newlist.append(lst2.pop(0))\n",
        "  if len(lst1)== 0:\n",
        "    while len(lst2)>0:\n",
        "      newlist.append(lst2.pop(0))\n",
        "  else:\n",
        "    while len(lst1)> 0:\n",
        "      newlist.append(lst1.pop(0))\n",
        "  return newlist\n",
        "\n",
        "compare([3,4,10],[2,5,6,7,8])"
      ],
      "metadata": {
        "colab": {
          "base_uri": "https://localhost:8080/"
        },
        "id": "P-NVUtjY7D95",
        "outputId": "5418c1bd-c957-4108-be15-5daa251fc43b"
      },
      "execution_count": 22,
      "outputs": [
        {
          "output_type": "execute_result",
          "data": {
            "text/plain": [
              "[2, 3, 4, 5, 6, 7, 8, 10]"
            ]
          },
          "metadata": {},
          "execution_count": 22
        }
      ]
    },
    {
      "cell_type": "markdown",
      "source": [
        "Since my `compare` function compared lists, I made my list of numbers into a bunch of lists each containint one element."
      ],
      "metadata": {
        "id": "eirX8SfQFdjs"
      }
    },
    {
      "cell_type": "code",
      "source": [
        "lstlst = [[i] for i in lst]"
      ],
      "metadata": {
        "id": "X_mynpt78sQY"
      },
      "execution_count": 39,
      "outputs": []
    },
    {
      "cell_type": "code",
      "source": [
        "newlist = []\n",
        "for i in range(len(lst)>>1):\n",
        "  newlist.append(compare(lstlst[2*i],lstlst[2*i+1]))\n",
        "newlist"
      ],
      "metadata": {
        "colab": {
          "base_uri": "https://localhost:8080/"
        },
        "id": "bVhfNCqc8s73",
        "outputId": "984fdb4a-3a46-4016-bfb7-06ea8ab446e8"
      },
      "execution_count": 40,
      "outputs": [
        {
          "output_type": "execute_result",
          "data": {
            "text/plain": [
              "[[4, 10], [7, 8], [12, 14], [9, 10]]"
            ]
          },
          "metadata": {},
          "execution_count": 40
        }
      ]
    },
    {
      "cell_type": "markdown",
      "source": [
        "The above did the comparison of two elements.  Below I recognized that I could run that same code twice and finish off my comparisons and I was off to the races!"
      ],
      "metadata": {
        "id": "cxL0NshwFqCk"
      }
    },
    {
      "cell_type": "code",
      "source": [
        "for i in range(len(newlist)>>1):\n",
        "  newlist.append(compare(newlist[0],newlist[1]))\n",
        "  newlist.pop(0)\n",
        "  newlist.pop(0)\n",
        "\n",
        "\n",
        "newlist"
      ],
      "metadata": {
        "colab": {
          "base_uri": "https://localhost:8080/"
        },
        "id": "npbv1A9k8vDF",
        "outputId": "77316cf3-327b-485e-d974-55179f5cfddf"
      },
      "execution_count": 36,
      "outputs": [
        {
          "output_type": "execute_result",
          "data": {
            "text/plain": [
              "[[4, 7, 8, 9, 10, 10, 12, 14]]"
            ]
          },
          "metadata": {},
          "execution_count": 36
        }
      ]
    },
    {
      "cell_type": "markdown",
      "source": [
        "I did need the function `bit_length()` that counts the number of bits in an integer."
      ],
      "metadata": {
        "id": "Mc_Ad7KrF6Oj"
      }
    },
    {
      "cell_type": "code",
      "source": [
        "x = 9\n",
        "\n",
        "x.bit_length()"
      ],
      "metadata": {
        "colab": {
          "base_uri": "https://localhost:8080/"
        },
        "id": "DZWZ5MZ9C-jU",
        "outputId": "9cfaf116-572d-43f9-ecc8-5161555690b2"
      },
      "execution_count": 45,
      "outputs": [
        {
          "output_type": "execute_result",
          "data": {
            "text/plain": [
              "4"
            ]
          },
          "metadata": {},
          "execution_count": 45
        }
      ]
    },
    {
      "cell_type": "code",
      "source": [
        "lst = [10,4,7,1,8,14,12,9,10,13,6,5,3,2,1,1,1,1,1,1,2,5,-1]\n",
        "\n",
        "x = len(lst)\n",
        "\n",
        "lstlst = [[i] for i in lst]\n",
        "\n",
        "for i in range(x.bit_length()):\n",
        "  for i in range(len(lstlst)>>1):\n",
        "    lstlst.append(compare(lstlst[0],lstlst[1]))\n",
        "    lstlst.pop(0)\n",
        "    lstlst.pop(0)\n",
        "  print(lstlst)\n",
        "\n",
        "lstlst[0]\n"
      ],
      "metadata": {
        "colab": {
          "base_uri": "https://localhost:8080/"
        },
        "id": "r6tBkB_9DXYY",
        "outputId": "3f122b16-c06c-406a-fd77-74261d7db21c"
      },
      "execution_count": 60,
      "outputs": [
        {
          "output_type": "stream",
          "name": "stdout",
          "text": [
            "[[-1], [4, 10], [1, 7], [8, 14], [9, 12], [10, 13], [5, 6], [2, 3], [1, 1], [1, 1], [1, 1], [2, 5]]\n",
            "[[-1, 4, 10], [1, 7, 8, 14], [9, 10, 12, 13], [2, 3, 5, 6], [1, 1, 1, 1], [1, 1, 2, 5]]\n",
            "[[-1, 1, 4, 7, 8, 10, 14], [2, 3, 5, 6, 9, 10, 12, 13], [1, 1, 1, 1, 1, 1, 2, 5]]\n",
            "[[1, 1, 1, 1, 1, 1, 2, 5], [-1, 1, 2, 3, 4, 5, 6, 7, 8, 9, 10, 10, 12, 13, 14]]\n",
            "[[-1, 1, 1, 1, 1, 1, 1, 1, 2, 2, 3, 4, 5, 5, 6, 7, 8, 9, 10, 10, 12, 13, 14]]\n"
          ]
        },
        {
          "output_type": "execute_result",
          "data": {
            "text/plain": [
              "[-1, 1, 1, 1, 1, 1, 1, 1, 2, 2, 3, 4, 5, 5, 6, 7, 8, 9, 10, 10, 12, 13, 14]"
            ]
          },
          "metadata": {},
          "execution_count": 60
        }
      ]
    },
    {
      "cell_type": "code",
      "source": [
        "x.bit_length()"
      ],
      "metadata": {
        "colab": {
          "base_uri": "https://localhost:8080/"
        },
        "id": "dbeMHkhKEINE",
        "outputId": "d8ac033a-2126-46fb-9348-b72a3fc060c2"
      },
      "execution_count": 57,
      "outputs": [
        {
          "output_type": "execute_result",
          "data": {
            "text/plain": [
              "5"
            ]
          },
          "metadata": {},
          "execution_count": 57
        }
      ]
    },
    {
      "cell_type": "code",
      "source": [
        ""
      ],
      "metadata": {
        "id": "0VQC_AwiGHBH"
      },
      "execution_count": null,
      "outputs": []
    }
  ]
}