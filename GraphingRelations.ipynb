{
  "nbformat": 4,
  "nbformat_minor": 0,
  "metadata": {
    "colab": {
      "name": "Untitled111.ipynb",
      "provenance": [],
      "authorship_tag": "ABX9TyNEaduZYsR/IpIXVQ4eYIck",
      "include_colab_link": true
    },
    "kernelspec": {
      "name": "python3",
      "display_name": "Python 3"
    },
    "language_info": {
      "name": "python"
    }
  },
  "cells": [
    {
      "cell_type": "markdown",
      "metadata": {
        "id": "view-in-github",
        "colab_type": "text"
      },
      "source": [
        "<a href=\"https://colab.research.google.com/github/nurfnick/Mathematical_Musings/blob/main/GraphingRelations.ipynb\" target=\"_parent\"><img src=\"https://colab.research.google.com/assets/colab-badge.svg\" alt=\"Open In Colab\"/></a>"
      ]
    },
    {
      "cell_type": "markdown",
      "source": [
        "# Contour Plots\n",
        "\n"
      ],
      "metadata": {
        "id": "2aPrQ8bfn5S-"
      }
    },
    {
      "cell_type": "markdown",
      "source": [
        "## Plot 1"
      ],
      "metadata": {
        "id": "LUZDCxNQn8eb"
      }
    },
    {
      "cell_type": "code",
      "execution_count": 5,
      "metadata": {
        "colab": {
          "base_uri": "https://localhost:8080/",
          "height": 287
        },
        "id": "Fhhsgvb271RR",
        "outputId": "f2a839c7-d91b-4270-89f4-87943d7f42d9"
      },
      "outputs": [
        {
          "output_type": "execute_result",
          "data": {
            "text/plain": [
              "<matplotlib.contour.QuadContourSet at 0x7f40a9c6ac10>"
            ]
          },
          "metadata": {},
          "execution_count": 5
        },
        {
          "output_type": "display_data",
          "data": {
            "text/plain": [
              "<Figure size 432x288 with 1 Axes>"
            ],
            "image/png": "[encoded data removed]"
          },
          "metadata": {
            "needs_background": "light"
          }
        }
      ],
      "source": [
        "import numpy as np\n",
        "import matplotlib.pyplot as plt\n",
        "\n",
        "x,y = np.meshgrid(np.linspace(-3, 3, 1000), np.linspace(-3, 3,1000))\n",
        "\n",
        "plt.contour(x,y,x**2 + y**3-1,0)"
      ]
    },
    {
      "cell_type": "markdown",
      "source": [
        "Above is the relation\n",
        "\n",
        "$$\n",
        "x^2+y^3 = 1\n",
        "$$"
      ],
      "metadata": {
        "id": "uaxdG0VJ9c59"
      }
    },
    {
      "cell_type": "code",
      "source": [
        "plt.contour(x,y,x**3+y**3-3*x*y,0)"
      ],
      "metadata": {
        "colab": {
          "base_uri": "https://localhost:8080/",
          "height": 287
        },
        "id": "ZA9Ok4mJ8eWz",
        "outputId": "759db58b-910a-4575-e16b-c2ee9055d63e"
      },
      "execution_count": 4,
      "outputs": [
        {
          "output_type": "execute_result",
          "data": {
            "text/plain": [
              "<matplotlib.contour.QuadContourSet at 0x7f40a9c53490>"
            ]
          },
          "metadata": {},
          "execution_count": 4
        },
        {
          "output_type": "display_data",
          "data": {
            "text/plain": [
              "<Figure size 432x288 with 1 Axes>"
            ],
            "image/png": "[encoded data removed]"
          },
          "metadata": {
            "needs_background": "light"
          }
        }
      ]
    },
    {
      "cell_type": "markdown",
      "source": [
        "The above is called [Decartes' Folium](https://en.wikipedia.org/wiki/Folium_of_Descartes) and satisfies the equation\n",
        "\n",
        "$$\n",
        "x^3+y^3-3xy = 0\n",
        "$$"
      ],
      "metadata": {
        "id": "oguCWvd59iPL"
      }
    },
    {
      "cell_type": "code",
      "source": [],
      "metadata": {
        "id": "H3jVNSjC9GKY"
      },
      "execution_count": null,
      "outputs": []
    }
  ]
}