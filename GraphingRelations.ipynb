{
  "nbformat": 4,
  "nbformat_minor": 0,
  "metadata": {
    "colab": {
      "name": "Untitled111.ipynb",
      "provenance": [],
      "authorship_tag": "ABX9TyPeLnnxaGv1Q4BNjlDQXG1M",
      "include_colab_link": true
    },
    "kernelspec": {
      "name": "python3",
      "display_name": "Python 3"
    },
    "language_info": {
      "name": "python"
    }
  },
  "cells": [
    {
      "cell_type": "markdown",
      "metadata": {
        "id": "view-in-github",
        "colab_type": "text"
      },
      "source": [
        "<a href=\"https://colab.research.google.com/github/nurfnick/Mathematical_Musings/blob/main/GraphingRelations.ipynb\" target=\"_parent\"><img src=\"https://colab.research.google.com/assets/colab-badge.svg\" alt=\"Open In Colab\"/></a>"
      ]
    },
    {
      "cell_type": "code",
      "execution_count": 7,
      "metadata": {
        "colab": {
          "base_uri": "https://localhost:8080/",
          "height": 287
        },
        "id": "Fhhsgvb271RR",
        "outputId": "5cdf0f69-dc68-4260-dce1-4c5e472470ad"
      },
      "outputs": [
        {
          "output_type": "execute_result",
          "data": {
            "text/plain": [
              "<matplotlib.contour.QuadContourSet at 0x7efe843b9f50>"
            ]
          },
          "metadata": {},
          "execution_count": 7
        },
        {
          "output_type": "display_data",
          "data": {
            "text/plain": [
              "<Figure size 432x288 with 1 Axes>"
            ],
            "image/png": "[encoded data removed]"
          },
          "metadata": {
            "needs_background": "light"
          }
        }
      ],
      "source": [
        "import numpy as np\n",
        "import matplotlib.pyplot as plt\n",
        "\n",
        "x,y = np.meshgrid(np.linspace(-3, 3, 1000), np.linspace(-3, 3,1000))\n",
        "\n",
        "plt.contour(x,y,x**2 + y**3,1)"
      ]
    },
    {
      "cell_type": "markdown",
      "source": [
        "Above is the relation\n",
        "\n",
        "$$\n",
        "x^2+y^3 = 1\n",
        "$$"
      ],
      "metadata": {
        "id": "uaxdG0VJ9c59"
      }
    },
    {
      "cell_type": "code",
      "source": [
        "plt.contour(x,y,x**3+y**3-3*x*y,0)"
      ],
      "metadata": {
        "colab": {
          "base_uri": "https://localhost:8080/",
          "height": 287
        },
        "id": "ZA9Ok4mJ8eWz",
        "outputId": "dbd0bf0f-1010-41ee-cb29-76e16b7ba466"
      },
      "execution_count": 9,
      "outputs": [
        {
          "output_type": "execute_result",
          "data": {
            "text/plain": [
              "<matplotlib.contour.QuadContourSet at 0x7efe83ef5890>"
            ]
          },
          "metadata": {},
          "execution_count": 9
        },
        {
          "output_type": "display_data",
          "data": {
            "text/plain": [
              "<Figure size 432x288 with 1 Axes>"
            ],
            "image/png": "[encoded data removed]"
          },
          "metadata": {
            "needs_background": "light"
          }
        }
      ]
    },
    {
      "cell_type": "markdown",
      "source": [
        "The above is called [Decartes' Folium](https://en.wikipedia.org/wiki/Folium_of_Descartes) and satisfies the equation\n",
        "\n",
        "$$\n",
        "x^3+y^3-3xy = 0\n",
        "$$"
      ],
      "metadata": {
        "id": "oguCWvd59iPL"
      }
    },
    {
      "cell_type": "code",
      "source": [
        ""
      ],
      "metadata": {
        "id": "H3jVNSjC9GKY"
      },
      "execution_count": null,
      "outputs": []
    }
  ]
}