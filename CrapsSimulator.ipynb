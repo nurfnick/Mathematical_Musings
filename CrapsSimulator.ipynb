{
  "nbformat": 4,
  "nbformat_minor": 0,
  "metadata": {
    "colab": {
      "name": "Untitled55.ipynb",
      "provenance": [],
      "include_colab_link": true
    },
    "kernelspec": {
      "name": "python3",
      "display_name": "Python 3"
    },
    "language_info": {
      "name": "python"
    }
  },
  "cells": [
    {
      "cell_type": "markdown",
      "metadata": {
        "id": "view-in-github",
        "colab_type": "text"
      },
      "source": [
        "<a href=\"https://colab.research.google.com/github/nurfnick/Mathematical_Musings/blob/main/CrapsSimulator.ipynb\" target=\"_parent\"><img src=\"https://colab.research.google.com/assets/colab-badge.svg\" alt=\"Open In Colab\"/></a>"
      ]
    },
    {
      "cell_type": "markdown",
      "metadata": {
        "id": "KEbGpsnhhgGO"
      },
      "source": [
        "# Craps Simulator for One Shooter"
      ]
    },
    {
      "cell_type": "markdown",
      "source": [
        "## MAA OK-AR Section Presentation\n",
        "\n",
        "\n",
        "\n",
        "> **Abstract**: \n",
        "> The game of craps is a simple probabilitstic game played with dice around the world for gambling purposes.  We will examine the game through simulation using python and Jupyter notebooks.  We will discuss expected values, interesting observations on the game play and why the table is often the loudest at the casino.\n",
        "\n"
      ],
      "metadata": {
        "id": "MLPn2AHw471z"
      }
    },
    {
      "cell_type": "markdown",
      "source": [
        "## Simulating Six Sided Dice"
      ],
      "metadata": {
        "id": "jHy_vEa7EFRV"
      }
    },
    {
      "cell_type": "code",
      "metadata": {
        "colab": {
          "base_uri": "https://localhost:8080/"
        },
        "id": "DmbMesWETxJb",
        "outputId": "50de8454-4229-43c3-bdb5-768064ee999e"
      },
      "source": [
        "import random\n",
        "\n",
        "random.randint(1,6)"
      ],
      "execution_count": 43,
      "outputs": [
        {
          "output_type": "execute_result",
          "data": {
            "text/plain": [
              "3"
            ]
          },
          "metadata": {},
          "execution_count": 43
        }
      ]
    },
    {
      "cell_type": "markdown",
      "metadata": {
        "id": "cmBg8RPuhmh5"
      },
      "source": [
        "Above code rolls a dice once."
      ]
    },
    {
      "cell_type": "code",
      "metadata": {
        "id": "2iZcoXocT1qh"
      },
      "source": [
        "def Roll2Dice():\n",
        "  return [random.randint(1,6),random.randint(1,6)]"
      ],
      "execution_count": 44,
      "outputs": []
    },
    {
      "cell_type": "code",
      "metadata": {
        "colab": {
          "base_uri": "https://localhost:8080/"
        },
        "id": "2h2W2QBOUNUQ",
        "outputId": "a259e168-cb6b-4bf4-92de-08b1234ab64c"
      },
      "source": [
        "Roll2Dice()"
      ],
      "execution_count": 45,
      "outputs": [
        {
          "output_type": "execute_result",
          "data": {
            "text/plain": [
              "[6, 2]"
            ]
          },
          "metadata": {},
          "execution_count": 45
        }
      ]
    },
    {
      "cell_type": "markdown",
      "metadata": {
        "id": "DotTMWEqhrmK"
      },
      "source": [
        "This rolls two dice.  The game of craps is actually interested in the sum of the two dice most of the time...  We know that this is distributed like the following:\n",
        "\n",
        "Sum | Probability\n",
        "----|------------\n",
        "2|$\\frac 1{36}$\n",
        "3|$\\frac 2{36}$\n",
        "4|$\\frac 3{36}$\n",
        "5|$\\frac 4{36}$\n",
        "6|$\\frac 5{36}$\n",
        "7|$\\frac 6{36}$\n",
        "8|$\\frac 5{36}$\n",
        "9|$\\frac 4{36}$\n",
        "10|$\\frac 3{36}$\n",
        "11|$\\frac 2{36}$\n",
        "12|$\\frac 1{36}$\n",
        "\n",
        "We want to make sure we are seeing that in our simulation!"
      ]
    },
    {
      "cell_type": "markdown",
      "source": [
        "First I check using the built-in histogram feature from `numpy` and visualize with `matplotlib`."
      ],
      "metadata": {
        "id": "hFU2Tw9FGZ-T"
      }
    },
    {
      "cell_type": "code",
      "metadata": {
        "colab": {
          "base_uri": "https://localhost:8080/"
        },
        "id": "fwmyBoSJpC3Q",
        "outputId": "29a76e10-18f2-47ee-9e53-d379f277a0cd"
      },
      "source": [
        "from numpy import histogram\n",
        "import numpy as np\n",
        "import matplotlib.pyplot as plt\n",
        "\n",
        "listy = []\n",
        "\n",
        "for i in range(10000):\n",
        "  listy.append(sum(Roll2Dice()))\n",
        "\n",
        "histogram(listy,bins = 11)"
      ],
      "execution_count": 4,
      "outputs": [
        {
          "output_type": "execute_result",
          "data": {
            "text/plain": [
              "(array([ 269,  537,  838, 1131, 1349, 1685, 1441, 1110,  852,  549,  239]),\n",
              " array([ 2.        ,  2.90909091,  3.81818182,  4.72727273,  5.63636364,\n",
              "         6.54545455,  7.45454545,  8.36363636,  9.27272727, 10.18181818,\n",
              "        11.09090909, 12.        ]))"
            ]
          },
          "metadata": {},
          "execution_count": 4
        }
      ]
    },
    {
      "cell_type": "code",
      "source": [
        "plt.hist(listy)\n",
        "plt.show()"
      ],
      "metadata": {
        "id": "eA9jXsIdErWf",
        "outputId": "9fac2051-498a-4041-b209-3f45621dfd6d",
        "colab": {
          "base_uri": "https://localhost:8080/",
          "height": 265
        }
      },
      "execution_count": 5,
      "outputs": [
        {
          "output_type": "display_data",
          "data": {
            "text/plain": [
              "<Figure size 432x288 with 1 Axes>"
            ],
            "image/png": "[encoded data removed]"
          },
          "metadata": {
            "needs_background": "light"
          }
        }
      ]
    },
    {
      "cell_type": "markdown",
      "source": [
        "That did not come out in the way I expected.  Let's tweek it a bit and do it by hand."
      ],
      "metadata": {
        "id": "-_3IHMFTGkjr"
      }
    },
    {
      "cell_type": "code",
      "metadata": {
        "colab": {
          "base_uri": "https://localhost:8080/"
        },
        "id": "vrEFNRkmqhJC",
        "outputId": "754169b8-737a-4897-cb75-23bbc26c2cfc"
      },
      "source": [
        "sums = range(2,13,1)\n",
        "newlist =[]\n",
        "for i in sums:\n",
        "  newlist.append(0)\n",
        "\n",
        "for i in listy:\n",
        "  for j in sums:\n",
        "    if i == j:\n",
        "      newlist[i-2] +=1\n",
        "\n",
        "newlist"
      ],
      "execution_count": 6,
      "outputs": [
        {
          "output_type": "execute_result",
          "data": {
            "text/plain": [
              "[269, 537, 838, 1131, 1349, 1685, 1441, 1110, 852, 549, 239]"
            ]
          },
          "metadata": {},
          "execution_count": 6
        }
      ]
    },
    {
      "cell_type": "code",
      "source": [
        "plt.bar(x =sums, height = newlist)\n",
        "plt.show()"
      ],
      "metadata": {
        "id": "XBlTzXueFHP8",
        "outputId": "64701487-9d30-497e-afdd-7b4f9c9eb676",
        "colab": {
          "base_uri": "https://localhost:8080/",
          "height": 265
        }
      },
      "execution_count": 7,
      "outputs": [
        {
          "output_type": "display_data",
          "data": {
            "text/plain": [
              "<Figure size 432x288 with 1 Axes>"
            ],
            "image/png": "[encoded data removed]"
          },
          "metadata": {
            "needs_background": "light"
          }
        }
      ]
    },
    {
      "cell_type": "markdown",
      "metadata": {
        "id": "-1J5WK6FhwMT"
      },
      "source": [
        "Above I have checked that the outcomes are random but as expected.  Both codes do the same thing, even though the output is a bit different!  We should check that this does indeed follow the distribution given by preforming the goodness of fit test.\n",
        "\n",
        "$$\n",
        "\\chi^2 = \\sum_{i = 1}^n \\frac{\\left(O_i - E_i\\right)^2}{E_i}\n",
        "$$\n"
      ]
    },
    {
      "cell_type": "code",
      "source": [
        "expected = np.array([1,2,3,4,5,6,5,4,3,2,1])\n",
        "expected = expected/36*10000\n",
        "\n",
        "actual = np.array(newlist)\n",
        "\n",
        "chi = 0\n",
        "for i,val in enumerate(expected):\n",
        "  chi += (val-actual[i])**2/val\n",
        "\n",
        "chi"
      ],
      "metadata": {
        "id": "C6BNXuKVQKj3",
        "outputId": "e409e1ff-c691-4986-af19-4bddf753b810",
        "colab": {
          "base_uri": "https://localhost:8080/"
        }
      },
      "execution_count": 8,
      "outputs": [
        {
          "output_type": "execute_result",
          "data": {
            "text/plain": [
              "10.491740000000005"
            ]
          },
          "metadata": {},
          "execution_count": 8
        }
      ]
    },
    {
      "cell_type": "code",
      "source": [
        "from scipy import stats\n",
        "\n",
        "1-stats.chi2.cdf(chi,10)"
      ],
      "metadata": {
        "id": "8zCfCgKvSmwt",
        "outputId": "c232c5de-bc6e-4409-d22e-c42db24c8d62",
        "colab": {
          "base_uri": "https://localhost:8080/"
        }
      },
      "execution_count": 9,
      "outputs": [
        {
          "output_type": "execute_result",
          "data": {
            "text/plain": [
              "0.3984600274759562"
            ]
          },
          "metadata": {},
          "execution_count": 9
        }
      ]
    },
    {
      "cell_type": "markdown",
      "source": [
        "Getting the probability is much easier by using the builtins!"
      ],
      "metadata": {
        "id": "JbvhasGGTEtJ"
      }
    },
    {
      "cell_type": "code",
      "source": [
        "stats.chisquare(actual,expected)"
      ],
      "metadata": {
        "id": "A3lmY7dXRe_3",
        "outputId": "1c21323e-9145-4ee3-b714-e950b958aa29",
        "colab": {
          "base_uri": "https://localhost:8080/"
        }
      },
      "execution_count": 10,
      "outputs": [
        {
          "output_type": "execute_result",
          "data": {
            "text/plain": [
              "Power_divergenceResult(statistic=10.491740000000005, pvalue=0.39846002747595616)"
            ]
          },
          "metadata": {},
          "execution_count": 10
        }
      ]
    },
    {
      "cell_type": "markdown",
      "source": [
        "## Come Out Roll"
      ],
      "metadata": {
        "id": "BHa4By-uG8pT"
      }
    },
    {
      "cell_type": "markdown",
      "source": [
        "The first roll of craps is called the **come out roll**.  It can be repeated later in the game.  There are three possible outcomes:\n",
        "\n",
        "1. **Natural**: A seven or 11 is a natural and the Pass Line Bet wins\n",
        "2. **Craps**: A two, three or twelve is craps and the Pass Line Bet Losses\n",
        "3. **Set the Point**: 4,5,6,8,9,10 is rolled, the shooter continues to roll"
      ],
      "metadata": {
        "id": "hVpSagYMHC80"
      }
    },
    {
      "cell_type": "code",
      "metadata": {
        "colab": {
          "base_uri": "https://localhost:8080/"
        },
        "id": "EmPCXtfLUO2n",
        "outputId": "d5dfa2b8-cca7-442e-b123-ae37b2341354"
      },
      "source": [
        "def ComeOutRoll(TwoDice):\n",
        "  s = sum(TwoDice)\n",
        "  if (s == 2)|(s == 3)|(s==12):\n",
        "    return 'Craps'\n",
        "  elif (s == 7)|(s == 11):\n",
        "    return 'comeAgain'\n",
        "  else:\n",
        "    return s #return the point\n",
        "\n",
        "ComeOutRoll([4,4])"
      ],
      "execution_count": 46,
      "outputs": [
        {
          "output_type": "execute_result",
          "data": {
            "text/plain": [
              "8"
            ]
          },
          "metadata": {},
          "execution_count": 46
        }
      ]
    },
    {
      "cell_type": "code",
      "metadata": {
        "colab": {
          "base_uri": "https://localhost:8080/",
          "height": 36
        },
        "id": "VoPZtKkjVP5I",
        "outputId": "83b702f9-fc49-43e9-c1d5-b4d4ea8f1781"
      },
      "source": [
        "ComeOutRoll([6,6])"
      ],
      "execution_count": 12,
      "outputs": [
        {
          "output_type": "execute_result",
          "data": {
            "text/plain": [
              "'Craps'"
            ],
            "application/vnd.google.colaboratory.intrinsic+json": {
              "type": "string"
            }
          },
          "metadata": {},
          "execution_count": 12
        }
      ]
    },
    {
      "cell_type": "markdown",
      "metadata": {
        "id": "_jtsAppwh92f"
      },
      "source": [
        "The `ComeOutRoll` is the first roll in the craps game.  There are three options **Craps** (2,3,12) **Natural** (7,11) (designated here as 'comeAgain' since you will get another come out roll.  Any othe value will set the point, the function just returns that number."
      ]
    },
    {
      "cell_type": "markdown",
      "source": [
        "## After the Point is Set"
      ],
      "metadata": {
        "id": "Q_XNtki72O5R"
      }
    },
    {
      "cell_type": "markdown",
      "source": [
        "Once the point is set, the shooter will continue to roll until they either roll the point again (Pass Line Bet Wins!) or the **Seven Out** (Pass Line Bet Loses).  The only bet with no house advantage happens in this stage, *Odds*.  The odds bet is made behind the pass line bet and will payout based on the point that was set.\n",
        "\n",
        "Point|Payout on Odds\n",
        "-----|--------------\n",
        "4 or 10 | 1:2\n",
        "5 or 9 | 2:3\n",
        "6 or 8 | 5:6\n",
        "\n",
        "So a point of 5, a \\$10 odds bet will pay \\$15.  These bets will have to be made in the correct proportion for possible payouts.  You can always ask the stickman for help with the odds bet although you may not get the best advice!  This is the only bet *not* marked on the table!\n",
        "\n",
        "![Craps Table](https://upload.wikimedia.org/wikipedia/commons/thumb/a/a4/Craps_table_layout.svg/1280px-Craps_table_layout.svg.png)"
      ],
      "metadata": {
        "id": "WFzTeIuz2fIR"
      }
    },
    {
      "cell_type": "code",
      "metadata": {
        "colab": {
          "base_uri": "https://localhost:8080/",
          "height": 36
        },
        "id": "9MdCCcAYVUcA",
        "outputId": "56eac78a-04b0-407d-d3bd-96eb7a74a311"
      },
      "source": [
        "def SetPointRoll(TwoDice,point):\n",
        "  s = sum(TwoDice)\n",
        "  if s == 7:\n",
        "    return 'SevenOut'\n",
        "  elif s == point:\n",
        "    return 'comeAgain'\n",
        "  else:\n",
        "    return point\n",
        "\n",
        "SetPointRoll([5,4],9)"
      ],
      "execution_count": 47,
      "outputs": [
        {
          "output_type": "execute_result",
          "data": {
            "text/plain": [
              "'comeAgain'"
            ],
            "application/vnd.google.colaboratory.intrinsic+json": {
              "type": "string"
            }
          },
          "metadata": {},
          "execution_count": 47
        }
      ]
    },
    {
      "cell_type": "code",
      "metadata": {
        "id": "VbBiy9C3hdOO",
        "colab": {
          "base_uri": "https://localhost:8080/",
          "height": 36
        },
        "outputId": "16276267-3b2b-4df8-d82a-de62d0ad985a"
      },
      "source": [
        "SetPointRoll([3,4],4)"
      ],
      "execution_count": 48,
      "outputs": [
        {
          "output_type": "execute_result",
          "data": {
            "text/plain": [
              "'SevenOut'"
            ],
            "application/vnd.google.colaboratory.intrinsic+json": {
              "type": "string"
            }
          },
          "metadata": {},
          "execution_count": 48
        }
      ]
    },
    {
      "cell_type": "code",
      "metadata": {
        "id": "OeT6qYdvimS7",
        "colab": {
          "base_uri": "https://localhost:8080/"
        },
        "outputId": "4070cd3e-1102-48d2-8744-6e527fdfa1cd"
      },
      "source": [
        "SetPointRoll([3,1],5)"
      ],
      "execution_count": 50,
      "outputs": [
        {
          "output_type": "execute_result",
          "data": {
            "text/plain": [
              "5"
            ]
          },
          "metadata": {},
          "execution_count": 50
        }
      ]
    },
    {
      "cell_type": "markdown",
      "source": [
        "## Continuing the Game"
      ],
      "metadata": {
        "id": "Io6IsI9_6_Nv"
      }
    },
    {
      "cell_type": "markdown",
      "metadata": {
        "id": "rHqVxReWit0V"
      },
      "source": [
        "After the point has been set, you will roll over and over again until you **comeAgain** by hitting the same point or **SevenOut** by rolling a 7.  The function returns the point if neither of those happen."
      ]
    },
    {
      "cell_type": "code",
      "metadata": {
        "id": "Ld1ZFAKeV_UV"
      },
      "source": [
        "def PlayCraps():\n",
        "  x = ComeOutRoll(Roll2Dice())\n",
        "  rollCounter = 1\n",
        "  while (x != 'Craps')&(x != 'SevenOut'):\n",
        "    if x == 'comeAgain':\n",
        "      rollCounter += 1\n",
        "      x = ComeOutRoll(Roll2Dice())\n",
        "    else:\n",
        "      point = x\n",
        "      rollCounter += 1\n",
        "      x = SetPointRoll(Roll2Dice(),point)\n",
        "  return rollCounter\n"
      ],
      "execution_count": 16,
      "outputs": []
    },
    {
      "cell_type": "code",
      "metadata": {
        "colab": {
          "base_uri": "https://localhost:8080/"
        },
        "id": "1Eqg-MgUXXuc",
        "outputId": "a4bde510-175b-4ac5-d531-eb4deb07f43e"
      },
      "source": [
        "PlayCraps()"
      ],
      "execution_count": 54,
      "outputs": [
        {
          "output_type": "execute_result",
          "data": {
            "text/plain": [
              "1"
            ]
          },
          "metadata": {},
          "execution_count": 54
        }
      ]
    },
    {
      "cell_type": "markdown",
      "metadata": {
        "id": "RVHT2BIsjqLZ"
      },
      "source": [
        "`PlayCraps` will play the game returning the number of rolls until you **Crap** or **SevenOut**.  Let's compute some statistics about it."
      ]
    },
    {
      "cell_type": "code",
      "metadata": {
        "colab": {
          "base_uri": "https://localhost:8080/"
        },
        "id": "Guy2bFBVXcFt",
        "outputId": "83c33ae8-b54d-4191-9075-7f22cea294d5"
      },
      "source": [
        "\n",
        "list1 = []\n",
        "for i in range(100000):\n",
        "  list1.append(PlayCraps())\n",
        "sum(list1)/len(list1)\n"
      ],
      "execution_count": 18,
      "outputs": [
        {
          "output_type": "execute_result",
          "data": {
            "text/plain": [
              "6.65342"
            ]
          },
          "metadata": {},
          "execution_count": 18
        }
      ]
    },
    {
      "cell_type": "code",
      "metadata": {
        "colab": {
          "base_uri": "https://localhost:8080/",
          "height": 265
        },
        "id": "pWPcOijyX4au",
        "outputId": "a7eb9ec4-b706-4910-e8e7-7dbde5bb9a30"
      },
      "source": [
        "import matplotlib.pyplot as plt\n",
        "\n",
        "plt.hist(list1)\n",
        "plt.show()"
      ],
      "execution_count": 19,
      "outputs": [
        {
          "output_type": "display_data",
          "data": {
            "text/plain": [
              "<Figure size 432x288 with 1 Axes>"
            ],
            "image/png": "[encoded data removed]"
          },
          "metadata": {
            "needs_background": "light"
          }
        }
      ]
    },
    {
      "cell_type": "markdown",
      "metadata": {
        "id": "9S8rqiGdkErX"
      },
      "source": [
        "The distribution is not normal!  Seems like it is mostly just a few rolls.  I wonder what the expected or average value is.  Here I do 1000 games 1000 times.  This is the Monte Carlo simulation of lots of craps tables!"
      ]
    },
    {
      "cell_type": "code",
      "metadata": {
        "id": "3lu03WfNkT5S"
      },
      "source": [
        "list2 = []\n",
        "for j in range(1000):\n",
        "  list1 = []\n",
        "  for i in range(1000):\n",
        "    list1.append(PlayCraps())\n",
        "  list2.append(sum(list1)/len(list1))"
      ],
      "execution_count": 20,
      "outputs": []
    },
    {
      "cell_type": "code",
      "metadata": {
        "id": "bTY1tRoskuYu",
        "colab": {
          "base_uri": "https://localhost:8080/",
          "height": 340
        },
        "outputId": "61103d8a-d189-4ffc-a601-f214a61c2f1f"
      },
      "source": [
        "plt.hist(list2)"
      ],
      "execution_count": 21,
      "outputs": [
        {
          "output_type": "execute_result",
          "data": {
            "text/plain": [
              "(array([ 19.,  35., 106., 169., 235., 196., 123.,  78.,  30.,   9.]),\n",
              " array([6.162 , 6.2672, 6.3724, 6.4776, 6.5828, 6.688 , 6.7932, 6.8984,\n",
              "        7.0036, 7.1088, 7.214 ]),\n",
              " <a list of 10 Patch objects>)"
            ]
          },
          "metadata": {},
          "execution_count": 21
        },
        {
          "output_type": "display_data",
          "data": {
            "text/plain": [
              "<Figure size 432x288 with 1 Axes>"
            ],
            "image/png": "[encoded data removed]"
          },
          "metadata": {
            "needs_background": "light"
          }
        }
      ]
    },
    {
      "cell_type": "code",
      "metadata": {
        "id": "bSv9hHXkk0Im",
        "colab": {
          "base_uri": "https://localhost:8080/"
        },
        "outputId": "1fbac6be-b77d-49b2-e442-73a5683c0756"
      },
      "source": [
        "from numpy import mean\n",
        "\n",
        "mean(list2)"
      ],
      "execution_count": 22,
      "outputs": [
        {
          "output_type": "execute_result",
          "data": {
            "text/plain": [
              "6.66408"
            ]
          },
          "metadata": {},
          "execution_count": 22
        }
      ]
    },
    {
      "cell_type": "markdown",
      "metadata": {
        "id": "VGG988Vqk6cY"
      },
      "source": [
        "As I perused the internet for this value, I found lots of answers that were larger!  How can that be!  At first I thought I had the program wrong.  Below I write some code to check the craps game by hand."
      ]
    },
    {
      "cell_type": "code",
      "metadata": {
        "id": "uKYlmD90Yb5e"
      },
      "source": [
        "def ErrorTestingPlayCraps():\n",
        "  listOfRolls = []\n",
        "  randRoll = Roll2Dice()\n",
        "  listOfRolls.append(randRoll)\n",
        "  x = ComeOutRoll(randRoll)\n",
        "  rollCounter = 1\n",
        "  PassLineWins = 0\n",
        "  while (x != 'Craps')&(x != 'SevenOut'):\n",
        "    if x == 'comeAgain':\n",
        "      listOfRolls.append('Pass Line Win')\n",
        "      PassLineWins += 1\n",
        "      rollCounter += 1\n",
        "      randRoll = Roll2Dice()\n",
        "      listOfRolls.append(randRoll)\n",
        "      x = ComeOutRoll(randRoll)\n",
        "    else:\n",
        "      point = x\n",
        "      rollCounter += 1\n",
        "      randRoll = Roll2Dice()\n",
        "      listOfRolls.append(randRoll)\n",
        "      listOfRolls.append(point)\n",
        "      x = SetPointRoll(randRoll,point)\n",
        "  else:\n",
        "    listOfRolls.append(x)\n",
        "  return rollCounter, listOfRolls"
      ],
      "execution_count": 23,
      "outputs": []
    },
    {
      "cell_type": "code",
      "metadata": {
        "colab": {
          "base_uri": "https://localhost:8080/"
        },
        "id": "dBxdCjPTsm5n",
        "outputId": "eb769a67-a024-4e37-e5a5-64710b63d8ca"
      },
      "source": [
        "ErrorTestingPlayCraps()"
      ],
      "execution_count": 55,
      "outputs": [
        {
          "output_type": "execute_result",
          "data": {
            "text/plain": [
              "(3, [[4, 2], [1, 4], 6, [5, 2], 6, 'SevenOut'])"
            ]
          },
          "metadata": {},
          "execution_count": 55
        }
      ]
    },
    {
      "cell_type": "code",
      "metadata": {
        "id": "NbmPaqXflTut",
        "colab": {
          "base_uri": "https://localhost:8080/"
        },
        "outputId": "35217979-f7ba-4fab-9b2e-8670a049f9cc"
      },
      "source": [
        "ErrorTestingPlayCraps()"
      ],
      "execution_count": 25,
      "outputs": [
        {
          "output_type": "execute_result",
          "data": {
            "text/plain": [
              "(19,\n",
              " [[6, 2],\n",
              "  [3, 6],\n",
              "  8,\n",
              "  [1, 5],\n",
              "  8,\n",
              "  [5, 5],\n",
              "  8,\n",
              "  [3, 1],\n",
              "  8,\n",
              "  [5, 4],\n",
              "  8,\n",
              "  [4, 1],\n",
              "  8,\n",
              "  [4, 6],\n",
              "  8,\n",
              "  [2, 1],\n",
              "  8,\n",
              "  [2, 4],\n",
              "  8,\n",
              "  [6, 3],\n",
              "  8,\n",
              "  [5, 6],\n",
              "  8,\n",
              "  [3, 5],\n",
              "  8,\n",
              "  'Pass Line Win',\n",
              "  [4, 1],\n",
              "  [2, 6],\n",
              "  5,\n",
              "  [1, 1],\n",
              "  5,\n",
              "  [2, 1],\n",
              "  5,\n",
              "  [2, 2],\n",
              "  5,\n",
              "  [4, 3],\n",
              "  5,\n",
              "  'SevenOut'])"
            ]
          },
          "metadata": {},
          "execution_count": 25
        }
      ]
    },
    {
      "cell_type": "markdown",
      "metadata": {
        "id": "rJeusM4Sl5Um"
      },
      "source": [
        "This simulation is more fun as it really shows you what happens on each roll.\n",
        "\n",
        "\n",
        "Trying this ***many*** times, I did not see an error.  This makes me feel like the reference [here](https://wizardofodds.com/ask-the-wizard/craps/probability/) has an error in their computation.  Let's see if we can find the value theoretically we have simulated!"
      ]
    },
    {
      "cell_type": "markdown",
      "source": [
        "## Some Maths"
      ],
      "metadata": {
        "id": "DZsR3x8P7XYR"
      }
    },
    {
      "cell_type": "markdown",
      "metadata": {
        "id": "1hVFhgtz3Hrp"
      },
      "source": [
        "Here is the theoretical expected value.  Call the expected value $x$.  Then on the **ComeOutRoll**, craps results in the end of the game, natural results in playing the game again plus the roll you made and setting the point will result in a small game.\n",
        "\n",
        "Each point will have a different expected value.  The point at 4 or 10 will result in an expected value of 4 (point rolls end with 4 or 7 $p = \\frac{9}{36}$)  The game continues the probability of $\\frac39$.  All the rest are similar.  This creates an expected value computation of\n",
        "\n",
        "$$\n",
        "x\n",
        "=\n",
        "\\frac4{36}\n",
        "+\n",
        "\\frac8{36}(x+1)\n",
        "+\n",
        "2\\cdot \\frac3{36}\\left(4+1+\\frac39x\\right)\n",
        "+\n",
        "2\\cdot \\frac4{36}\\left(3.6+1+\\frac4{10}x\\right)\n",
        "+\n",
        "2\\cdot \\frac5{36}\\left(\\frac{36}{11}+1+\\frac5{11}x\\right)\n",
        "$$"
      ]
    },
    {
      "cell_type": "code",
      "metadata": {
        "id": "ivFNTqC8mLHk",
        "colab": {
          "base_uri": "https://localhost:8080/"
        },
        "outputId": "4a9de090-5ade-4e00-9162-42d64ca40bc2"
      },
      "source": [
        "import sympy\n",
        "\n",
        "x = sympy.Symbol('x')\n",
        "sympy.solve(4/36+8/36*(x+1)+2*3/36*(5+3/9*x)+8/36*(4.6+4/10*x)+10/36*(36/11+1+5/11*x)-x,x)"
      ],
      "execution_count": 26,
      "outputs": [
        {
          "output_type": "execute_result",
          "data": {
            "text/plain": [
              "[6.65737051792830]"
            ]
          },
          "metadata": {},
          "execution_count": 26
        }
      ]
    },
    {
      "cell_type": "markdown",
      "source": [
        "### An Attempt to Compute the Variance"
      ],
      "metadata": {
        "id": "Q88WaaW1Q1us"
      }
    },
    {
      "cell_type": "code",
      "source": [
        "z = np.random.geometric(p=251/1671, size=1000)\n",
        "\n",
        "ax = plt.hist([list1,z])\n",
        "plt.legend(labels = ['Simulation','Geometric'])\n",
        "plt.show()"
      ],
      "metadata": {
        "id": "fczeZ2aJRA2s",
        "outputId": "559c7fa6-e5bd-440e-acf3-9ccad0adc588",
        "colab": {
          "base_uri": "https://localhost:8080/",
          "height": 265
        }
      },
      "execution_count": 27,
      "outputs": [
        {
          "output_type": "display_data",
          "data": {
            "text/plain": [
              "<Figure size 432x288 with 1 Axes>"
            ],
            "image/png": "[encoded data removed]"
          },
          "metadata": {
            "needs_background": "light"
          }
        }
      ]
    },
    {
      "cell_type": "code",
      "source": [
        "import seaborn as sns\n",
        "\n",
        "ax = sns.histplot([list1,z], multiple = 'layer', bins = 10) \n",
        "plt.legend(labels = ['Simulation','Geometric'])\n",
        "ax.set(title='Is this Geometric?')\n",
        "plt.show()"
      ],
      "metadata": {
        "id": "IJF6FvFdTg6n",
        "outputId": "e5bdf179-a43d-4a10-aecd-a0d584365b9b",
        "colab": {
          "base_uri": "https://localhost:8080/",
          "height": 281
        }
      },
      "execution_count": 28,
      "outputs": [
        {
          "output_type": "display_data",
          "data": {
            "text/plain": [
              "<Figure size 432x288 with 1 Axes>"
            ],
            "image/png": "[encoded data removed]"
          },
          "metadata": {
            "needs_background": "light"
          }
        }
      ]
    },
    {
      "cell_type": "markdown",
      "metadata": {
        "id": "Jfjuy2MSD3ML"
      },
      "source": [
        "I am curious if I can use this to match up the variance.  Under the assumption that this is a geometric distribution (I stretch I think!)  The expected value is \n",
        "$$\n",
        "E[x] = \\frac1p = \\frac{1671}{251}\\approx 6.657\n",
        "$$\n",
        "The variance is similarly computed as\n",
        "$$\n",
        "E\\left[\\left(x-E[x]\\right)^2\\right] = \\frac{1-p}{p^2} = \\frac{1671\\cdot 1420}{251^2} \\approx 37.663\n",
        "$$\n",
        "\n"
      ]
    },
    {
      "cell_type": "code",
      "metadata": {
        "id": "qSFRt7oN5Ku4",
        "outputId": "605dbe6e-d5d2-4882-b0e6-d928c4b7fa11",
        "colab": {
          "base_uri": "https://localhost:8080/"
        }
      },
      "source": [
        "import numpy as np\n",
        "\n",
        "(np.std(list1))**2\n"
      ],
      "execution_count": 29,
      "outputs": [
        {
          "output_type": "execute_result",
          "data": {
            "text/plain": [
              "38.316544"
            ]
          },
          "metadata": {},
          "execution_count": 29
        }
      ]
    },
    {
      "cell_type": "markdown",
      "source": [
        "The random variables generated from the geometric distribution have a variance of"
      ],
      "metadata": {
        "id": "hdd25E86tD26"
      }
    },
    {
      "cell_type": "code",
      "source": [
        "(np.std(z))**2"
      ],
      "metadata": {
        "id": "udSDAIP3tRI0",
        "outputId": "cf0a918d-1229-4a43-92c2-f68e791b1ad1",
        "colab": {
          "base_uri": "https://localhost:8080/"
        }
      },
      "execution_count": 30,
      "outputs": [
        {
          "output_type": "execute_result",
          "data": {
            "text/plain": [
              "37.446751"
            ]
          },
          "metadata": {},
          "execution_count": 30
        }
      ]
    },
    {
      "cell_type": "markdown",
      "metadata": {
        "id": "IyRs8Tj4GSy8"
      },
      "source": [
        "Not terribly far off.  Let's do a little more thorough checking of this value using a Monte Carlo simulation."
      ]
    },
    {
      "cell_type": "code",
      "metadata": {
        "id": "J3FJssW2FG_E"
      },
      "source": [
        "list2 = []\n",
        "for j in range(1000):\n",
        "  list1 = []\n",
        "  for i in range(1000):\n",
        "    list1.append(PlayCraps())\n",
        "  list2.append((np.std(list1))**2)"
      ],
      "execution_count": 31,
      "outputs": []
    },
    {
      "cell_type": "code",
      "metadata": {
        "id": "qFTVGqjRFJnG",
        "outputId": "db39c72a-5864-4ce6-d1ef-241c9128c946",
        "colab": {
          "base_uri": "https://localhost:8080/",
          "height": 265
        }
      },
      "source": [
        "plt.hist(list2)\n",
        "plt.show()"
      ],
      "execution_count": 32,
      "outputs": [
        {
          "output_type": "display_data",
          "data": {
            "text/plain": [
              "<Figure size 432x288 with 1 Axes>"
            ],
            "image/png": "[encoded data removed]"
          },
          "metadata": {
            "needs_background": "light"
          }
        }
      ]
    },
    {
      "cell_type": "code",
      "metadata": {
        "id": "atfivDZrGxMX",
        "outputId": "91e7ebdb-f13d-48a7-9eec-71419b362536",
        "colab": {
          "base_uri": "https://localhost:8080/"
        }
      },
      "source": [
        "xbar = mean(list2)\n",
        "s = np.std(list2)\n",
        "\n",
        "print(\"mean is {} and standard deviation is {}\".format(xbar,s))"
      ],
      "execution_count": 33,
      "outputs": [
        {
          "output_type": "stream",
          "name": "stdout",
          "text": [
            "mean is 33.95546612 and standard deviation is 3.038423534530926\n"
          ]
        }
      ]
    },
    {
      "cell_type": "markdown",
      "metadata": {
        "id": "ujEwn4hkG4ZM"
      },
      "source": [
        "This is clearly not correct.  It gives me an estimate but I am missing some important behavior of the random variable.  Using the numerical simulation gives me a great way to check this though!  \n",
        "\n",
        "To be thorough, I'll run a hypothesis test.  Could the variance be 37.663 if the mean of 1000 of them is 33.853?  This will look a little strange but because of the way I have simulated it, I am asking can $\\mu = 37.663$ if $\\bar x \\approx 33.8$ with $n = 1000$?\n",
        "\n",
        "$$\n",
        "t = \\frac{\\mu - \\bar x}{\\frac{s}{\\sqrt{n}}}\n",
        "$$\n",
        "\n",
        "Degrees of freedom here will be 999."
      ]
    },
    {
      "cell_type": "code",
      "source": [
        "t = (37.663-xbar)/(s/np.sqrt(1000))\n",
        "\n",
        "t"
      ],
      "metadata": {
        "id": "RbsnrOzaMtfQ",
        "outputId": "b3c62649-1386-4d6e-d73b-a4768b8ff8d8",
        "colab": {
          "base_uri": "https://localhost:8080/"
        }
      },
      "execution_count": 34,
      "outputs": [
        {
          "output_type": "execute_result",
          "data": {
            "text/plain": [
              "38.586627011666394"
            ]
          },
          "metadata": {},
          "execution_count": 34
        }
      ]
    },
    {
      "cell_type": "code",
      "source": [
        "1-stats.t.cdf(t,999)"
      ],
      "metadata": {
        "id": "cZ3uuLyRN0EP",
        "outputId": "f68312f8-d021-4b6e-8a39-f0869fd4a9fe",
        "colab": {
          "base_uri": "https://localhost:8080/"
        }
      },
      "execution_count": 35,
      "outputs": [
        {
          "output_type": "execute_result",
          "data": {
            "text/plain": [
              "0.0"
            ]
          },
          "metadata": {},
          "execution_count": 35
        }
      ]
    },
    {
      "cell_type": "markdown",
      "source": [
        "## I didn't understand the game of craps!\n",
        "\n",
        "The only time you must pass the dice is when you seven out.  Although the pass line bet loses on a craps roll, you can roll again.  Let's fix that in our code!"
      ],
      "metadata": {
        "id": "Dmg0N5d5vAel"
      }
    },
    {
      "cell_type": "code",
      "source": [
        "def PlayCraps4Real():\n",
        "  x = ComeOutRoll(Roll2Dice())\n",
        "  rollCounter = 1\n",
        "  while (x != 'SevenOut'):\n",
        "    if (x == 'comeAgain') or (x == 'Craps'):\n",
        "      rollCounter += 1\n",
        "      x = ComeOutRoll(Roll2Dice())\n",
        "    else:\n",
        "      point = x\n",
        "      rollCounter += 1\n",
        "      x = SetPointRoll(Roll2Dice(),point)\n",
        "  return rollCounter"
      ],
      "metadata": {
        "id": "bO9FP38kvQbL"
      },
      "execution_count": 36,
      "outputs": []
    },
    {
      "cell_type": "code",
      "source": [
        "list10 = []\n",
        "for i in range(100000):\n",
        "  list10.append(PlayCraps4Real())\n",
        "sum(list10)/len(list10)"
      ],
      "metadata": {
        "id": "fQ3GtOgOvX2b",
        "outputId": "1e32547a-ce20-4aae-ba6b-864f513f7689",
        "colab": {
          "base_uri": "https://localhost:8080/"
        }
      },
      "execution_count": 37,
      "outputs": [
        {
          "output_type": "execute_result",
          "data": {
            "text/plain": [
              "8.52765"
            ]
          },
          "metadata": {},
          "execution_count": 37
        }
      ]
    },
    {
      "cell_type": "code",
      "source": [
        "plt.hist(list10, bins = 25)\n",
        "plt.show()"
      ],
      "metadata": {
        "id": "4x_H4jdIMPhs",
        "outputId": "fa1d60aa-bf52-47a6-895d-74aaaf3077ce",
        "colab": {
          "base_uri": "https://localhost:8080/",
          "height": 269
        }
      },
      "execution_count": 38,
      "outputs": [
        {
          "output_type": "display_data",
          "data": {
            "text/plain": [
              "<Figure size 432x288 with 1 Axes>"
            ],
            "image/png": "[encoded data removed]"
          },
          "metadata": {
            "needs_background": "light"
          }
        }
      ]
    },
    {
      "cell_type": "code",
      "source": [
        "list20 = []\n",
        "for j in range(1000):\n",
        "  list15 = []\n",
        "  for i in range(1000):\n",
        "    list15.append(PlayCraps4Real())\n",
        "  list20.append(sum(list15)/len(list15))"
      ],
      "metadata": {
        "id": "f-tX5zaVvdb0"
      },
      "execution_count": 39,
      "outputs": []
    },
    {
      "cell_type": "code",
      "source": [
        "plt.hist(list20)\n",
        "plt.show()"
      ],
      "metadata": {
        "id": "htsVIvU7voVT",
        "outputId": "1e960876-23aa-48a3-9833-34b9e5a55deb",
        "colab": {
          "base_uri": "https://localhost:8080/",
          "height": 265
        }
      },
      "execution_count": 40,
      "outputs": [
        {
          "output_type": "display_data",
          "data": {
            "text/plain": [
              "<Figure size 432x288 with 1 Axes>"
            ],
            "image/png": "[encoded data removed]"
          },
          "metadata": {
            "needs_background": "light"
          }
        }
      ]
    },
    {
      "cell_type": "code",
      "source": [
        "mean(list20)"
      ],
      "metadata": {
        "id": "JncswpHevsGz",
        "outputId": "fb61a106-07bf-40bb-bd3f-e04f859d297a",
        "colab": {
          "base_uri": "https://localhost:8080/"
        }
      },
      "execution_count": 41,
      "outputs": [
        {
          "output_type": "execute_result",
          "data": {
            "text/plain": [
              "8.529967000000001"
            ]
          },
          "metadata": {},
          "execution_count": 41
        }
      ]
    },
    {
      "cell_type": "markdown",
      "source": [
        "It should have been!\n",
        "\n",
        "$$\n",
        "x\n",
        "=\n",
        "\\frac4{36}(x+1)\n",
        "+\n",
        "\\frac8{36}(x+1)\n",
        "+\n",
        "2\\cdot \\frac3{36}\\left(4+1+\\frac39x\\right)\n",
        "+\n",
        "2\\cdot \\frac4{36}\\left(3.6+1+\\frac4{10}x\\right)\n",
        "+\n",
        "2\\cdot \\frac5{36}\\left(\\frac{36}{11}+1+\\frac5{11}x\\right)\n",
        "$$"
      ],
      "metadata": {
        "id": "qRoq21DdLUVs"
      }
    },
    {
      "cell_type": "code",
      "source": [
        "x = sympy.Symbol('x')\n",
        "sympy.solve(12/36*(x+1)+2*3/36*(5+3/9*x)+8/36*(4.6+4/10*x)+10/36*(36/11+1+5/11*x)-x,x)"
      ],
      "metadata": {
        "id": "surIAWWRvv2S",
        "outputId": "0fa865f5-9fbc-46b5-9ca3-00e1592363f8",
        "colab": {
          "base_uri": "https://localhost:8080/"
        }
      },
      "execution_count": 42,
      "outputs": [
        {
          "output_type": "execute_result",
          "data": {
            "text/plain": [
              "[8.52551020408164]"
            ]
          },
          "metadata": {},
          "execution_count": 42
        }
      ]
    },
    {
      "cell_type": "markdown",
      "source": [
        "This agrees with the reference from above...\n",
        "\n"
      ],
      "metadata": {
        "id": "D4OWQtvvxnp3"
      }
    },
    {
      "cell_type": "code",
      "source": [
        ""
      ],
      "metadata": {
        "id": "7CosNeo7t2yC"
      },
      "execution_count": 42,
      "outputs": []
    }
  ]
}