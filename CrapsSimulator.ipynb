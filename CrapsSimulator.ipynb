{
  "nbformat": 4,
  "nbformat_minor": 0,
  "metadata": {
    "colab": {
      "name": "Untitled55.ipynb",
      "provenance": [],
      "include_colab_link": true
    },
    "kernelspec": {
      "name": "python3",
      "display_name": "Python 3"
    },
    "language_info": {
      "name": "python"
    }
  },
  "cells": [
    {
      "cell_type": "markdown",
      "metadata": {
        "id": "view-in-github",
        "colab_type": "text"
      },
      "source": [
        "<a href=\"https://colab.research.google.com/github/nurfnick/Mathematical_Musings/blob/main/CrapsSimulator.ipynb\" target=\"_parent\"><img src=\"https://colab.research.google.com/assets/colab-badge.svg\" alt=\"Open In Colab\"/></a>"
      ]
    },
    {
      "cell_type": "markdown",
      "metadata": {
        "id": "KEbGpsnhhgGO"
      },
      "source": [
        "# Craps Simulator for One Shooter"
      ]
    },
    {
      "cell_type": "markdown",
      "source": [
        "## MAA OK-AR Section Presentation\n",
        "\n",
        "\n",
        "\n",
        "> **Abstract**: \n",
        "> The game of craps is a simple probabilitstic game played with dice around the world for gambling purposes.  We will examine the game through simulation using python and Jupyter notebooks.  We will discuss expected values, interesting observations on the game play and why the table is often the loudest at the casino.\n",
        "\n"
      ],
      "metadata": {
        "id": "MLPn2AHw471z"
      }
    },
    {
      "cell_type": "markdown",
      "source": [
        "## Simulating Six Sided Dice"
      ],
      "metadata": {
        "id": "jHy_vEa7EFRV"
      }
    },
    {
      "cell_type": "code",
      "metadata": {
        "colab": {
          "base_uri": "https://localhost:8080/"
        },
        "id": "DmbMesWETxJb",
        "outputId": "ac807f56-90d6-4ca1-8ba1-a5748760258e"
      },
      "source": [
        "import random\n",
        "\n",
        "random.randint(1,6)"
      ],
      "execution_count": null,
      "outputs": [
        {
          "output_type": "execute_result",
          "data": {
            "text/plain": [
              "2"
            ]
          },
          "metadata": {},
          "execution_count": 1
        }
      ]
    },
    {
      "cell_type": "markdown",
      "metadata": {
        "id": "cmBg8RPuhmh5"
      },
      "source": [
        "Above code rolls a dice once."
      ]
    },
    {
      "cell_type": "code",
      "metadata": {
        "id": "2iZcoXocT1qh"
      },
      "source": [
        "def Roll2Dice():\n",
        "  return [random.randint(1,6),random.randint(1,6)]"
      ],
      "execution_count": null,
      "outputs": []
    },
    {
      "cell_type": "markdown",
      "metadata": {
        "id": "-RHUCT-QhqUv"
      },
      "source": [
        ""
      ]
    },
    {
      "cell_type": "code",
      "metadata": {
        "colab": {
          "base_uri": "https://localhost:8080/"
        },
        "id": "2h2W2QBOUNUQ",
        "outputId": "03059f82-0773-47ae-c3e1-f8c412d98928"
      },
      "source": [
        "Roll2Dice()"
      ],
      "execution_count": null,
      "outputs": [
        {
          "output_type": "execute_result",
          "data": {
            "text/plain": [
              "[5, 4]"
            ]
          },
          "metadata": {},
          "execution_count": 3
        }
      ]
    },
    {
      "cell_type": "markdown",
      "metadata": {
        "id": "DotTMWEqhrmK"
      },
      "source": [
        "This rolls two dice.  The game of craps is actually interested in the sum of the two dice most of the time...  We know that this is distributed like the following:\n",
        "\n",
        "Sum | Probability\n",
        "----|------------\n",
        "2|$\\frac 1{36}$\n",
        "3|$\\frac 2{36}$\n",
        "4|$\\frac 3{36}$\n",
        "5|$\\frac 4{36}$\n",
        "6|$\\frac 5{36}$\n",
        "7|$\\frac 6{36}$\n",
        "8|$\\frac 5{36}$\n",
        "9|$\\frac 4{36}$\n",
        "10|$\\frac 3{36}$\n",
        "11|$\\frac 2{36}$\n",
        "12|$\\frac 1{36}$\n",
        "\n",
        "We want to make sure we are seeing that in our simulation!"
      ]
    },
    {
      "cell_type": "markdown",
      "source": [
        "First I check using the built-in histogram feature from `numpy` and visualize with `matplotlib`."
      ],
      "metadata": {
        "id": "hFU2Tw9FGZ-T"
      }
    },
    {
      "cell_type": "code",
      "metadata": {
        "colab": {
          "base_uri": "https://localhost:8080/"
        },
        "id": "fwmyBoSJpC3Q",
        "outputId": "6080f76b-fba5-4c8b-fe9c-6d51c9a8484d"
      },
      "source": [
        "from numpy import histogram\n",
        "import numpy as np\n",
        "import matplotlib.pyplot as plt\n",
        "\n",
        "listy = []\n",
        "\n",
        "for i in range(10000):\n",
        "  listy.append(sum(Roll2Dice()))\n",
        "\n",
        "histogram(listy,bins = 11)"
      ],
      "execution_count": 19,
      "outputs": [
        {
          "output_type": "execute_result",
          "data": {
            "text/plain": [
              "(array([ 272,  567,  839, 1167, 1377, 1653, 1395, 1092,  839,  526,  273]),\n",
              " array([ 2.        ,  2.90909091,  3.81818182,  4.72727273,  5.63636364,\n",
              "         6.54545455,  7.45454545,  8.36363636,  9.27272727, 10.18181818,\n",
              "        11.09090909, 12.        ]))"
            ]
          },
          "metadata": {},
          "execution_count": 19
        }
      ]
    },
    {
      "cell_type": "code",
      "source": [
        "plt.hist(listy)\n",
        "plt.show()"
      ],
      "metadata": {
        "id": "eA9jXsIdErWf",
        "outputId": "1409971a-3a9f-4263-85c3-95a2cdcf3c0e",
        "colab": {
          "base_uri": "https://localhost:8080/",
          "height": 265
        }
      },
      "execution_count": 22,
      "outputs": [
        {
          "output_type": "display_data",
          "data": {
            "text/plain": [
              "<Figure size 432x288 with 1 Axes>"
            ],
            "image/png": "[encoded data removed]"
          },
          "metadata": {
            "needs_background": "light"
          }
        }
      ]
    },
    {
      "cell_type": "markdown",
      "source": [
        "That did not come out in the way I expected.  Let's tweek it a bit and do it by hand."
      ],
      "metadata": {
        "id": "-_3IHMFTGkjr"
      }
    },
    {
      "cell_type": "code",
      "metadata": {
        "colab": {
          "base_uri": "https://localhost:8080/"
        },
        "id": "vrEFNRkmqhJC",
        "outputId": "13416ace-c71c-4fb6-b3ea-30387cdcb598"
      },
      "source": [
        "sums = range(2,13,1)\n",
        "newlist =[]\n",
        "for i in sums:\n",
        "  newlist.append(0)\n",
        "\n",
        "for i in listy:\n",
        "  for j in sums:\n",
        "    if i == j:\n",
        "      newlist[i-2] +=1\n",
        "\n",
        "newlist"
      ],
      "execution_count": 23,
      "outputs": [
        {
          "output_type": "execute_result",
          "data": {
            "text/plain": [
              "[272, 567, 839, 1167, 1377, 1653, 1395, 1092, 839, 526, 273]"
            ]
          },
          "metadata": {},
          "execution_count": 23
        }
      ]
    },
    {
      "cell_type": "code",
      "source": [
        "plt.bar(x =sums, height = newlist)\n",
        "plt.show()"
      ],
      "metadata": {
        "id": "XBlTzXueFHP8",
        "outputId": "37b5a40e-6fe4-4ece-ea6b-8cc0bd5e4a2d",
        "colab": {
          "base_uri": "https://localhost:8080/",
          "height": 265
        }
      },
      "execution_count": 24,
      "outputs": [
        {
          "output_type": "display_data",
          "data": {
            "text/plain": [
              "<Figure size 432x288 with 1 Axes>"
            ],
            "image/png": "[encoded data removed]"
          },
          "metadata": {
            "needs_background": "light"
          }
        }
      ]
    },
    {
      "cell_type": "markdown",
      "metadata": {
        "id": "-1J5WK6FhwMT"
      },
      "source": [
        "Above I have checked that the outcomes are random but as expected.  Both codes do the same thing, even though the output is a bit different!  We should check that this does indeed follow the distribution given by preforming the goodness of fit test.\n",
        "\n",
        "$$\n",
        "\\chi^2 = \\sum_{i = 1}^n \\frac{\\left(O_i - E_i\\right)^2}{E_i}\n",
        "$$\n"
      ]
    },
    {
      "cell_type": "code",
      "source": [
        "expected = np.array([1,2,3,4,5,6,5,4,3,2,1])\n",
        "expected = expected/36*10000\n",
        "\n",
        "actual = np.array(newlist)\n",
        "\n",
        "chi = 0\n",
        "for i,val in enumerate(expected):\n",
        "  chi += (val-actual[i])**2/val\n",
        "\n",
        "chi"
      ],
      "metadata": {
        "id": "C6BNXuKVQKj3",
        "outputId": "870c8f49-086e-47ad-fa5f-919e2f8616b7",
        "colab": {
          "base_uri": "https://localhost:8080/"
        }
      },
      "execution_count": 25,
      "outputs": [
        {
          "output_type": "execute_result",
          "data": {
            "text/plain": [
              "5.468180000000001"
            ]
          },
          "metadata": {},
          "execution_count": 25
        }
      ]
    },
    {
      "cell_type": "code",
      "source": [
        "from scipy import stats\n",
        "\n",
        "1-stats.chi2.cdf(chi,10)"
      ],
      "metadata": {
        "id": "8zCfCgKvSmwt",
        "outputId": "a17db123-9b57-4ef3-a141-6a05d54129bf",
        "colab": {
          "base_uri": "https://localhost:8080/"
        }
      },
      "execution_count": 31,
      "outputs": [
        {
          "output_type": "execute_result",
          "data": {
            "text/plain": [
              "0.8577934151395078"
            ]
          },
          "metadata": {},
          "execution_count": 31
        }
      ]
    },
    {
      "cell_type": "markdown",
      "source": [
        "Getting the probability is much easier by using the builtins!"
      ],
      "metadata": {
        "id": "JbvhasGGTEtJ"
      }
    },
    {
      "cell_type": "code",
      "source": [
        "stats.chisquare(actual,expected)"
      ],
      "metadata": {
        "id": "A3lmY7dXRe_3",
        "outputId": "23d5c250-c136-4347-95ad-8596571202bb",
        "colab": {
          "base_uri": "https://localhost:8080/"
        }
      },
      "execution_count": 26,
      "outputs": [
        {
          "output_type": "execute_result",
          "data": {
            "text/plain": [
              "Power_divergenceResult(statistic=5.468180000000001, pvalue=0.8577934151395078)"
            ]
          },
          "metadata": {},
          "execution_count": 26
        }
      ]
    },
    {
      "cell_type": "markdown",
      "source": [
        "## Come Out Roll"
      ],
      "metadata": {
        "id": "BHa4By-uG8pT"
      }
    },
    {
      "cell_type": "markdown",
      "source": [
        "The first roll of craps is called the **come out roll**.  It can be repeated later in the game.  There are three possible outcomes:\n",
        "\n",
        "1. **Natural**: A seven or 11 is a natural and the Pass Line Bet wins\n",
        "2. **Craps**: A two, three or twelve is craps and the Pass Line Bet Losses\n",
        "3. **Set the Point**: 4,5,6,8,9,10 is rolled, the shooter continues to roll"
      ],
      "metadata": {
        "id": "hVpSagYMHC80"
      }
    },
    {
      "cell_type": "code",
      "metadata": {
        "colab": {
          "base_uri": "https://localhost:8080/"
        },
        "id": "EmPCXtfLUO2n",
        "outputId": "19f34af4-cfde-4677-f2a0-7231e77473c3"
      },
      "source": [
        "def ComeOutRoll(TwoDice):\n",
        "  s = sum(TwoDice)\n",
        "  if (s == 2)|(s == 3)|(s==12):\n",
        "    return 'Craps'\n",
        "  elif (s == 7)|(s == 11):\n",
        "    return 'comeAgain'\n",
        "  else:\n",
        "    return s #return the point\n",
        "\n",
        "ComeOutRoll([4,4])"
      ],
      "execution_count": null,
      "outputs": [
        {
          "output_type": "execute_result",
          "data": {
            "text/plain": [
              "8"
            ]
          },
          "metadata": {},
          "execution_count": 6
        }
      ]
    },
    {
      "cell_type": "code",
      "metadata": {
        "colab": {
          "base_uri": "https://localhost:8080/",
          "height": 36
        },
        "id": "VoPZtKkjVP5I",
        "outputId": "b229a73d-51a0-4b3a-c642-9b07d08b8ede"
      },
      "source": [
        "ComeOutRoll([6,6])"
      ],
      "execution_count": null,
      "outputs": [
        {
          "output_type": "execute_result",
          "data": {
            "application/vnd.google.colaboratory.intrinsic+json": {
              "type": "string"
            },
            "text/plain": [
              "'Craps'"
            ]
          },
          "metadata": {},
          "execution_count": 7
        }
      ]
    },
    {
      "cell_type": "markdown",
      "metadata": {
        "id": "_jtsAppwh92f"
      },
      "source": [
        "The `ComeOutRoll` is the first roll in the craps game.  There are three options **Craps** (2,3,12) **Natural** (7,11) (designated here as 'comeAgain' since you will get another come out roll.  Any othe value will set the point, the function just returns that number."
      ]
    },
    {
      "cell_type": "code",
      "metadata": {
        "colab": {
          "base_uri": "https://localhost:8080/",
          "height": 36
        },
        "id": "9MdCCcAYVUcA",
        "outputId": "723ea85a-4f85-4dee-e9ff-28fdcc5e0cb8"
      },
      "source": [
        "def SetPointRoll(TwoDice,point):\n",
        "  s = sum(TwoDice)\n",
        "  if s == 7:\n",
        "    return 'SevenOut'\n",
        "  elif s == point:\n",
        "    return 'comeAgain'\n",
        "  else:\n",
        "    return point\n",
        "\n",
        "SetPointRoll([5,4],9)"
      ],
      "execution_count": null,
      "outputs": [
        {
          "output_type": "execute_result",
          "data": {
            "application/vnd.google.colaboratory.intrinsic+json": {
              "type": "string"
            },
            "text/plain": [
              "'comeAgain'"
            ]
          },
          "metadata": {},
          "execution_count": 8
        }
      ]
    },
    {
      "cell_type": "code",
      "metadata": {
        "id": "VbBiy9C3hdOO",
        "colab": {
          "base_uri": "https://localhost:8080/",
          "height": 36
        },
        "outputId": "1b604df6-172e-4fce-aee6-635c974657a9"
      },
      "source": [
        "SetPointRoll([3,4],4)"
      ],
      "execution_count": null,
      "outputs": [
        {
          "output_type": "execute_result",
          "data": {
            "application/vnd.google.colaboratory.intrinsic+json": {
              "type": "string"
            },
            "text/plain": [
              "'SevenOut'"
            ]
          },
          "metadata": {},
          "execution_count": 9
        }
      ]
    },
    {
      "cell_type": "code",
      "metadata": {
        "id": "OeT6qYdvimS7",
        "colab": {
          "base_uri": "https://localhost:8080/"
        },
        "outputId": "e2fad9c1-c647-49b7-aade-bcb1635de587"
      },
      "source": [
        "SetPointRoll([3,1],5)"
      ],
      "execution_count": null,
      "outputs": [
        {
          "output_type": "execute_result",
          "data": {
            "text/plain": [
              "5"
            ]
          },
          "metadata": {},
          "execution_count": 10
        }
      ]
    },
    {
      "cell_type": "markdown",
      "metadata": {
        "id": "rHqVxReWit0V"
      },
      "source": [
        "After the point has been set, you will roll over and over again until you **comeAgain** by hitting the same point or **SevenOut** by rolling a 7.  The function returns the point if neither of those happen."
      ]
    },
    {
      "cell_type": "code",
      "metadata": {
        "id": "Ld1ZFAKeV_UV"
      },
      "source": [
        "def PlayCraps():\n",
        "  x = ComeOutRoll(Roll2Dice())\n",
        "  rollCounter = 1\n",
        "  while (x != 'Craps')&(x != 'SevenOut'):\n",
        "    if x == 'comeAgain':\n",
        "      rollCounter += 1\n",
        "      x = ComeOutRoll(Roll2Dice())\n",
        "    else:\n",
        "      point = x\n",
        "      rollCounter += 1\n",
        "      x = SetPointRoll(Roll2Dice(),point)\n",
        "  return rollCounter\n"
      ],
      "execution_count": null,
      "outputs": []
    },
    {
      "cell_type": "code",
      "metadata": {
        "colab": {
          "base_uri": "https://localhost:8080/"
        },
        "id": "1Eqg-MgUXXuc",
        "outputId": "e01c0a18-cfa9-428a-9a4e-72314153653d"
      },
      "source": [
        "PlayCraps()"
      ],
      "execution_count": null,
      "outputs": [
        {
          "output_type": "execute_result",
          "data": {
            "text/plain": [
              "4"
            ]
          },
          "metadata": {},
          "execution_count": 12
        }
      ]
    },
    {
      "cell_type": "markdown",
      "metadata": {
        "id": "RVHT2BIsjqLZ"
      },
      "source": [
        "`PlayCraps` will play the game returning the number of rolls until you **Crap** or **SevenOut**.  Let's compute some statistics about it."
      ]
    },
    {
      "cell_type": "code",
      "metadata": {
        "colab": {
          "base_uri": "https://localhost:8080/"
        },
        "id": "Guy2bFBVXcFt",
        "outputId": "7ae4e591-d647-4748-f48b-5d9f826399ed"
      },
      "source": [
        "\n",
        "list1 = []\n",
        "for i in range(100000):\n",
        "  list1.append(PlayCraps())\n",
        "sum(list1)/len(list1)\n"
      ],
      "execution_count": null,
      "outputs": [
        {
          "output_type": "execute_result",
          "data": {
            "text/plain": [
              "6.69846"
            ]
          },
          "metadata": {},
          "execution_count": 13
        }
      ]
    },
    {
      "cell_type": "code",
      "metadata": {
        "colab": {
          "base_uri": "https://localhost:8080/",
          "height": 340
        },
        "id": "pWPcOijyX4au",
        "outputId": "874b4700-2fa6-4a72-ca7a-a09db2e07040"
      },
      "source": [
        "import matplotlib.pyplot as plt\n",
        "\n",
        "plt.hist(list1)"
      ],
      "execution_count": null,
      "outputs": [
        {
          "output_type": "execute_result",
          "data": {
            "text/plain": [
              "(array([6.7782e+04, 2.2541e+04, 6.7630e+03, 1.9840e+03, 6.2800e+02,\n",
              "        2.1500e+02, 6.1000e+01, 2.0000e+01, 3.0000e+00, 3.0000e+00]),\n",
              " array([ 1.,  8., 15., 22., 29., 36., 43., 50., 57., 64., 71.]),\n",
              " <a list of 10 Patch objects>)"
            ]
          },
          "metadata": {},
          "execution_count": 14
        },
        {
          "output_type": "display_data",
          "data": {
            "image/png": "[encoded data removed]",
            "text/plain": [
              "<Figure size 432x288 with 1 Axes>"
            ]
          },
          "metadata": {
            "needs_background": "light"
          }
        }
      ]
    },
    {
      "cell_type": "markdown",
      "metadata": {
        "id": "9S8rqiGdkErX"
      },
      "source": [
        "The distribution is not normal!  Seems like it is mostly just a few rolls.  I wonder what the expected or average value is."
      ]
    },
    {
      "cell_type": "code",
      "metadata": {
        "id": "3lu03WfNkT5S"
      },
      "source": [
        "list2 = []\n",
        "for j in range(1000):\n",
        "  list1 = []\n",
        "  for i in range(1000):\n",
        "    list1.append(PlayCraps())\n",
        "  list2.append(sum(list1)/len(list1))"
      ],
      "execution_count": null,
      "outputs": []
    },
    {
      "cell_type": "code",
      "metadata": {
        "id": "bTY1tRoskuYu",
        "colab": {
          "base_uri": "https://localhost:8080/",
          "height": 339
        },
        "outputId": "8fe8d759-7e1d-41e4-93e5-eca16727d749"
      },
      "source": [
        "plt.hist(list2)"
      ],
      "execution_count": null,
      "outputs": [
        {
          "output_type": "execute_result",
          "data": {
            "text/plain": [
              "(array([  6.,  33.,  72., 168., 256., 216., 148.,  70.,  23.,   8.]),\n",
              " array([6.103 , 6.2156, 6.3282, 6.4408, 6.5534, 6.666 , 6.7786, 6.8912,\n",
              "        7.0038, 7.1164, 7.229 ]),\n",
              " <a list of 10 Patch objects>)"
            ]
          },
          "metadata": {},
          "execution_count": 16
        },
        {
          "output_type": "display_data",
          "data": {
            "image/png": "[encoded data removed]",
            "text/plain": [
              "<Figure size 432x288 with 1 Axes>"
            ]
          },
          "metadata": {
            "needs_background": "light"
          }
        }
      ]
    },
    {
      "cell_type": "code",
      "metadata": {
        "id": "bSv9hHXkk0Im",
        "colab": {
          "base_uri": "https://localhost:8080/"
        },
        "outputId": "7d8e5fef-af08-4d56-c732-687fe833d42e"
      },
      "source": [
        "from numpy import mean\n",
        "\n",
        "mean(list2)"
      ],
      "execution_count": null,
      "outputs": [
        {
          "output_type": "execute_result",
          "data": {
            "text/plain": [
              "6.657482"
            ]
          },
          "metadata": {},
          "execution_count": 17
        }
      ]
    },
    {
      "cell_type": "markdown",
      "metadata": {
        "id": "VGG988Vqk6cY"
      },
      "source": [
        "As I perused the internet for this value, I found lots of answers that were larger!  How can that be!  At first I thought I had the program wrong.  Below I write some code to check the craps game by hand."
      ]
    },
    {
      "cell_type": "code",
      "metadata": {
        "id": "uKYlmD90Yb5e"
      },
      "source": [
        "def ErrorTestingPlayCraps():\n",
        "  listOfRolls = []\n",
        "  randRoll = Roll2Dice()\n",
        "  listOfRolls.append(randRoll)\n",
        "  x = ComeOutRoll(randRoll)\n",
        "  rollCounter = 1\n",
        "  PassLineWins = 0\n",
        "  while (x != 'Craps')&(x != 'SevenOut'):\n",
        "    if x == 'comeAgain':\n",
        "      listOfRolls.append('Pass Line Win')\n",
        "      PassLineWins += 1\n",
        "      rollCounter += 1\n",
        "      randRoll = Roll2Dice()\n",
        "      listOfRolls.append(randRoll)\n",
        "      x = ComeOutRoll(randRoll)\n",
        "    else:\n",
        "      point = x\n",
        "      rollCounter += 1\n",
        "      randRoll = Roll2Dice()\n",
        "      listOfRolls.append(randRoll)\n",
        "      listOfRolls.append(point)\n",
        "      x = SetPointRoll(randRoll,point)\n",
        "  else:\n",
        "    listOfRolls.append(x)\n",
        "  return rollCounter, listOfRolls"
      ],
      "execution_count": null,
      "outputs": []
    },
    {
      "cell_type": "code",
      "metadata": {
        "colab": {
          "base_uri": "https://localhost:8080/"
        },
        "id": "dBxdCjPTsm5n",
        "outputId": "5b232e6e-3858-4ab5-c52f-cc5e7de6b29b"
      },
      "source": [
        "ErrorTestingPlayCraps()"
      ],
      "execution_count": null,
      "outputs": [
        {
          "output_type": "execute_result",
          "data": {
            "text/plain": [
              "(7,\n",
              " [[2, 2],\n",
              "  [3, 1],\n",
              "  4,\n",
              "  'Pass Line Win',\n",
              "  [5, 2],\n",
              "  'Pass Line Win',\n",
              "  [2, 6],\n",
              "  [4, 5],\n",
              "  8,\n",
              "  [2, 6],\n",
              "  8,\n",
              "  'Pass Line Win',\n",
              "  [2, 1],\n",
              "  'Craps'])"
            ]
          },
          "metadata": {},
          "execution_count": 19
        }
      ]
    },
    {
      "cell_type": "code",
      "metadata": {
        "id": "NbmPaqXflTut",
        "colab": {
          "base_uri": "https://localhost:8080/"
        },
        "outputId": "89e8fe14-6aa0-477d-d718-7a2d7c2b8df9"
      },
      "source": [
        "ErrorTestingPlayCraps()"
      ],
      "execution_count": null,
      "outputs": [
        {
          "output_type": "execute_result",
          "data": {
            "text/plain": [
              "(4, [[3, 4], 'Pass Line Win', [3, 1], [4, 6], 4, [2, 5], 4, 'SevenOut'])"
            ]
          },
          "metadata": {},
          "execution_count": 20
        }
      ]
    },
    {
      "cell_type": "markdown",
      "metadata": {
        "id": "rJeusM4Sl5Um"
      },
      "source": [
        "This simulation is more fun as it really shows you what happens on each roll.\n",
        "\n",
        "\n",
        "Trying this ***many*** times, I did not see an error.  This makes me feel like the reference [here](https://wizardofodds.com/ask-the-wizard/craps/probability/) has an error in their computation.  Let's see if we can find the value theoretically we have simulated!"
      ]
    },
    {
      "cell_type": "markdown",
      "metadata": {
        "id": "1hVFhgtz3Hrp"
      },
      "source": [
        "Here is the theoretical expected value.  Call the expected value $x$.  Then on the **ComeOutRoll**, craps results in the end of the game, natural results in playing the game again plus the roll you made and setting the point will result in a small game.\n",
        "\n",
        "Each point will have a different expected value.  The point at 4 or 10 will result in an expected value of 4 (point rolls end with 4 or 7 $p = \\frac{9}{36}$)  The game continues the probability of $\\frac39$.  All the rest are similar.  This creates an expected value computation of\n",
        "\n",
        "$$\n",
        "x\n",
        "=\n",
        "\\frac4{36}\n",
        "+\n",
        "\\frac8{36}(x+1)\n",
        "+\n",
        "2\\cdot \\frac3{36}\\left(4+1+\\frac39x\\right)\n",
        "+\n",
        "2\\cdot \\frac4{36}\\left(3.6+1+\\frac4{10}x\\right)\n",
        "+\n",
        "2\\cdot \\frac5{36}\\left(\\frac{36}{11}+1+\\frac5{11}x\\right)\n",
        "$$"
      ]
    },
    {
      "cell_type": "code",
      "metadata": {
        "id": "ivFNTqC8mLHk",
        "colab": {
          "base_uri": "https://localhost:8080/"
        },
        "outputId": "cd5e4599-325a-4e94-8350-cedb540a454c"
      },
      "source": [
        "import sympy\n",
        "\n",
        "x = sympy.Symbol('x')\n",
        "sympy.solve(4/36+8/36*(x+1)+2*3/36*(5+3/9*x)+8/36*(4.6+4/10*x)+10/36*(36/11+1+5/11*x)-x,x)"
      ],
      "execution_count": null,
      "outputs": [
        {
          "output_type": "execute_result",
          "data": {
            "text/plain": [
              "[6.65737051792830]"
            ]
          },
          "metadata": {},
          "execution_count": 21
        }
      ]
    },
    {
      "cell_type": "markdown",
      "metadata": {
        "id": "Jfjuy2MSD3ML"
      },
      "source": [
        "I am curious if I can use this to match up the variance.  Under the assumption that this is a geometric distribution (I stretch I think!)  The expected value is \n",
        "$$\n",
        "E[x] = \\frac1p = \\frac{1671}{251}\\approx 6.657\n",
        "$$\n",
        "The variance is similarly computed as\n",
        "$$\n",
        "E\\left[\\left(x-E[x]\\right)^2\\right] = \\frac{1-p}{p^2} = \\frac{1671\\cdot 1420}{251^2} \\approx 37.663\n",
        "$$\n",
        "\n"
      ]
    },
    {
      "cell_type": "code",
      "metadata": {
        "id": "qSFRt7oN5Ku4",
        "outputId": "092cb754-f25c-49eb-d608-c1606d5b0275",
        "colab": {
          "base_uri": "https://localhost:8080/"
        }
      },
      "source": [
        "import numpy as np\n",
        "\n",
        "(np.std(list1))**2\n"
      ],
      "execution_count": null,
      "outputs": [
        {
          "output_type": "execute_result",
          "data": {
            "text/plain": [
              "33.289595999999996"
            ]
          },
          "metadata": {},
          "execution_count": 22
        }
      ]
    },
    {
      "cell_type": "markdown",
      "metadata": {
        "id": "IyRs8Tj4GSy8"
      },
      "source": [
        "Not terribly far off.  Let's do a little more thorough checking of this value using a Monte Carlo simulation."
      ]
    },
    {
      "cell_type": "code",
      "metadata": {
        "id": "J3FJssW2FG_E"
      },
      "source": [
        "list2 = []\n",
        "for j in range(1000):\n",
        "  list1 = []\n",
        "  for i in range(1000):\n",
        "    list1.append(PlayCraps())\n",
        "  list2.append((np.std(list1))**2)"
      ],
      "execution_count": null,
      "outputs": []
    },
    {
      "cell_type": "code",
      "metadata": {
        "id": "qFTVGqjRFJnG",
        "outputId": "219180d4-8b3a-498f-ccc7-d62aa63cd785",
        "colab": {
          "base_uri": "https://localhost:8080/",
          "height": 357
        }
      },
      "source": [
        "plt.hist(list2)"
      ],
      "execution_count": null,
      "outputs": [
        {
          "output_type": "execute_result",
          "data": {
            "text/plain": [
              "(array([  6.,  30., 108., 189., 273., 183., 123.,  56.,  25.,   7.]),\n",
              " array([24.933239 , 26.8208751, 28.7085112, 30.5961473, 32.4837834,\n",
              "        34.3714195, 36.2590556, 38.1466917, 40.0343278, 41.9219639,\n",
              "        43.8096   ]),\n",
              " <a list of 10 Patch objects>)"
            ]
          },
          "metadata": {},
          "execution_count": 24
        },
        {
          "output_type": "display_data",
          "data": {
            "image/png": "[encoded data removed]",
            "text/plain": [
              "<Figure size 432x288 with 1 Axes>"
            ]
          },
          "metadata": {
            "needs_background": "light"
          }
        }
      ]
    },
    {
      "cell_type": "code",
      "metadata": {
        "id": "atfivDZrGxMX",
        "outputId": "de256c0f-3ce3-4598-b22a-976d566990c1",
        "colab": {
          "base_uri": "https://localhost:8080/"
        }
      },
      "source": [
        "mean(list2)"
      ],
      "execution_count": null,
      "outputs": [
        {
          "output_type": "execute_result",
          "data": {
            "text/plain": [
              "33.854043139"
            ]
          },
          "metadata": {},
          "execution_count": 25
        }
      ]
    },
    {
      "cell_type": "markdown",
      "metadata": {
        "id": "ujEwn4hkG4ZM"
      },
      "source": [
        "This is clearly not correct.  It gives me an estimate but I am missing some important behavior of the random variable.  Using the numerical simulation gives me a great way to check this though!"
      ]
    },
    {
      "cell_type": "markdown",
      "source": [
        "## I didn't understand the game of craps!\n",
        "\n",
        "The only time you must pass the dice is when you seven out.  Although the pass line bet loses on a craps roll, you can roll again.  Let's fix that in our code!"
      ],
      "metadata": {
        "id": "Dmg0N5d5vAel"
      }
    },
    {
      "cell_type": "code",
      "source": [
        "def PlayCraps4Real():\n",
        "  x = ComeOutRoll(Roll2Dice())\n",
        "  rollCounter = 1\n",
        "  while (x != 'SevenOut'):\n",
        "    if (x == 'comeAgain') or (x == 'Craps'):\n",
        "      rollCounter += 1\n",
        "      x = ComeOutRoll(Roll2Dice())\n",
        "    else:\n",
        "      point = x\n",
        "      rollCounter += 1\n",
        "      x = SetPointRoll(Roll2Dice(),point)\n",
        "  return rollCounter"
      ],
      "metadata": {
        "id": "bO9FP38kvQbL"
      },
      "execution_count": null,
      "outputs": []
    },
    {
      "cell_type": "code",
      "source": [
        "list1 = []\n",
        "for i in range(100000):\n",
        "  list1.append(PlayCraps4Real())\n",
        "sum(list1)/len(list1)"
      ],
      "metadata": {
        "id": "fQ3GtOgOvX2b",
        "outputId": "e93acb1a-de0a-42fd-b4f9-32eb09f68880",
        "colab": {
          "base_uri": "https://localhost:8080/"
        }
      },
      "execution_count": null,
      "outputs": [
        {
          "output_type": "execute_result",
          "data": {
            "text/plain": [
              "8.54563"
            ]
          },
          "metadata": {},
          "execution_count": 37
        }
      ]
    },
    {
      "cell_type": "code",
      "source": [
        "list2 = []\n",
        "for j in range(1000):\n",
        "  list1 = []\n",
        "  for i in range(1000):\n",
        "    list1.append(PlayCraps4Real())\n",
        "  list2.append(sum(list1)/len(list1))"
      ],
      "metadata": {
        "id": "f-tX5zaVvdb0"
      },
      "execution_count": null,
      "outputs": []
    },
    {
      "cell_type": "code",
      "source": [
        "plt.hist(list2)"
      ],
      "metadata": {
        "id": "htsVIvU7voVT",
        "outputId": "af2d75b1-4ac0-4b97-b237-d3a4f9ad4112",
        "colab": {
          "base_uri": "https://localhost:8080/",
          "height": 339
        }
      },
      "execution_count": null,
      "outputs": [
        {
          "output_type": "execute_result",
          "data": {
            "text/plain": [
              "(array([  5.,  26.,  77., 163., 215., 227., 174.,  81.,  24.,   8.]),\n",
              " array([7.889 , 8.0165, 8.144 , 8.2715, 8.399 , 8.5265, 8.654 , 8.7815,\n",
              "        8.909 , 9.0365, 9.164 ]),\n",
              " <a list of 10 Patch objects>)"
            ]
          },
          "metadata": {},
          "execution_count": 39
        },
        {
          "output_type": "display_data",
          "data": {
            "image/png": "[encoded data removed]",
            "text/plain": [
              "<Figure size 432x288 with 1 Axes>"
            ]
          },
          "metadata": {
            "needs_background": "light"
          }
        }
      ]
    },
    {
      "cell_type": "code",
      "source": [
        "mean(list2)"
      ],
      "metadata": {
        "id": "JncswpHevsGz",
        "outputId": "bc284bd9-3c0b-474a-e02d-74cdf6b73ff8",
        "colab": {
          "base_uri": "https://localhost:8080/"
        }
      },
      "execution_count": null,
      "outputs": [
        {
          "output_type": "execute_result",
          "data": {
            "text/plain": [
              "8.530351000000001"
            ]
          },
          "metadata": {},
          "execution_count": 40
        }
      ]
    },
    {
      "cell_type": "code",
      "source": [
        "x = sympy.Symbol('x')\n",
        "sympy.solve(12/36*(x+1)+2*3/36*(5+3/9*x)+8/36*(4.6+4/10*x)+10/36*(36/11+1+5/11*x)-x,x)"
      ],
      "metadata": {
        "id": "surIAWWRvv2S",
        "outputId": "76eb66bb-1807-4068-b8ea-22f939d80901",
        "colab": {
          "base_uri": "https://localhost:8080/"
        }
      },
      "execution_count": null,
      "outputs": [
        {
          "output_type": "execute_result",
          "data": {
            "text/plain": [
              "[8.52551020408164]"
            ]
          },
          "metadata": {},
          "execution_count": 41
        }
      ]
    },
    {
      "cell_type": "markdown",
      "source": [
        "This agrees with the reference from above..."
      ],
      "metadata": {
        "id": "D4OWQtvvxnp3"
      }
    },
    {
      "cell_type": "code",
      "source": [
        ""
      ],
      "metadata": {
        "id": "IkaWw28OwzJh"
      },
      "execution_count": null,
      "outputs": []
    }
  ]
}