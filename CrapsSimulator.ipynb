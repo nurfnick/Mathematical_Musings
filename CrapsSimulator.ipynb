{
  "nbformat": 4,
  "nbformat_minor": 0,
  "metadata": {
    "colab": {
      "name": "Untitled55.ipynb",
      "provenance": [],
      "include_colab_link": true
    },
    "kernelspec": {
      "name": "python3",
      "display_name": "Python 3"
    },
    "language_info": {
      "name": "python"
    }
  },
  "cells": [
    {
      "cell_type": "markdown",
      "metadata": {
        "id": "view-in-github",
        "colab_type": "text"
      },
      "source": [
        "<a href=\"https://colab.research.google.com/github/nurfnick/Mathematical_Musings/blob/main/CrapsSimulator.ipynb\" target=\"_parent\"><img src=\"https://colab.research.google.com/assets/colab-badge.svg\" alt=\"Open In Colab\"/></a>"
      ]
    },
    {
      "cell_type": "markdown",
      "metadata": {
        "id": "KEbGpsnhhgGO"
      },
      "source": [
        "# Craps Simulator for One Shooter"
      ]
    },
    {
      "cell_type": "markdown",
      "source": [
        "## MAA OK-AR Section Presentation\n",
        "\n",
        "\n",
        "\n",
        "> **Abstract**: \n",
        "> The game of craps is a simple probabilitstic game played with dice around the world for gambling purposes.  We will examine the game through simulation using python and Jupyter notebooks.  We will discuss expected values, interesting observations on the game play and why the table is often the loudest at the casino.\n",
        "\n"
      ],
      "metadata": {
        "id": "MLPn2AHw471z"
      }
    },
    {
      "cell_type": "markdown",
      "source": [
        "## Simulating Six Sided Dice"
      ],
      "metadata": {
        "id": "jHy_vEa7EFRV"
      }
    },
    {
      "cell_type": "code",
      "metadata": {
        "colab": {
          "base_uri": "https://localhost:8080/"
        },
        "id": "DmbMesWETxJb",
        "outputId": "83cc9db7-c919-4ef9-e776-d2f022ec3c2b"
      },
      "source": [
        "import random\n",
        "\n",
        "random.randint(1,6)"
      ],
      "execution_count": 1,
      "outputs": [
        {
          "output_type": "execute_result",
          "data": {
            "text/plain": [
              "6"
            ]
          },
          "metadata": {},
          "execution_count": 1
        }
      ]
    },
    {
      "cell_type": "markdown",
      "metadata": {
        "id": "cmBg8RPuhmh5"
      },
      "source": [
        "Above code rolls a dice once."
      ]
    },
    {
      "cell_type": "code",
      "metadata": {
        "id": "2iZcoXocT1qh"
      },
      "source": [
        "def Roll2Dice():\n",
        "  return [random.randint(1,6),random.randint(1,6)]"
      ],
      "execution_count": 2,
      "outputs": []
    },
    {
      "cell_type": "markdown",
      "metadata": {
        "id": "-RHUCT-QhqUv"
      },
      "source": [
        ""
      ]
    },
    {
      "cell_type": "code",
      "metadata": {
        "colab": {
          "base_uri": "https://localhost:8080/"
        },
        "id": "2h2W2QBOUNUQ",
        "outputId": "85007c02-ed3f-4936-b17e-cdbddfc492a7"
      },
      "source": [
        "Roll2Dice()"
      ],
      "execution_count": 3,
      "outputs": [
        {
          "output_type": "execute_result",
          "data": {
            "text/plain": [
              "[1, 2]"
            ]
          },
          "metadata": {},
          "execution_count": 3
        }
      ]
    },
    {
      "cell_type": "markdown",
      "metadata": {
        "id": "DotTMWEqhrmK"
      },
      "source": [
        "This rolls two dice.  The game of craps is actually interested in the sum of the two dice most of the time...  We know that this is distributed like the following:\n",
        "\n",
        "Sum | Probability\n",
        "----|------------\n",
        "2|$\\frac 1{36}$\n",
        "3|$\\frac 2{36}$\n",
        "4|$\\frac 3{36}$\n",
        "5|$\\frac 4{36}$\n",
        "6|$\\frac 5{36}$\n",
        "7|$\\frac 6{36}$\n",
        "8|$\\frac 5{36}$\n",
        "9|$\\frac 4{36}$\n",
        "10|$\\frac 3{36}$\n",
        "11|$\\frac 2{36}$\n",
        "12|$\\frac 1{36}$\n",
        "\n",
        "We want to make sure we are seeing that in our simulation!"
      ]
    },
    {
      "cell_type": "markdown",
      "source": [
        "First I check using the built-in histogram feature from `numpy` and visualize with `matplotlib`."
      ],
      "metadata": {
        "id": "hFU2Tw9FGZ-T"
      }
    },
    {
      "cell_type": "code",
      "metadata": {
        "colab": {
          "base_uri": "https://localhost:8080/"
        },
        "id": "fwmyBoSJpC3Q",
        "outputId": "f5d1bf56-7f75-4a2b-d183-c7d7f0f6a045"
      },
      "source": [
        "from numpy import histogram\n",
        "import numpy as np\n",
        "import matplotlib.pyplot as plt\n",
        "\n",
        "listy = []\n",
        "\n",
        "for i in range(10000):\n",
        "  listy.append(sum(Roll2Dice()))\n",
        "\n",
        "histogram(listy,bins = 11)"
      ],
      "execution_count": 4,
      "outputs": [
        {
          "output_type": "execute_result",
          "data": {
            "text/plain": [
              "(array([ 288,  573,  844, 1139, 1313, 1670, 1415, 1080,  842,  572,  264]),\n",
              " array([ 2.        ,  2.90909091,  3.81818182,  4.72727273,  5.63636364,\n",
              "         6.54545455,  7.45454545,  8.36363636,  9.27272727, 10.18181818,\n",
              "        11.09090909, 12.        ]))"
            ]
          },
          "metadata": {},
          "execution_count": 4
        }
      ]
    },
    {
      "cell_type": "code",
      "source": [
        "plt.hist(listy)\n",
        "plt.show()"
      ],
      "metadata": {
        "id": "eA9jXsIdErWf",
        "outputId": "0bcc8bac-754b-4533-b3f8-9bf6110cf6ff",
        "colab": {
          "base_uri": "https://localhost:8080/",
          "height": 265
        }
      },
      "execution_count": 5,
      "outputs": [
        {
          "output_type": "display_data",
          "data": {
            "text/plain": [
              "<Figure size 432x288 with 1 Axes>"
            ],
            "image/png": "[encoded data removed]"
          },
          "metadata": {
            "needs_background": "light"
          }
        }
      ]
    },
    {
      "cell_type": "markdown",
      "source": [
        "That did not come out in the way I expected.  Let's tweek it a bit and do it by hand."
      ],
      "metadata": {
        "id": "-_3IHMFTGkjr"
      }
    },
    {
      "cell_type": "code",
      "metadata": {
        "colab": {
          "base_uri": "https://localhost:8080/"
        },
        "id": "vrEFNRkmqhJC",
        "outputId": "5aeca54e-ea9f-471a-b9fb-4ad4de150221"
      },
      "source": [
        "sums = range(2,13,1)\n",
        "newlist =[]\n",
        "for i in sums:\n",
        "  newlist.append(0)\n",
        "\n",
        "for i in listy:\n",
        "  for j in sums:\n",
        "    if i == j:\n",
        "      newlist[i-2] +=1\n",
        "\n",
        "newlist"
      ],
      "execution_count": 6,
      "outputs": [
        {
          "output_type": "execute_result",
          "data": {
            "text/plain": [
              "[288, 573, 844, 1139, 1313, 1670, 1415, 1080, 842, 572, 264]"
            ]
          },
          "metadata": {},
          "execution_count": 6
        }
      ]
    },
    {
      "cell_type": "code",
      "source": [
        "plt.bar(x =sums, height = newlist)\n",
        "plt.show()"
      ],
      "metadata": {
        "id": "XBlTzXueFHP8",
        "outputId": "d1338633-da98-40f7-af29-ae76f289a520",
        "colab": {
          "base_uri": "https://localhost:8080/",
          "height": 265
        }
      },
      "execution_count": 7,
      "outputs": [
        {
          "output_type": "display_data",
          "data": {
            "text/plain": [
              "<Figure size 432x288 with 1 Axes>"
            ],
            "image/png": "[encoded data removed]"
          },
          "metadata": {
            "needs_background": "light"
          }
        }
      ]
    },
    {
      "cell_type": "markdown",
      "metadata": {
        "id": "-1J5WK6FhwMT"
      },
      "source": [
        "Above I have checked that the outcomes are random but as expected.  Both codes do the same thing, even though the output is a bit different!  We should check that this does indeed follow the distribution given by preforming the goodness of fit test.\n",
        "\n",
        "$$\n",
        "\\chi^2 = \\sum_{i = 1}^n \\frac{\\left(O_i - E_i\\right)^2}{E_i}\n",
        "$$\n"
      ]
    },
    {
      "cell_type": "code",
      "source": [
        "expected = np.array([1,2,3,4,5,6,5,4,3,2,1])\n",
        "expected = expected/36*10000\n",
        "\n",
        "actual = np.array(newlist)\n",
        "\n",
        "chi = 0\n",
        "for i,val in enumerate(expected):\n",
        "  chi += (val-actual[i])**2/val\n",
        "\n",
        "chi"
      ],
      "metadata": {
        "id": "C6BNXuKVQKj3",
        "outputId": "68ee80df-8dc3-4f44-9d34-d32bf576497e",
        "colab": {
          "base_uri": "https://localhost:8080/"
        }
      },
      "execution_count": 8,
      "outputs": [
        {
          "output_type": "execute_result",
          "data": {
            "text/plain": [
              "8.535980000000006"
            ]
          },
          "metadata": {},
          "execution_count": 8
        }
      ]
    },
    {
      "cell_type": "code",
      "source": [
        "from scipy import stats\n",
        "\n",
        "1-stats.chi2.cdf(chi,10)"
      ],
      "metadata": {
        "id": "8zCfCgKvSmwt",
        "outputId": "f28c9cf9-fabe-42c2-8d36-99609db699c0",
        "colab": {
          "base_uri": "https://localhost:8080/"
        }
      },
      "execution_count": 9,
      "outputs": [
        {
          "output_type": "execute_result",
          "data": {
            "text/plain": [
              "0.576631817932732"
            ]
          },
          "metadata": {},
          "execution_count": 9
        }
      ]
    },
    {
      "cell_type": "markdown",
      "source": [
        "Getting the probability is much easier by using the builtins!"
      ],
      "metadata": {
        "id": "JbvhasGGTEtJ"
      }
    },
    {
      "cell_type": "code",
      "source": [
        "stats.chisquare(actual,expected)"
      ],
      "metadata": {
        "id": "A3lmY7dXRe_3",
        "outputId": "8a9fc762-89c3-4221-8b5f-ca8c159b4f96",
        "colab": {
          "base_uri": "https://localhost:8080/"
        }
      },
      "execution_count": 10,
      "outputs": [
        {
          "output_type": "execute_result",
          "data": {
            "text/plain": [
              "Power_divergenceResult(statistic=8.535980000000007, pvalue=0.5766318179327318)"
            ]
          },
          "metadata": {},
          "execution_count": 10
        }
      ]
    },
    {
      "cell_type": "markdown",
      "source": [
        "## Come Out Roll"
      ],
      "metadata": {
        "id": "BHa4By-uG8pT"
      }
    },
    {
      "cell_type": "markdown",
      "source": [
        "The first roll of craps is called the **come out roll**.  It can be repeated later in the game.  There are three possible outcomes:\n",
        "\n",
        "1. **Natural**: A seven or 11 is a natural and the Pass Line Bet wins\n",
        "2. **Craps**: A two, three or twelve is craps and the Pass Line Bet Losses\n",
        "3. **Set the Point**: 4,5,6,8,9,10 is rolled, the shooter continues to roll"
      ],
      "metadata": {
        "id": "hVpSagYMHC80"
      }
    },
    {
      "cell_type": "code",
      "metadata": {
        "colab": {
          "base_uri": "https://localhost:8080/"
        },
        "id": "EmPCXtfLUO2n",
        "outputId": "4dc4061a-7b19-4db4-db28-9280607bbde1"
      },
      "source": [
        "def ComeOutRoll(TwoDice):\n",
        "  s = sum(TwoDice)\n",
        "  if (s == 2)|(s == 3)|(s==12):\n",
        "    return 'Craps'\n",
        "  elif (s == 7)|(s == 11):\n",
        "    return 'comeAgain'\n",
        "  else:\n",
        "    return s #return the point\n",
        "\n",
        "ComeOutRoll([4,4])"
      ],
      "execution_count": 11,
      "outputs": [
        {
          "output_type": "execute_result",
          "data": {
            "text/plain": [
              "8"
            ]
          },
          "metadata": {},
          "execution_count": 11
        }
      ]
    },
    {
      "cell_type": "code",
      "metadata": {
        "colab": {
          "base_uri": "https://localhost:8080/",
          "height": 36
        },
        "id": "VoPZtKkjVP5I",
        "outputId": "6ac7c582-953a-4fdd-de5e-8f19dafdd321"
      },
      "source": [
        "ComeOutRoll([6,6])"
      ],
      "execution_count": 12,
      "outputs": [
        {
          "output_type": "execute_result",
          "data": {
            "text/plain": [
              "'Craps'"
            ],
            "application/vnd.google.colaboratory.intrinsic+json": {
              "type": "string"
            }
          },
          "metadata": {},
          "execution_count": 12
        }
      ]
    },
    {
      "cell_type": "markdown",
      "metadata": {
        "id": "_jtsAppwh92f"
      },
      "source": [
        "The `ComeOutRoll` is the first roll in the craps game.  There are three options **Craps** (2,3,12) **Natural** (7,11) (designated here as 'comeAgain' since you will get another come out roll.  Any othe value will set the point, the function just returns that number."
      ]
    },
    {
      "cell_type": "markdown",
      "source": [
        "## After the Point is Set"
      ],
      "metadata": {
        "id": "Q_XNtki72O5R"
      }
    },
    {
      "cell_type": "markdown",
      "source": [
        "Once the point is set, the shooter will continue to roll until they either roll the point again (Pass Line Bet Wins!) or the **Seven Out** (Pass Line Bet Loses).  The only bet with no house advantage happens in this stage, *Odds*.  The odds bet is made behind the pass line bet and will payout based on the point that was set.\n",
        "\n",
        "Point|Payout on Odds\n",
        "-----|--------------\n",
        "4 or 10 | 1:2\n",
        "5 or 9 | 2:3\n",
        "6 or 8 | 5:6\n",
        "\n",
        "So a point of 5, a \\$10 odds bet will pay \\$15.  These bets will have to be made in the correct proportion for possible payouts.  You can always ask the stickman for help with the odds bet although you may not get the best advice!  This is the only bet *not* marked on the table!\n",
        "\n",
        "![Craps Table](https://upload.wikimedia.org/wikipedia/commons/thumb/a/a4/Craps_table_layout.svg/1280px-Craps_table_layout.svg.png)"
      ],
      "metadata": {
        "id": "WFzTeIuz2fIR"
      }
    },
    {
      "cell_type": "code",
      "metadata": {
        "colab": {
          "base_uri": "https://localhost:8080/",
          "height": 36
        },
        "id": "9MdCCcAYVUcA",
        "outputId": "2a40a274-a65c-4d2e-e98e-de56672caa86"
      },
      "source": [
        "def SetPointRoll(TwoDice,point):\n",
        "  s = sum(TwoDice)\n",
        "  if s == 7:\n",
        "    return 'SevenOut'\n",
        "  elif s == point:\n",
        "    return 'comeAgain'\n",
        "  else:\n",
        "    return point\n",
        "\n",
        "SetPointRoll([5,4],9)"
      ],
      "execution_count": 13,
      "outputs": [
        {
          "output_type": "execute_result",
          "data": {
            "text/plain": [
              "'comeAgain'"
            ],
            "application/vnd.google.colaboratory.intrinsic+json": {
              "type": "string"
            }
          },
          "metadata": {},
          "execution_count": 13
        }
      ]
    },
    {
      "cell_type": "code",
      "metadata": {
        "id": "VbBiy9C3hdOO",
        "colab": {
          "base_uri": "https://localhost:8080/",
          "height": 36
        },
        "outputId": "ebb27355-d516-4b05-b400-2e9775ec4dda"
      },
      "source": [
        "SetPointRoll([3,4],4)"
      ],
      "execution_count": 14,
      "outputs": [
        {
          "output_type": "execute_result",
          "data": {
            "text/plain": [
              "'SevenOut'"
            ],
            "application/vnd.google.colaboratory.intrinsic+json": {
              "type": "string"
            }
          },
          "metadata": {},
          "execution_count": 14
        }
      ]
    },
    {
      "cell_type": "code",
      "metadata": {
        "id": "OeT6qYdvimS7",
        "colab": {
          "base_uri": "https://localhost:8080/"
        },
        "outputId": "d25c6411-5b81-414f-fdc5-4108bc34dbd5"
      },
      "source": [
        "SetPointRoll([3,1],5)"
      ],
      "execution_count": 15,
      "outputs": [
        {
          "output_type": "execute_result",
          "data": {
            "text/plain": [
              "5"
            ]
          },
          "metadata": {},
          "execution_count": 15
        }
      ]
    },
    {
      "cell_type": "markdown",
      "source": [
        "## Continuing the Game"
      ],
      "metadata": {
        "id": "Io6IsI9_6_Nv"
      }
    },
    {
      "cell_type": "markdown",
      "metadata": {
        "id": "rHqVxReWit0V"
      },
      "source": [
        "After the point has been set, you will roll over and over again until you **comeAgain** by hitting the same point or **SevenOut** by rolling a 7.  The function returns the point if neither of those happen."
      ]
    },
    {
      "cell_type": "code",
      "metadata": {
        "id": "Ld1ZFAKeV_UV"
      },
      "source": [
        "def PlayCraps():\n",
        "  x = ComeOutRoll(Roll2Dice())\n",
        "  rollCounter = 1\n",
        "  while (x != 'Craps')&(x != 'SevenOut'):\n",
        "    if x == 'comeAgain':\n",
        "      rollCounter += 1\n",
        "      x = ComeOutRoll(Roll2Dice())\n",
        "    else:\n",
        "      point = x\n",
        "      rollCounter += 1\n",
        "      x = SetPointRoll(Roll2Dice(),point)\n",
        "  return rollCounter\n"
      ],
      "execution_count": 16,
      "outputs": []
    },
    {
      "cell_type": "code",
      "metadata": {
        "colab": {
          "base_uri": "https://localhost:8080/"
        },
        "id": "1Eqg-MgUXXuc",
        "outputId": "5903aeb3-8dd4-444b-f9e5-4575dc015a80"
      },
      "source": [
        "PlayCraps()"
      ],
      "execution_count": 17,
      "outputs": [
        {
          "output_type": "execute_result",
          "data": {
            "text/plain": [
              "6"
            ]
          },
          "metadata": {},
          "execution_count": 17
        }
      ]
    },
    {
      "cell_type": "markdown",
      "metadata": {
        "id": "RVHT2BIsjqLZ"
      },
      "source": [
        "`PlayCraps` will play the game returning the number of rolls until you **Crap** or **SevenOut**.  Let's compute some statistics about it."
      ]
    },
    {
      "cell_type": "code",
      "metadata": {
        "colab": {
          "base_uri": "https://localhost:8080/"
        },
        "id": "Guy2bFBVXcFt",
        "outputId": "48a72760-da5f-45a1-ed18-f2dc77aef862"
      },
      "source": [
        "\n",
        "list1 = []\n",
        "for i in range(100000):\n",
        "  list1.append(PlayCraps())\n",
        "sum(list1)/len(list1)\n"
      ],
      "execution_count": 18,
      "outputs": [
        {
          "output_type": "execute_result",
          "data": {
            "text/plain": [
              "6.63806"
            ]
          },
          "metadata": {},
          "execution_count": 18
        }
      ]
    },
    {
      "cell_type": "code",
      "metadata": {
        "colab": {
          "base_uri": "https://localhost:8080/",
          "height": 265
        },
        "id": "pWPcOijyX4au",
        "outputId": "4fcfe041-0503-470c-c38a-c23324745269"
      },
      "source": [
        "import matplotlib.pyplot as plt\n",
        "\n",
        "plt.hist(list1)\n",
        "plt.show()"
      ],
      "execution_count": 62,
      "outputs": [
        {
          "output_type": "display_data",
          "data": {
            "text/plain": [
              "<Figure size 432x288 with 1 Axes>"
            ],
            "image/png": "[encoded data removed]"
          },
          "metadata": {
            "needs_background": "light"
          }
        }
      ]
    },
    {
      "cell_type": "markdown",
      "metadata": {
        "id": "9S8rqiGdkErX"
      },
      "source": [
        "The distribution is not normal!  Seems like it is mostly just a few rolls.  I wonder what the expected or average value is.  Here I do 1000 games 1000 times.  This is the Monte Carlo simulation of lots of craps tables!"
      ]
    },
    {
      "cell_type": "code",
      "metadata": {
        "id": "3lu03WfNkT5S"
      },
      "source": [
        "list2 = []\n",
        "for j in range(1000):\n",
        "  list1 = []\n",
        "  for i in range(1000):\n",
        "    list1.append(PlayCraps())\n",
        "  list2.append(sum(list1)/len(list1))"
      ],
      "execution_count": 20,
      "outputs": []
    },
    {
      "cell_type": "code",
      "metadata": {
        "id": "bTY1tRoskuYu",
        "colab": {
          "base_uri": "https://localhost:8080/",
          "height": 339
        },
        "outputId": "a8f8320c-2046-472a-b917-2568a2c5b554"
      },
      "source": [
        "plt.hist(list2)"
      ],
      "execution_count": 21,
      "outputs": [
        {
          "output_type": "execute_result",
          "data": {
            "text/plain": [
              "(array([  5.,  39.,  88., 181., 209., 203., 151.,  78.,  35.,  11.]),\n",
              " array([6.156 , 6.2593, 6.3626, 6.4659, 6.5692, 6.6725, 6.7758, 6.8791,\n",
              "        6.9824, 7.0857, 7.189 ]),\n",
              " <a list of 10 Patch objects>)"
            ]
          },
          "metadata": {},
          "execution_count": 21
        },
        {
          "output_type": "display_data",
          "data": {
            "text/plain": [
              "<Figure size 432x288 with 1 Axes>"
            ],
            "image/png": "[encoded data removed]"
          },
          "metadata": {
            "needs_background": "light"
          }
        }
      ]
    },
    {
      "cell_type": "code",
      "metadata": {
        "id": "bSv9hHXkk0Im",
        "colab": {
          "base_uri": "https://localhost:8080/"
        },
        "outputId": "948010c0-ad95-487a-fb02-ce586b88226a"
      },
      "source": [
        "from numpy import mean\n",
        "\n",
        "mean(list2)"
      ],
      "execution_count": 22,
      "outputs": [
        {
          "output_type": "execute_result",
          "data": {
            "text/plain": [
              "6.665363"
            ]
          },
          "metadata": {},
          "execution_count": 22
        }
      ]
    },
    {
      "cell_type": "markdown",
      "metadata": {
        "id": "VGG988Vqk6cY"
      },
      "source": [
        "As I perused the internet for this value, I found lots of answers that were larger!  How can that be!  At first I thought I had the program wrong.  Below I write some code to check the craps game by hand."
      ]
    },
    {
      "cell_type": "code",
      "metadata": {
        "id": "uKYlmD90Yb5e"
      },
      "source": [
        "def ErrorTestingPlayCraps():\n",
        "  listOfRolls = []\n",
        "  randRoll = Roll2Dice()\n",
        "  listOfRolls.append(randRoll)\n",
        "  x = ComeOutRoll(randRoll)\n",
        "  rollCounter = 1\n",
        "  PassLineWins = 0\n",
        "  while (x != 'Craps')&(x != 'SevenOut'):\n",
        "    if x == 'comeAgain':\n",
        "      listOfRolls.append('Pass Line Win')\n",
        "      PassLineWins += 1\n",
        "      rollCounter += 1\n",
        "      randRoll = Roll2Dice()\n",
        "      listOfRolls.append(randRoll)\n",
        "      x = ComeOutRoll(randRoll)\n",
        "    else:\n",
        "      point = x\n",
        "      rollCounter += 1\n",
        "      randRoll = Roll2Dice()\n",
        "      listOfRolls.append(randRoll)\n",
        "      listOfRolls.append(point)\n",
        "      x = SetPointRoll(randRoll,point)\n",
        "  else:\n",
        "    listOfRolls.append(x)\n",
        "  return rollCounter, listOfRolls"
      ],
      "execution_count": 23,
      "outputs": []
    },
    {
      "cell_type": "code",
      "metadata": {
        "colab": {
          "base_uri": "https://localhost:8080/"
        },
        "id": "dBxdCjPTsm5n",
        "outputId": "fc9c007c-b840-4a05-d740-576c57898222"
      },
      "source": [
        "ErrorTestingPlayCraps()"
      ],
      "execution_count": 24,
      "outputs": [
        {
          "output_type": "execute_result",
          "data": {
            "text/plain": [
              "(8,\n",
              " [[3, 4],\n",
              "  'Pass Line Win',\n",
              "  [6, 3],\n",
              "  [5, 3],\n",
              "  9,\n",
              "  [5, 4],\n",
              "  9,\n",
              "  'Pass Line Win',\n",
              "  [4, 5],\n",
              "  [4, 1],\n",
              "  9,\n",
              "  [5, 1],\n",
              "  9,\n",
              "  [2, 5],\n",
              "  9,\n",
              "  'SevenOut'])"
            ]
          },
          "metadata": {},
          "execution_count": 24
        }
      ]
    },
    {
      "cell_type": "code",
      "metadata": {
        "id": "NbmPaqXflTut",
        "colab": {
          "base_uri": "https://localhost:8080/"
        },
        "outputId": "50bd8513-4954-4843-b1bf-063416f97a47"
      },
      "source": [
        "ErrorTestingPlayCraps()"
      ],
      "execution_count": 25,
      "outputs": [
        {
          "output_type": "execute_result",
          "data": {
            "text/plain": [
              "(4, [[2, 4], [5, 1], 6, 'Pass Line Win', [4, 5], [3, 4], 9, 'SevenOut'])"
            ]
          },
          "metadata": {},
          "execution_count": 25
        }
      ]
    },
    {
      "cell_type": "markdown",
      "metadata": {
        "id": "rJeusM4Sl5Um"
      },
      "source": [
        "This simulation is more fun as it really shows you what happens on each roll.\n",
        "\n",
        "\n",
        "Trying this ***many*** times, I did not see an error.  This makes me feel like the reference [here](https://wizardofodds.com/ask-the-wizard/craps/probability/) has an error in their computation.  Let's see if we can find the value theoretically we have simulated!"
      ]
    },
    {
      "cell_type": "markdown",
      "source": [
        "## Some Maths"
      ],
      "metadata": {
        "id": "DZsR3x8P7XYR"
      }
    },
    {
      "cell_type": "markdown",
      "metadata": {
        "id": "1hVFhgtz3Hrp"
      },
      "source": [
        "Here is the theoretical expected value.  Call the expected value $x$.  Then on the **ComeOutRoll**, craps results in the end of the game, natural results in playing the game again plus the roll you made and setting the point will result in a small game.\n",
        "\n",
        "Each point will have a different expected value.  The point at 4 or 10 will result in an expected value of 4 (point rolls end with 4 or 7 $p = \\frac{9}{36}$)  The game continues the probability of $\\frac39$.  All the rest are similar.  This creates an expected value computation of\n",
        "\n",
        "$$\n",
        "x\n",
        "=\n",
        "\\frac4{36}\n",
        "+\n",
        "\\frac8{36}(x+1)\n",
        "+\n",
        "2\\cdot \\frac3{36}\\left(4+1+\\frac39x\\right)\n",
        "+\n",
        "2\\cdot \\frac4{36}\\left(3.6+1+\\frac4{10}x\\right)\n",
        "+\n",
        "2\\cdot \\frac5{36}\\left(\\frac{36}{11}+1+\\frac5{11}x\\right)\n",
        "$$"
      ]
    },
    {
      "cell_type": "code",
      "metadata": {
        "id": "ivFNTqC8mLHk",
        "colab": {
          "base_uri": "https://localhost:8080/"
        },
        "outputId": "d07a032b-a26c-41f9-c974-fe7f42ab431f"
      },
      "source": [
        "import sympy\n",
        "\n",
        "x = sympy.Symbol('x')\n",
        "sympy.solve(4/36+8/36*(x+1)+2*3/36*(5+3/9*x)+8/36*(4.6+4/10*x)+10/36*(36/11+1+5/11*x)-x,x)"
      ],
      "execution_count": 26,
      "outputs": [
        {
          "output_type": "execute_result",
          "data": {
            "text/plain": [
              "[6.65737051792830]"
            ]
          },
          "metadata": {},
          "execution_count": 26
        }
      ]
    },
    {
      "cell_type": "markdown",
      "source": [
        "### An Attempt to Compute the Variance"
      ],
      "metadata": {
        "id": "Q88WaaW1Q1us"
      }
    },
    {
      "cell_type": "code",
      "source": [
        "z = np.random.geometric(p=251/1671, size=1000)\n",
        "\n",
        "ax = plt.hist([list1,z])\n",
        "plt.show()"
      ],
      "metadata": {
        "id": "fczeZ2aJRA2s",
        "outputId": "a2008833-99b9-44a9-d560-87eb9b21f572",
        "colab": {
          "base_uri": "https://localhost:8080/",
          "height": 265
        }
      },
      "execution_count": 97,
      "outputs": [
        {
          "output_type": "display_data",
          "data": {
            "text/plain": [
              "<Figure size 432x288 with 1 Axes>"
            ],
            "image/png": "[encoded data removed]"
          },
          "metadata": {
            "needs_background": "light"
          }
        }
      ]
    },
    {
      "cell_type": "code",
      "source": [
        "import seaborn as sns\n",
        "\n",
        "ax = sns.histplot([list1,z], multiple = 'layer', bins = 10) \n",
        "plt.legend(labels = ['Simulation','Geometric'])\n",
        "ax.set(title='Is this Geometric?')\n",
        "plt.show()"
      ],
      "metadata": {
        "id": "IJF6FvFdTg6n",
        "outputId": "a205e430-bdac-4193-a3d7-74da61f70b85",
        "colab": {
          "base_uri": "https://localhost:8080/",
          "height": 281
        }
      },
      "execution_count": 100,
      "outputs": [
        {
          "output_type": "display_data",
          "data": {
            "text/plain": [
              "<Figure size 432x288 with 1 Axes>"
            ],
            "image/png": "[encoded data removed]"
          },
          "metadata": {
            "needs_background": "light"
          }
        }
      ]
    },
    {
      "cell_type": "markdown",
      "metadata": {
        "id": "Jfjuy2MSD3ML"
      },
      "source": [
        "I am curious if I can use this to match up the variance.  Under the assumption that this is a geometric distribution (I stretch I think!)  The expected value is \n",
        "$$\n",
        "E[x] = \\frac1p = \\frac{1671}{251}\\approx 6.657\n",
        "$$\n",
        "The variance is similarly computed as\n",
        "$$\n",
        "E\\left[\\left(x-E[x]\\right)^2\\right] = \\frac{1-p}{p^2} = \\frac{1671\\cdot 1420}{251^2} \\approx 37.663\n",
        "$$\n",
        "\n"
      ]
    },
    {
      "cell_type": "code",
      "metadata": {
        "id": "qSFRt7oN5Ku4",
        "outputId": "d85dc669-3832-4126-d654-214189ea387d",
        "colab": {
          "base_uri": "https://localhost:8080/"
        }
      },
      "source": [
        "import numpy as np\n",
        "\n",
        "(np.std(list1))**2\n"
      ],
      "execution_count": 42,
      "outputs": [
        {
          "output_type": "execute_result",
          "data": {
            "text/plain": [
              "50.867111"
            ]
          },
          "metadata": {},
          "execution_count": 42
        }
      ]
    },
    {
      "cell_type": "markdown",
      "metadata": {
        "id": "IyRs8Tj4GSy8"
      },
      "source": [
        "Not terribly far off.  Let's do a little more thorough checking of this value using a Monte Carlo simulation."
      ]
    },
    {
      "cell_type": "code",
      "metadata": {
        "id": "J3FJssW2FG_E"
      },
      "source": [
        "list2 = []\n",
        "for j in range(1000):\n",
        "  list1 = []\n",
        "  for i in range(1000):\n",
        "    list1.append(PlayCraps())\n",
        "  list2.append((np.std(list1))**2)"
      ],
      "execution_count": 55,
      "outputs": []
    },
    {
      "cell_type": "code",
      "metadata": {
        "id": "qFTVGqjRFJnG",
        "outputId": "1b3576df-29ab-41fb-8bb8-594508f3d3cf",
        "colab": {
          "base_uri": "https://localhost:8080/",
          "height": 265
        }
      },
      "source": [
        "plt.hist(list2)\n",
        "plt.show()"
      ],
      "execution_count": 56,
      "outputs": [
        {
          "output_type": "display_data",
          "data": {
            "text/plain": [
              "<Figure size 432x288 with 1 Axes>"
            ],
            "image/png": "[encoded data removed]"
          },
          "metadata": {
            "needs_background": "light"
          }
        }
      ]
    },
    {
      "cell_type": "code",
      "metadata": {
        "id": "atfivDZrGxMX",
        "outputId": "461df01e-a3f3-44cf-f1ca-37bdb94ed111",
        "colab": {
          "base_uri": "https://localhost:8080/"
        }
      },
      "source": [
        "xbar = mean(list2)\n",
        "s = np.std(list2)\n",
        "\n",
        "print(\"mean is {} and standard deviation is {}\".format(xbar,s))"
      ],
      "execution_count": 57,
      "outputs": [
        {
          "output_type": "stream",
          "name": "stdout",
          "text": [
            "mean is 33.804352947000005 and standard deviation is 3.0045813944322677\n"
          ]
        }
      ]
    },
    {
      "cell_type": "markdown",
      "metadata": {
        "id": "ujEwn4hkG4ZM"
      },
      "source": [
        "This is clearly not correct.  It gives me an estimate but I am missing some important behavior of the random variable.  Using the numerical simulation gives me a great way to check this though!  \n",
        "\n",
        "To be thorough, I'll run a hypothesis test.  Could the variance be 37.663 if the mean of 1000 of them is 33.853?  This will look a little strange but because of the way I have simulated it, I am asking can $\\mu = 37.663$ if $\\bar x \\approx 33.8$ with $n = 1000$?\n",
        "\n",
        "$$\n",
        "t = \\frac{\\mu - \\bar x}{\\frac{s}{\\sqrt{n}}}\n",
        "$$\n",
        "\n",
        "Degrees of freedom here will be 999."
      ]
    },
    {
      "cell_type": "code",
      "source": [
        "t = (37.663-xbar)/(s/np.sqrt(1000))\n",
        "\n",
        "t"
      ],
      "metadata": {
        "id": "RbsnrOzaMtfQ",
        "outputId": "13ee0371-b40e-49d0-e239-238ce9ab373d",
        "colab": {
          "base_uri": "https://localhost:8080/"
        }
      },
      "execution_count": 60,
      "outputs": [
        {
          "output_type": "execute_result",
          "data": {
            "text/plain": [
              "40.611691854272706"
            ]
          },
          "metadata": {},
          "execution_count": 60
        }
      ]
    },
    {
      "cell_type": "code",
      "source": [
        "1-stats.t.cdf(t,999)"
      ],
      "metadata": {
        "id": "cZ3uuLyRN0EP",
        "outputId": "192416b2-8fcc-4ab8-97e2-27f45c499867",
        "colab": {
          "base_uri": "https://localhost:8080/"
        }
      },
      "execution_count": 61,
      "outputs": [
        {
          "output_type": "execute_result",
          "data": {
            "text/plain": [
              "0.0"
            ]
          },
          "metadata": {},
          "execution_count": 61
        }
      ]
    },
    {
      "cell_type": "markdown",
      "source": [
        "## I didn't understand the game of craps!\n",
        "\n",
        "The only time you must pass the dice is when you seven out.  Although the pass line bet loses on a craps roll, you can roll again.  Let's fix that in our code!"
      ],
      "metadata": {
        "id": "Dmg0N5d5vAel"
      }
    },
    {
      "cell_type": "code",
      "source": [
        "def PlayCraps4Real():\n",
        "  x = ComeOutRoll(Roll2Dice())\n",
        "  rollCounter = 1\n",
        "  while (x != 'SevenOut'):\n",
        "    if (x == 'comeAgain') or (x == 'Craps'):\n",
        "      rollCounter += 1\n",
        "      x = ComeOutRoll(Roll2Dice())\n",
        "    else:\n",
        "      point = x\n",
        "      rollCounter += 1\n",
        "      x = SetPointRoll(Roll2Dice(),point)\n",
        "  return rollCounter"
      ],
      "metadata": {
        "id": "bO9FP38kvQbL"
      },
      "execution_count": 31,
      "outputs": []
    },
    {
      "cell_type": "code",
      "source": [
        "list1 = []\n",
        "for i in range(100000):\n",
        "  list1.append(PlayCraps4Real())\n",
        "sum(list1)/len(list1)"
      ],
      "metadata": {
        "id": "fQ3GtOgOvX2b",
        "outputId": "04364d99-f54b-4efe-e0cf-09980609125b",
        "colab": {
          "base_uri": "https://localhost:8080/"
        }
      },
      "execution_count": 32,
      "outputs": [
        {
          "output_type": "execute_result",
          "data": {
            "text/plain": [
              "8.54457"
            ]
          },
          "metadata": {},
          "execution_count": 32
        }
      ]
    },
    {
      "cell_type": "code",
      "source": [
        "plt.hist(list1, bins = 25)"
      ],
      "metadata": {
        "id": "4x_H4jdIMPhs",
        "outputId": "200dea7d-fef0-40f4-c636-bbde0b8ec9db",
        "colab": {
          "base_uri": "https://localhost:8080/",
          "height": 394
        }
      },
      "execution_count": 50,
      "outputs": [
        {
          "output_type": "execute_result",
          "data": {
            "text/plain": [
              "(array([233., 196., 134., 119.,  86.,  62.,  45.,  36.,  18.,  15.,  13.,\n",
              "          7.,   5.,   3.,   4.,   7.,   5.,   3.,   2.,   0.,   2.,   1.,\n",
              "          0.,   1.,   3.]),\n",
              " array([ 2.  ,  3.92,  5.84,  7.76,  9.68, 11.6 , 13.52, 15.44, 17.36,\n",
              "        19.28, 21.2 , 23.12, 25.04, 26.96, 28.88, 30.8 , 32.72, 34.64,\n",
              "        36.56, 38.48, 40.4 , 42.32, 44.24, 46.16, 48.08, 50.  ]),\n",
              " <a list of 25 Patch objects>)"
            ]
          },
          "metadata": {},
          "execution_count": 50
        },
        {
          "output_type": "display_data",
          "data": {
            "text/plain": [
              "<Figure size 432x288 with 1 Axes>"
            ],
            "image/png": "[encoded data removed]"
          },
          "metadata": {
            "needs_background": "light"
          }
        }
      ]
    },
    {
      "cell_type": "code",
      "source": [
        "list2 = []\n",
        "for j in range(1000):\n",
        "  list1 = []\n",
        "  for i in range(1000):\n",
        "    list1.append(PlayCraps4Real())\n",
        "  list2.append(sum(list1)/len(list1))"
      ],
      "metadata": {
        "id": "f-tX5zaVvdb0"
      },
      "execution_count": 34,
      "outputs": []
    },
    {
      "cell_type": "code",
      "source": [
        "plt.hist(list2)\n",
        "plt.show()"
      ],
      "metadata": {
        "id": "htsVIvU7voVT",
        "outputId": "1949debf-a064-4d20-82a8-ede3fa95a13e",
        "colab": {
          "base_uri": "https://localhost:8080/",
          "height": 265
        }
      },
      "execution_count": 51,
      "outputs": [
        {
          "output_type": "display_data",
          "data": {
            "text/plain": [
              "<Figure size 432x288 with 1 Axes>"
            ],
            "image/png": "[encoded data removed]"
          },
          "metadata": {
            "needs_background": "light"
          }
        }
      ]
    },
    {
      "cell_type": "code",
      "source": [
        "mean(list2)"
      ],
      "metadata": {
        "id": "JncswpHevsGz",
        "outputId": "9dd5e1f2-ed7f-4653-dcb3-cad9a271fa75",
        "colab": {
          "base_uri": "https://localhost:8080/"
        }
      },
      "execution_count": 36,
      "outputs": [
        {
          "output_type": "execute_result",
          "data": {
            "text/plain": [
              "8.525241"
            ]
          },
          "metadata": {},
          "execution_count": 36
        }
      ]
    },
    {
      "cell_type": "markdown",
      "source": [
        "It should have been!\n",
        "\n",
        "$$\n",
        "x\n",
        "=\n",
        "\\frac4{36}(x+1)\n",
        "+\n",
        "\\frac8{36}(x+1)\n",
        "+\n",
        "2\\cdot \\frac3{36}\\left(4+1+\\frac39x\\right)\n",
        "+\n",
        "2\\cdot \\frac4{36}\\left(3.6+1+\\frac4{10}x\\right)\n",
        "+\n",
        "2\\cdot \\frac5{36}\\left(\\frac{36}{11}+1+\\frac5{11}x\\right)\n",
        "$$"
      ],
      "metadata": {
        "id": "qRoq21DdLUVs"
      }
    },
    {
      "cell_type": "code",
      "source": [
        "x = sympy.Symbol('x')\n",
        "sympy.solve(12/36*(x+1)+2*3/36*(5+3/9*x)+8/36*(4.6+4/10*x)+10/36*(36/11+1+5/11*x)-x,x)"
      ],
      "metadata": {
        "id": "surIAWWRvv2S",
        "outputId": "c82628b5-4f1d-4db1-d2fa-f8ceb6d51ca6",
        "colab": {
          "base_uri": "https://localhost:8080/"
        }
      },
      "execution_count": 37,
      "outputs": [
        {
          "output_type": "execute_result",
          "data": {
            "text/plain": [
              "[8.52551020408164]"
            ]
          },
          "metadata": {},
          "execution_count": 37
        }
      ]
    },
    {
      "cell_type": "markdown",
      "source": [
        "This agrees with the reference from above..."
      ],
      "metadata": {
        "id": "D4OWQtvvxnp3"
      }
    }
  ]
}