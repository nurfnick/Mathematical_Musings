{
  "nbformat": 4,
  "nbformat_minor": 0,
  "metadata": {
    "colab": {
      "name": "Untitled55.ipynb",
      "provenance": [],
      "include_colab_link": true
    },
    "kernelspec": {
      "name": "python3",
      "display_name": "Python 3"
    },
    "language_info": {
      "name": "python"
    }
  },
  "cells": [
    {
      "cell_type": "markdown",
      "metadata": {
        "id": "view-in-github",
        "colab_type": "text"
      },
      "source": [
        "<a href=\"https://colab.research.google.com/github/nurfnick/Mathematical_Musings/blob/main/CrapsSimulator.ipynb\" target=\"_parent\"><img src=\"https://colab.research.google.com/assets/colab-badge.svg\" alt=\"Open In Colab\"/></a>"
      ]
    },
    {
      "cell_type": "markdown",
      "metadata": {
        "id": "KEbGpsnhhgGO"
      },
      "source": [
        "# Craps Simulator for One Shooter"
      ]
    },
    {
      "cell_type": "markdown",
      "source": [
        "## MAA OK-AR Section Presentation\n",
        "\n",
        "\n",
        "\n",
        "> **Abstract**: \n",
        "> The game of craps is a simple probabilitstic game played with dice around the world for gambling purposes.  We will examine the game through simulation using python and Jupyter notebooks.  We will discuss expected values, interesting observations on the game play and why the table is often the loudest at the casino.\n",
        "\n"
      ],
      "metadata": {
        "id": "MLPn2AHw471z"
      }
    },
    {
      "cell_type": "markdown",
      "source": [
        "## Simulating Six Sided Dice"
      ],
      "metadata": {
        "id": "jHy_vEa7EFRV"
      }
    },
    {
      "cell_type": "code",
      "metadata": {
        "colab": {
          "base_uri": "https://localhost:8080/"
        },
        "id": "DmbMesWETxJb",
        "outputId": "62488c26-7169-4ede-8985-16a3040b7633"
      },
      "source": [
        "import random\n",
        "\n",
        "random.randint(1,6)"
      ],
      "execution_count": 48,
      "outputs": [
        {
          "output_type": "execute_result",
          "data": {
            "text/plain": [
              "1"
            ]
          },
          "metadata": {},
          "execution_count": 48
        }
      ]
    },
    {
      "cell_type": "markdown",
      "metadata": {
        "id": "cmBg8RPuhmh5"
      },
      "source": [
        "Above code rolls a dice once."
      ]
    },
    {
      "cell_type": "code",
      "metadata": {
        "id": "2iZcoXocT1qh"
      },
      "source": [
        "def Roll2Dice():\n",
        "  return [random.randint(1,6),random.randint(1,6)]"
      ],
      "execution_count": 49,
      "outputs": []
    },
    {
      "cell_type": "markdown",
      "metadata": {
        "id": "-RHUCT-QhqUv"
      },
      "source": [
        ""
      ]
    },
    {
      "cell_type": "code",
      "metadata": {
        "colab": {
          "base_uri": "https://localhost:8080/"
        },
        "id": "2h2W2QBOUNUQ",
        "outputId": "e03e799b-07fb-433b-d8a5-805a799cc4ae"
      },
      "source": [
        "Roll2Dice()"
      ],
      "execution_count": 50,
      "outputs": [
        {
          "output_type": "execute_result",
          "data": {
            "text/plain": [
              "[6, 2]"
            ]
          },
          "metadata": {},
          "execution_count": 50
        }
      ]
    },
    {
      "cell_type": "markdown",
      "metadata": {
        "id": "DotTMWEqhrmK"
      },
      "source": [
        "This rolls two dice.  The game of craps is actually interested in the sum of the two dice most of the time...  We know that this is distributed like the following:\n",
        "\n",
        "Sum | Probability\n",
        "----|------------\n",
        "2|$\\frac 1{36}$\n",
        "3|$\\frac 2{36}$\n",
        "4|$\\frac 3{36}$\n",
        "5|$\\frac 4{36}$\n",
        "6|$\\frac 5{36}$\n",
        "7|$\\frac 6{36}$\n",
        "8|$\\frac 5{36}$\n",
        "9|$\\frac 4{36}$\n",
        "10|$\\frac 3{36}$\n",
        "11|$\\frac 2{36}$\n",
        "12|$\\frac 1{36}$\n",
        "\n",
        "We want to make sure we are seeing that in our simulation!"
      ]
    },
    {
      "cell_type": "markdown",
      "source": [
        "First I check using the built-in histogram feature from `numpy` and visualize with `matplotlib`."
      ],
      "metadata": {
        "id": "hFU2Tw9FGZ-T"
      }
    },
    {
      "cell_type": "code",
      "metadata": {
        "colab": {
          "base_uri": "https://localhost:8080/"
        },
        "id": "fwmyBoSJpC3Q",
        "outputId": "0c0bc732-2127-4f91-b609-7106aeddf31a"
      },
      "source": [
        "from numpy import histogram\n",
        "import numpy as np\n",
        "import matplotlib.pyplot as plt\n",
        "\n",
        "listy = []\n",
        "\n",
        "for i in range(10000):\n",
        "  listy.append(sum(Roll2Dice()))\n",
        "\n",
        "histogram(listy,bins = 11)"
      ],
      "execution_count": 51,
      "outputs": [
        {
          "output_type": "execute_result",
          "data": {
            "text/plain": [
              "(array([ 280,  574,  870, 1073, 1392, 1681, 1372, 1100,  845,  510,  303]),\n",
              " array([ 2.        ,  2.90909091,  3.81818182,  4.72727273,  5.63636364,\n",
              "         6.54545455,  7.45454545,  8.36363636,  9.27272727, 10.18181818,\n",
              "        11.09090909, 12.        ]))"
            ]
          },
          "metadata": {},
          "execution_count": 51
        }
      ]
    },
    {
      "cell_type": "code",
      "source": [
        "plt.hist(listy)\n",
        "plt.show()"
      ],
      "metadata": {
        "id": "eA9jXsIdErWf",
        "outputId": "bac519bd-e184-48b7-c22a-f3233a879ac2",
        "colab": {
          "base_uri": "https://localhost:8080/",
          "height": 265
        }
      },
      "execution_count": 52,
      "outputs": [
        {
          "output_type": "display_data",
          "data": {
            "text/plain": [
              "<Figure size 432x288 with 1 Axes>"
            ],
            "image/png": "[encoded data removed]"
          },
          "metadata": {
            "needs_background": "light"
          }
        }
      ]
    },
    {
      "cell_type": "markdown",
      "source": [
        "That did not come out in the way I expected.  Let's tweek it a bit and do it by hand."
      ],
      "metadata": {
        "id": "-_3IHMFTGkjr"
      }
    },
    {
      "cell_type": "code",
      "metadata": {
        "colab": {
          "base_uri": "https://localhost:8080/"
        },
        "id": "vrEFNRkmqhJC",
        "outputId": "bf8f171d-47e8-4e0b-e4be-9046d7632b4d"
      },
      "source": [
        "sums = range(2,13,1)\n",
        "newlist =[]\n",
        "for i in sums:\n",
        "  newlist.append(0)\n",
        "\n",
        "for i in listy:\n",
        "  for j in sums:\n",
        "    if i == j:\n",
        "      newlist[i-2] +=1\n",
        "\n",
        "newlist"
      ],
      "execution_count": 53,
      "outputs": [
        {
          "output_type": "execute_result",
          "data": {
            "text/plain": [
              "[280, 574, 870, 1073, 1392, 1681, 1372, 1100, 845, 510, 303]"
            ]
          },
          "metadata": {},
          "execution_count": 53
        }
      ]
    },
    {
      "cell_type": "code",
      "source": [
        "plt.bar(x =sums, height = newlist)\n",
        "plt.show()"
      ],
      "metadata": {
        "id": "XBlTzXueFHP8",
        "outputId": "441244be-58bb-48df-e45c-7efca710795b",
        "colab": {
          "base_uri": "https://localhost:8080/",
          "height": 265
        }
      },
      "execution_count": 54,
      "outputs": [
        {
          "output_type": "display_data",
          "data": {
            "text/plain": [
              "<Figure size 432x288 with 1 Axes>"
            ],
            "image/png": "[encoded data removed]"
          },
          "metadata": {
            "needs_background": "light"
          }
        }
      ]
    },
    {
      "cell_type": "markdown",
      "metadata": {
        "id": "-1J5WK6FhwMT"
      },
      "source": [
        "Above I have checked that the outcomes are random but as expected.  Both codes do the same thing, even though the output is a bit different!  We should check that this does indeed follow the distribution given by preforming the goodness of fit test.\n",
        "\n",
        "$$\n",
        "\\chi^2 = \\sum_{i = 1}^n \\frac{\\left(O_i - E_i\\right)^2}{E_i}\n",
        "$$\n"
      ]
    },
    {
      "cell_type": "code",
      "source": [
        "expected = np.array([1,2,3,4,5,6,5,4,3,2,1])\n",
        "expected = expected/36*10000\n",
        "\n",
        "actual = np.array(newlist)\n",
        "\n",
        "chi = 0\n",
        "for i,val in enumerate(expected):\n",
        "  chi += (val-actual[i])**2/val\n",
        "\n",
        "chi"
      ],
      "metadata": {
        "id": "C6BNXuKVQKj3",
        "outputId": "86b05a95-c720-45d4-a60e-ed8ee91ccecd",
        "colab": {
          "base_uri": "https://localhost:8080/"
        }
      },
      "execution_count": 55,
      "outputs": [
        {
          "output_type": "execute_result",
          "data": {
            "text/plain": [
              "10.186460000000011"
            ]
          },
          "metadata": {},
          "execution_count": 55
        }
      ]
    },
    {
      "cell_type": "code",
      "source": [
        "from scipy import stats\n",
        "\n",
        "1-stats.chi2.cdf(chi,10)"
      ],
      "metadata": {
        "id": "8zCfCgKvSmwt",
        "outputId": "e781ebb9-13df-4e28-9025-7e42f5031457",
        "colab": {
          "base_uri": "https://localhost:8080/"
        }
      },
      "execution_count": 56,
      "outputs": [
        {
          "output_type": "execute_result",
          "data": {
            "text/plain": [
              "0.42428973581671536"
            ]
          },
          "metadata": {},
          "execution_count": 56
        }
      ]
    },
    {
      "cell_type": "markdown",
      "source": [
        "Getting the probability is much easier by using the builtins!"
      ],
      "metadata": {
        "id": "JbvhasGGTEtJ"
      }
    },
    {
      "cell_type": "code",
      "source": [
        "stats.chisquare(actual,expected)"
      ],
      "metadata": {
        "id": "A3lmY7dXRe_3",
        "outputId": "8d00dfb1-2e06-410e-9978-8b7f15933a7b",
        "colab": {
          "base_uri": "https://localhost:8080/"
        }
      },
      "execution_count": 57,
      "outputs": [
        {
          "output_type": "execute_result",
          "data": {
            "text/plain": [
              "Power_divergenceResult(statistic=10.186460000000011, pvalue=0.42428973581671536)"
            ]
          },
          "metadata": {},
          "execution_count": 57
        }
      ]
    },
    {
      "cell_type": "markdown",
      "source": [
        "## Come Out Roll"
      ],
      "metadata": {
        "id": "BHa4By-uG8pT"
      }
    },
    {
      "cell_type": "markdown",
      "source": [
        "The first roll of craps is called the **come out roll**.  It can be repeated later in the game.  There are three possible outcomes:\n",
        "\n",
        "1. **Natural**: A seven or 11 is a natural and the Pass Line Bet wins\n",
        "2. **Craps**: A two, three or twelve is craps and the Pass Line Bet Losses\n",
        "3. **Set the Point**: 4,5,6,8,9,10 is rolled, the shooter continues to roll"
      ],
      "metadata": {
        "id": "hVpSagYMHC80"
      }
    },
    {
      "cell_type": "code",
      "metadata": {
        "colab": {
          "base_uri": "https://localhost:8080/"
        },
        "id": "EmPCXtfLUO2n",
        "outputId": "7fd79f97-15e1-4e32-9b4c-574a06f0032f"
      },
      "source": [
        "def ComeOutRoll(TwoDice):\n",
        "  s = sum(TwoDice)\n",
        "  if (s == 2)|(s == 3)|(s==12):\n",
        "    return 'Craps'\n",
        "  elif (s == 7)|(s == 11):\n",
        "    return 'comeAgain'\n",
        "  else:\n",
        "    return s #return the point\n",
        "\n",
        "ComeOutRoll([4,4])"
      ],
      "execution_count": 58,
      "outputs": [
        {
          "output_type": "execute_result",
          "data": {
            "text/plain": [
              "8"
            ]
          },
          "metadata": {},
          "execution_count": 58
        }
      ]
    },
    {
      "cell_type": "code",
      "metadata": {
        "colab": {
          "base_uri": "https://localhost:8080/",
          "height": 36
        },
        "id": "VoPZtKkjVP5I",
        "outputId": "a3743fc0-8590-4136-bef3-39800b1e1b44"
      },
      "source": [
        "ComeOutRoll([6,6])"
      ],
      "execution_count": 59,
      "outputs": [
        {
          "output_type": "execute_result",
          "data": {
            "text/plain": [
              "'Craps'"
            ],
            "application/vnd.google.colaboratory.intrinsic+json": {
              "type": "string"
            }
          },
          "metadata": {},
          "execution_count": 59
        }
      ]
    },
    {
      "cell_type": "markdown",
      "metadata": {
        "id": "_jtsAppwh92f"
      },
      "source": [
        "The `ComeOutRoll` is the first roll in the craps game.  There are three options **Craps** (2,3,12) **Natural** (7,11) (designated here as 'comeAgain' since you will get another come out roll.  Any othe value will set the point, the function just returns that number."
      ]
    },
    {
      "cell_type": "markdown",
      "source": [
        "## After the Point is Set"
      ],
      "metadata": {
        "id": "Q_XNtki72O5R"
      }
    },
    {
      "cell_type": "markdown",
      "source": [
        "Once the point is set, the shooter will continue to roll until they either roll the point again (Pass Line Bet Wins!) or the **Seven Out** (Pass Line Bet Loses).  The only bet with no house advantage happens in this stage, *Odds*.  The odds bet is made behind the pass line bet and will payout based on the point that was set.\n",
        "\n",
        "Point|Payout on Odds\n",
        "-----|--------------\n",
        "4 or 10 | 1:2\n",
        "5 or 9 | 2:3\n",
        "6 or 8 | 5:6\n",
        "\n",
        "So a point of 5, a \\$10 odds bet will pay \\$15.  These bets will have to be made in the correct proportion for possible payouts.  You can always ask the stickman for help with the odds bet although you may not get the best advice!  This is the only bet *not* marked on the table!\n",
        "\n",
        "![Craps Table](https://upload.wikimedia.org/wikipedia/commons/thumb/a/a4/Craps_table_layout.svg/1280px-Craps_table_layout.svg.png)"
      ],
      "metadata": {
        "id": "WFzTeIuz2fIR"
      }
    },
    {
      "cell_type": "code",
      "metadata": {
        "colab": {
          "base_uri": "https://localhost:8080/",
          "height": 36
        },
        "id": "9MdCCcAYVUcA",
        "outputId": "f6d404e0-e7d7-448d-9b26-27a8ab86c38e"
      },
      "source": [
        "def SetPointRoll(TwoDice,point):\n",
        "  s = sum(TwoDice)\n",
        "  if s == 7:\n",
        "    return 'SevenOut'\n",
        "  elif s == point:\n",
        "    return 'comeAgain'\n",
        "  else:\n",
        "    return point\n",
        "\n",
        "SetPointRoll([5,4],9)"
      ],
      "execution_count": 60,
      "outputs": [
        {
          "output_type": "execute_result",
          "data": {
            "text/plain": [
              "'comeAgain'"
            ],
            "application/vnd.google.colaboratory.intrinsic+json": {
              "type": "string"
            }
          },
          "metadata": {},
          "execution_count": 60
        }
      ]
    },
    {
      "cell_type": "code",
      "metadata": {
        "id": "VbBiy9C3hdOO",
        "colab": {
          "base_uri": "https://localhost:8080/",
          "height": 36
        },
        "outputId": "6246cf39-8884-4617-90fd-508b3a2834e5"
      },
      "source": [
        "SetPointRoll([3,4],4)"
      ],
      "execution_count": 61,
      "outputs": [
        {
          "output_type": "execute_result",
          "data": {
            "text/plain": [
              "'SevenOut'"
            ],
            "application/vnd.google.colaboratory.intrinsic+json": {
              "type": "string"
            }
          },
          "metadata": {},
          "execution_count": 61
        }
      ]
    },
    {
      "cell_type": "code",
      "metadata": {
        "id": "OeT6qYdvimS7",
        "colab": {
          "base_uri": "https://localhost:8080/"
        },
        "outputId": "f0747c8f-5b16-49ca-c550-277a9255b379"
      },
      "source": [
        "SetPointRoll([3,1],5)"
      ],
      "execution_count": 62,
      "outputs": [
        {
          "output_type": "execute_result",
          "data": {
            "text/plain": [
              "5"
            ]
          },
          "metadata": {},
          "execution_count": 62
        }
      ]
    },
    {
      "cell_type": "markdown",
      "source": [
        "## Continuing the Game"
      ],
      "metadata": {
        "id": "Io6IsI9_6_Nv"
      }
    },
    {
      "cell_type": "markdown",
      "metadata": {
        "id": "rHqVxReWit0V"
      },
      "source": [
        "After the point has been set, you will roll over and over again until you **comeAgain** by hitting the same point or **SevenOut** by rolling a 7.  The function returns the point if neither of those happen."
      ]
    },
    {
      "cell_type": "code",
      "metadata": {
        "id": "Ld1ZFAKeV_UV"
      },
      "source": [
        "def PlayCraps():\n",
        "  x = ComeOutRoll(Roll2Dice())\n",
        "  rollCounter = 1\n",
        "  while (x != 'Craps')&(x != 'SevenOut'):\n",
        "    if x == 'comeAgain':\n",
        "      rollCounter += 1\n",
        "      x = ComeOutRoll(Roll2Dice())\n",
        "    else:\n",
        "      point = x\n",
        "      rollCounter += 1\n",
        "      x = SetPointRoll(Roll2Dice(),point)\n",
        "  return rollCounter\n"
      ],
      "execution_count": 63,
      "outputs": []
    },
    {
      "cell_type": "code",
      "metadata": {
        "colab": {
          "base_uri": "https://localhost:8080/"
        },
        "id": "1Eqg-MgUXXuc",
        "outputId": "c02b1a59-cc6c-49b2-9c1c-815f4435f7a9"
      },
      "source": [
        "PlayCraps()"
      ],
      "execution_count": 64,
      "outputs": [
        {
          "output_type": "execute_result",
          "data": {
            "text/plain": [
              "8"
            ]
          },
          "metadata": {},
          "execution_count": 64
        }
      ]
    },
    {
      "cell_type": "markdown",
      "metadata": {
        "id": "RVHT2BIsjqLZ"
      },
      "source": [
        "`PlayCraps` will play the game returning the number of rolls until you **Crap** or **SevenOut**.  Let's compute some statistics about it."
      ]
    },
    {
      "cell_type": "code",
      "metadata": {
        "colab": {
          "base_uri": "https://localhost:8080/"
        },
        "id": "Guy2bFBVXcFt",
        "outputId": "6867ce15-cfc6-4aa7-d68e-e26e242e9b44"
      },
      "source": [
        "\n",
        "list1 = []\n",
        "for i in range(100000):\n",
        "  list1.append(PlayCraps())\n",
        "sum(list1)/len(list1)\n"
      ],
      "execution_count": 65,
      "outputs": [
        {
          "output_type": "execute_result",
          "data": {
            "text/plain": [
              "6.66147"
            ]
          },
          "metadata": {},
          "execution_count": 65
        }
      ]
    },
    {
      "cell_type": "code",
      "metadata": {
        "colab": {
          "base_uri": "https://localhost:8080/",
          "height": 265
        },
        "id": "pWPcOijyX4au",
        "outputId": "27ac5a40-c82f-450b-f03d-9370fdf1f8d5"
      },
      "source": [
        "import matplotlib.pyplot as plt\n",
        "\n",
        "plt.hist(list1)\n",
        "plt.show()"
      ],
      "execution_count": 66,
      "outputs": [
        {
          "output_type": "display_data",
          "data": {
            "text/plain": [
              "<Figure size 432x288 with 1 Axes>"
            ],
            "image/png": "[encoded data removed]"
          },
          "metadata": {
            "needs_background": "light"
          }
        }
      ]
    },
    {
      "cell_type": "markdown",
      "metadata": {
        "id": "9S8rqiGdkErX"
      },
      "source": [
        "The distribution is not normal!  Seems like it is mostly just a few rolls.  I wonder what the expected or average value is.  Here I do 1000 games 1000 times.  This is the Monte Carlo simulation of lots of craps tables!"
      ]
    },
    {
      "cell_type": "code",
      "metadata": {
        "id": "3lu03WfNkT5S"
      },
      "source": [
        "list2 = []\n",
        "for j in range(1000):\n",
        "  list1 = []\n",
        "  for i in range(1000):\n",
        "    list1.append(PlayCraps())\n",
        "  list2.append(sum(list1)/len(list1))"
      ],
      "execution_count": 67,
      "outputs": []
    },
    {
      "cell_type": "code",
      "metadata": {
        "id": "bTY1tRoskuYu",
        "colab": {
          "base_uri": "https://localhost:8080/",
          "height": 340
        },
        "outputId": "519fca1b-6007-4437-eeec-fbf40e2b91a0"
      },
      "source": [
        "plt.hist(list2)"
      ],
      "execution_count": 68,
      "outputs": [
        {
          "output_type": "execute_result",
          "data": {
            "text/plain": [
              "(array([ 15.,  55.,  93., 162., 242., 213., 126.,  64.,  19.,  11.]),\n",
              " array([6.183, 6.285, 6.387, 6.489, 6.591, 6.693, 6.795, 6.897, 6.999,\n",
              "        7.101, 7.203]),\n",
              " <a list of 10 Patch objects>)"
            ]
          },
          "metadata": {},
          "execution_count": 68
        },
        {
          "output_type": "display_data",
          "data": {
            "text/plain": [
              "<Figure size 432x288 with 1 Axes>"
            ],
            "image/png": "[encoded data removed]"
          },
          "metadata": {
            "needs_background": "light"
          }
        }
      ]
    },
    {
      "cell_type": "code",
      "metadata": {
        "id": "bSv9hHXkk0Im",
        "colab": {
          "base_uri": "https://localhost:8080/"
        },
        "outputId": "62633695-93f2-4496-ca83-6ca3b5dcba27"
      },
      "source": [
        "from numpy import mean\n",
        "\n",
        "mean(list2)"
      ],
      "execution_count": 69,
      "outputs": [
        {
          "output_type": "execute_result",
          "data": {
            "text/plain": [
              "6.663322"
            ]
          },
          "metadata": {},
          "execution_count": 69
        }
      ]
    },
    {
      "cell_type": "markdown",
      "metadata": {
        "id": "VGG988Vqk6cY"
      },
      "source": [
        "As I perused the internet for this value, I found lots of answers that were larger!  How can that be!  At first I thought I had the program wrong.  Below I write some code to check the craps game by hand."
      ]
    },
    {
      "cell_type": "code",
      "metadata": {
        "id": "uKYlmD90Yb5e"
      },
      "source": [
        "def ErrorTestingPlayCraps():\n",
        "  listOfRolls = []\n",
        "  randRoll = Roll2Dice()\n",
        "  listOfRolls.append(randRoll)\n",
        "  x = ComeOutRoll(randRoll)\n",
        "  rollCounter = 1\n",
        "  PassLineWins = 0\n",
        "  while (x != 'Craps')&(x != 'SevenOut'):\n",
        "    if x == 'comeAgain':\n",
        "      listOfRolls.append('Pass Line Win')\n",
        "      PassLineWins += 1\n",
        "      rollCounter += 1\n",
        "      randRoll = Roll2Dice()\n",
        "      listOfRolls.append(randRoll)\n",
        "      x = ComeOutRoll(randRoll)\n",
        "    else:\n",
        "      point = x\n",
        "      rollCounter += 1\n",
        "      randRoll = Roll2Dice()\n",
        "      listOfRolls.append(randRoll)\n",
        "      listOfRolls.append(point)\n",
        "      x = SetPointRoll(randRoll,point)\n",
        "  else:\n",
        "    listOfRolls.append(x)\n",
        "  return rollCounter, listOfRolls"
      ],
      "execution_count": 70,
      "outputs": []
    },
    {
      "cell_type": "code",
      "metadata": {
        "colab": {
          "base_uri": "https://localhost:8080/"
        },
        "id": "dBxdCjPTsm5n",
        "outputId": "f59bc218-9a46-4920-8278-f7355cd79c76"
      },
      "source": [
        "ErrorTestingPlayCraps()"
      ],
      "execution_count": 71,
      "outputs": [
        {
          "output_type": "execute_result",
          "data": {
            "text/plain": [
              "(1, [[1, 2], 'Craps'])"
            ]
          },
          "metadata": {},
          "execution_count": 71
        }
      ]
    },
    {
      "cell_type": "code",
      "metadata": {
        "id": "NbmPaqXflTut",
        "colab": {
          "base_uri": "https://localhost:8080/"
        },
        "outputId": "5d234f6c-e796-4acb-c45a-55e55ad3e2bb"
      },
      "source": [
        "ErrorTestingPlayCraps()"
      ],
      "execution_count": 72,
      "outputs": [
        {
          "output_type": "execute_result",
          "data": {
            "text/plain": [
              "(8,\n",
              " [[5, 2],\n",
              "  'Pass Line Win',\n",
              "  [6, 3],\n",
              "  [2, 1],\n",
              "  9,\n",
              "  [1, 5],\n",
              "  9,\n",
              "  [3, 2],\n",
              "  9,\n",
              "  [4, 1],\n",
              "  9,\n",
              "  [6, 2],\n",
              "  9,\n",
              "  [6, 1],\n",
              "  9,\n",
              "  'SevenOut'])"
            ]
          },
          "metadata": {},
          "execution_count": 72
        }
      ]
    },
    {
      "cell_type": "markdown",
      "metadata": {
        "id": "rJeusM4Sl5Um"
      },
      "source": [
        "This simulation is more fun as it really shows you what happens on each roll.\n",
        "\n",
        "\n",
        "Trying this ***many*** times, I did not see an error.  This makes me feel like the reference [here](https://wizardofodds.com/ask-the-wizard/craps/probability/) has an error in their computation.  Let's see if we can find the value theoretically we have simulated!"
      ]
    },
    {
      "cell_type": "markdown",
      "source": [
        "## Some Maths"
      ],
      "metadata": {
        "id": "DZsR3x8P7XYR"
      }
    },
    {
      "cell_type": "markdown",
      "metadata": {
        "id": "1hVFhgtz3Hrp"
      },
      "source": [
        "Here is the theoretical expected value.  Call the expected value $x$.  Then on the **ComeOutRoll**, craps results in the end of the game, natural results in playing the game again plus the roll you made and setting the point will result in a small game.\n",
        "\n",
        "Each point will have a different expected value.  The point at 4 or 10 will result in an expected value of 4 (point rolls end with 4 or 7 $p = \\frac{9}{36}$)  The game continues the probability of $\\frac39$.  All the rest are similar.  This creates an expected value computation of\n",
        "\n",
        "$$\n",
        "x\n",
        "=\n",
        "\\frac4{36}\n",
        "+\n",
        "\\frac8{36}(x+1)\n",
        "+\n",
        "2\\cdot \\frac3{36}\\left(4+1+\\frac39x\\right)\n",
        "+\n",
        "2\\cdot \\frac4{36}\\left(3.6+1+\\frac4{10}x\\right)\n",
        "+\n",
        "2\\cdot \\frac5{36}\\left(\\frac{36}{11}+1+\\frac5{11}x\\right)\n",
        "$$"
      ]
    },
    {
      "cell_type": "code",
      "metadata": {
        "id": "ivFNTqC8mLHk",
        "colab": {
          "base_uri": "https://localhost:8080/"
        },
        "outputId": "60e8f99c-1b74-4c65-e220-b1d50e0e98f2"
      },
      "source": [
        "import sympy\n",
        "\n",
        "x = sympy.Symbol('x')\n",
        "sympy.solve(4/36+8/36*(x+1)+2*3/36*(5+3/9*x)+8/36*(4.6+4/10*x)+10/36*(36/11+1+5/11*x)-x,x)"
      ],
      "execution_count": 73,
      "outputs": [
        {
          "output_type": "execute_result",
          "data": {
            "text/plain": [
              "[6.65737051792830]"
            ]
          },
          "metadata": {},
          "execution_count": 73
        }
      ]
    },
    {
      "cell_type": "markdown",
      "source": [
        "### An Attempt to Compute the Variance"
      ],
      "metadata": {
        "id": "Q88WaaW1Q1us"
      }
    },
    {
      "cell_type": "code",
      "source": [
        "z = np.random.geometric(p=251/1671, size=1000)\n",
        "\n",
        "ax = plt.hist([list1,z])\n",
        "plt.legend(labels = ['Simulation','Geometric'])\n",
        "plt.show()"
      ],
      "metadata": {
        "id": "fczeZ2aJRA2s",
        "outputId": "80fd9e04-d9fa-406c-c839-18b044ee8de7",
        "colab": {
          "base_uri": "https://localhost:8080/",
          "height": 268
        }
      },
      "execution_count": 74,
      "outputs": [
        {
          "output_type": "display_data",
          "data": {
            "text/plain": [
              "<Figure size 432x288 with 1 Axes>"
            ],
            "image/png": "[encoded data removed]"
          },
          "metadata": {
            "needs_background": "light"
          }
        }
      ]
    },
    {
      "cell_type": "code",
      "source": [
        "import seaborn as sns\n",
        "\n",
        "ax = sns.histplot([list1,z], multiple = 'layer', bins = 10) \n",
        "plt.legend(labels = ['Simulation','Geometric'])\n",
        "ax.set(title='Is this Geometric?')\n",
        "plt.show()"
      ],
      "metadata": {
        "id": "IJF6FvFdTg6n",
        "outputId": "32519d50-cedd-42c6-9fb0-aa341b0b6be3",
        "colab": {
          "base_uri": "https://localhost:8080/",
          "height": 281
        }
      },
      "execution_count": 75,
      "outputs": [
        {
          "output_type": "display_data",
          "data": {
            "text/plain": [
              "<Figure size 432x288 with 1 Axes>"
            ],
            "image/png": "[encoded data removed]"
          },
          "metadata": {
            "needs_background": "light"
          }
        }
      ]
    },
    {
      "cell_type": "markdown",
      "metadata": {
        "id": "Jfjuy2MSD3ML"
      },
      "source": [
        "I am curious if I can use this to match up the variance.  Under the assumption that this is a geometric distribution (I stretch I think!)  The expected value is \n",
        "$$\n",
        "E[x] = \\frac1p = \\frac{1671}{251}\\approx 6.657\n",
        "$$\n",
        "The variance is similarly computed as\n",
        "$$\n",
        "E\\left[\\left(x-E[x]\\right)^2\\right] = \\frac{1-p}{p^2} = \\frac{1671\\cdot 1420}{251^2} \\approx 37.663\n",
        "$$\n",
        "\n"
      ]
    },
    {
      "cell_type": "code",
      "metadata": {
        "id": "qSFRt7oN5Ku4",
        "outputId": "0824f0a3-e6e7-4497-883a-ff54255e3a11",
        "colab": {
          "base_uri": "https://localhost:8080/"
        }
      },
      "source": [
        "import numpy as np\n",
        "\n",
        "(np.std(list1))**2\n"
      ],
      "execution_count": 76,
      "outputs": [
        {
          "output_type": "execute_result",
          "data": {
            "text/plain": [
              "36.72479899999999"
            ]
          },
          "metadata": {},
          "execution_count": 76
        }
      ]
    },
    {
      "cell_type": "markdown",
      "source": [
        "The random variables generated from the geometric distribution have a variance of"
      ],
      "metadata": {
        "id": "hdd25E86tD26"
      }
    },
    {
      "cell_type": "code",
      "source": [
        "(np.std(z))**2"
      ],
      "metadata": {
        "id": "udSDAIP3tRI0",
        "outputId": "e7e3bcfd-ab8e-41bd-b3ff-237354eecd06",
        "colab": {
          "base_uri": "https://localhost:8080/"
        }
      },
      "execution_count": 77,
      "outputs": [
        {
          "output_type": "execute_result",
          "data": {
            "text/plain": [
              "34.32988400000001"
            ]
          },
          "metadata": {},
          "execution_count": 77
        }
      ]
    },
    {
      "cell_type": "markdown",
      "metadata": {
        "id": "IyRs8Tj4GSy8"
      },
      "source": [
        "Not terribly far off.  Let's do a little more thorough checking of this value using a Monte Carlo simulation."
      ]
    },
    {
      "cell_type": "code",
      "metadata": {
        "id": "J3FJssW2FG_E"
      },
      "source": [
        "list2 = []\n",
        "for j in range(1000):\n",
        "  list1 = []\n",
        "  for i in range(1000):\n",
        "    list1.append(PlayCraps())\n",
        "  list2.append((np.std(list1))**2)"
      ],
      "execution_count": 78,
      "outputs": []
    },
    {
      "cell_type": "code",
      "metadata": {
        "id": "qFTVGqjRFJnG",
        "outputId": "f6fe58e0-0430-4b80-c3b4-e355daf14d78",
        "colab": {
          "base_uri": "https://localhost:8080/",
          "height": 265
        }
      },
      "source": [
        "plt.hist(list2)\n",
        "plt.show()"
      ],
      "execution_count": 79,
      "outputs": [
        {
          "output_type": "display_data",
          "data": {
            "text/plain": [
              "<Figure size 432x288 with 1 Axes>"
            ],
            "image/png": "[encoded data removed]"
          },
          "metadata": {
            "needs_background": "light"
          }
        }
      ]
    },
    {
      "cell_type": "code",
      "metadata": {
        "id": "atfivDZrGxMX",
        "outputId": "7ded3724-a5c2-40d2-f6bb-d06e71f063e2",
        "colab": {
          "base_uri": "https://localhost:8080/"
        }
      },
      "source": [
        "xbar = mean(list2)\n",
        "s = np.std(list2)\n",
        "\n",
        "print(\"mean is {} and standard deviation is {}\".format(xbar,s))"
      ],
      "execution_count": 80,
      "outputs": [
        {
          "output_type": "stream",
          "name": "stdout",
          "text": [
            "mean is 34.01263086400001 and standard deviation is 3.124713405276644\n"
          ]
        }
      ]
    },
    {
      "cell_type": "markdown",
      "metadata": {
        "id": "ujEwn4hkG4ZM"
      },
      "source": [
        "This is clearly not correct.  It gives me an estimate but I am missing some important behavior of the random variable.  Using the numerical simulation gives me a great way to check this though!  \n",
        "\n",
        "To be thorough, I'll run a hypothesis test.  Could the variance be 37.663 if the mean of 1000 of them is 33.853?  This will look a little strange but because of the way I have simulated it, I am asking can $\\mu = 37.663$ if $\\bar x \\approx 33.8$ with $n = 1000$?\n",
        "\n",
        "$$\n",
        "t = \\frac{\\mu - \\bar x}{\\frac{s}{\\sqrt{n}}}\n",
        "$$\n",
        "\n",
        "Degrees of freedom here will be 999."
      ]
    },
    {
      "cell_type": "code",
      "source": [
        "t = (37.663-xbar)/(s/np.sqrt(1000))\n",
        "\n",
        "t"
      ],
      "metadata": {
        "id": "RbsnrOzaMtfQ",
        "outputId": "ecb17fee-1c79-4283-b3cb-a991803c46d0",
        "colab": {
          "base_uri": "https://localhost:8080/"
        }
      },
      "execution_count": 81,
      "outputs": [
        {
          "output_type": "execute_result",
          "data": {
            "text/plain": [
              "36.94252647506057"
            ]
          },
          "metadata": {},
          "execution_count": 81
        }
      ]
    },
    {
      "cell_type": "code",
      "source": [
        "1-stats.t.cdf(t,999)"
      ],
      "metadata": {
        "id": "cZ3uuLyRN0EP",
        "outputId": "173e7aa5-8d7c-4905-93f7-0cd118a22d0b",
        "colab": {
          "base_uri": "https://localhost:8080/"
        }
      },
      "execution_count": 82,
      "outputs": [
        {
          "output_type": "execute_result",
          "data": {
            "text/plain": [
              "0.0"
            ]
          },
          "metadata": {},
          "execution_count": 82
        }
      ]
    },
    {
      "cell_type": "markdown",
      "source": [
        "## I didn't understand the game of craps!\n",
        "\n",
        "The only time you must pass the dice is when you seven out.  Although the pass line bet loses on a craps roll, you can roll again.  Let's fix that in our code!"
      ],
      "metadata": {
        "id": "Dmg0N5d5vAel"
      }
    },
    {
      "cell_type": "code",
      "source": [
        "def PlayCraps4Real():\n",
        "  x = ComeOutRoll(Roll2Dice())\n",
        "  rollCounter = 1\n",
        "  while (x != 'SevenOut'):\n",
        "    if (x == 'comeAgain') or (x == 'Craps'):\n",
        "      rollCounter += 1\n",
        "      x = ComeOutRoll(Roll2Dice())\n",
        "    else:\n",
        "      point = x\n",
        "      rollCounter += 1\n",
        "      x = SetPointRoll(Roll2Dice(),point)\n",
        "  return rollCounter"
      ],
      "metadata": {
        "id": "bO9FP38kvQbL"
      },
      "execution_count": 83,
      "outputs": []
    },
    {
      "cell_type": "code",
      "source": [
        "list10 = []\n",
        "for i in range(100000):\n",
        "  list10.append(PlayCraps4Real())\n",
        "sum(list10)/len(list10)"
      ],
      "metadata": {
        "id": "fQ3GtOgOvX2b",
        "outputId": "86b81711-142e-454c-8f42-ffcc22e648ca",
        "colab": {
          "base_uri": "https://localhost:8080/"
        }
      },
      "execution_count": 84,
      "outputs": [
        {
          "output_type": "execute_result",
          "data": {
            "text/plain": [
              "8.53045"
            ]
          },
          "metadata": {},
          "execution_count": 84
        }
      ]
    },
    {
      "cell_type": "code",
      "source": [
        "plt.hist(list10, bins = 25)\n",
        "plt.show()"
      ],
      "metadata": {
        "id": "4x_H4jdIMPhs",
        "outputId": "00aad27d-9263-417c-c881-f0e56ac27606",
        "colab": {
          "base_uri": "https://localhost:8080/",
          "height": 265
        }
      },
      "execution_count": 90,
      "outputs": [
        {
          "output_type": "display_data",
          "data": {
            "text/plain": [
              "<Figure size 432x288 with 1 Axes>"
            ],
            "image/png": "[encoded data removed]"
          },
          "metadata": {
            "needs_background": "light"
          }
        }
      ]
    },
    {
      "cell_type": "code",
      "source": [
        "list20 = []\n",
        "for j in range(1000):\n",
        "  list15 = []\n",
        "  for i in range(1000):\n",
        "    list15.append(PlayCraps4Real())\n",
        "  list20.append(sum(list15)/len(list15))"
      ],
      "metadata": {
        "id": "f-tX5zaVvdb0"
      },
      "execution_count": 91,
      "outputs": []
    },
    {
      "cell_type": "code",
      "source": [
        "plt.hist(list20)\n",
        "plt.show()"
      ],
      "metadata": {
        "id": "htsVIvU7voVT",
        "outputId": "3d0b9ba1-6bec-4bcd-f892-dc367d355685",
        "colab": {
          "base_uri": "https://localhost:8080/",
          "height": 265
        }
      },
      "execution_count": 92,
      "outputs": [
        {
          "output_type": "display_data",
          "data": {
            "text/plain": [
              "<Figure size 432x288 with 1 Axes>"
            ],
            "image/png": "[encoded data removed]"
          },
          "metadata": {
            "needs_background": "light"
          }
        }
      ]
    },
    {
      "cell_type": "code",
      "source": [
        "mean(list20)"
      ],
      "metadata": {
        "id": "JncswpHevsGz",
        "outputId": "274cc0e6-5cc4-4807-8856-5ea4961c8404",
        "colab": {
          "base_uri": "https://localhost:8080/"
        }
      },
      "execution_count": 93,
      "outputs": [
        {
          "output_type": "execute_result",
          "data": {
            "text/plain": [
              "8.526864999999999"
            ]
          },
          "metadata": {},
          "execution_count": 93
        }
      ]
    },
    {
      "cell_type": "markdown",
      "source": [
        "It should have been!\n",
        "\n",
        "$$\n",
        "x\n",
        "=\n",
        "\\frac4{36}(x+1)\n",
        "+\n",
        "\\frac8{36}(x+1)\n",
        "+\n",
        "2\\cdot \\frac3{36}\\left(4+1+\\frac39x\\right)\n",
        "+\n",
        "2\\cdot \\frac4{36}\\left(3.6+1+\\frac4{10}x\\right)\n",
        "+\n",
        "2\\cdot \\frac5{36}\\left(\\frac{36}{11}+1+\\frac5{11}x\\right)\n",
        "$$"
      ],
      "metadata": {
        "id": "qRoq21DdLUVs"
      }
    },
    {
      "cell_type": "code",
      "source": [
        "x = sympy.Symbol('x')\n",
        "sympy.solve(12/36*(x+1)+2*3/36*(5+3/9*x)+8/36*(4.6+4/10*x)+10/36*(36/11+1+5/11*x)-x,x)"
      ],
      "metadata": {
        "id": "surIAWWRvv2S",
        "outputId": "b58b16c8-3e06-4d26-bdad-0a32384df997",
        "colab": {
          "base_uri": "https://localhost:8080/"
        }
      },
      "execution_count": 89,
      "outputs": [
        {
          "output_type": "execute_result",
          "data": {
            "text/plain": [
              "[8.52551020408164]"
            ]
          },
          "metadata": {},
          "execution_count": 89
        }
      ]
    },
    {
      "cell_type": "markdown",
      "source": [
        "This agrees with the reference from above...\n",
        "\n"
      ],
      "metadata": {
        "id": "D4OWQtvvxnp3"
      }
    },
    {
      "cell_type": "code",
      "source": [
        ""
      ],
      "metadata": {
        "id": "7CosNeo7t2yC"
      },
      "execution_count": 89,
      "outputs": []
    }
  ]
}