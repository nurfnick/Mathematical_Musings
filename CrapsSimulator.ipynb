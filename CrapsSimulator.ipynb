{
  "nbformat": 4,
  "nbformat_minor": 0,
  "metadata": {
    "colab": {
      "name": "Untitled55.ipynb",
      "provenance": [],
      "authorship_tag": "ABX9TyNlv5+g1Y+SxaVXNtz3qKd1",
      "include_colab_link": true
    },
    "kernelspec": {
      "name": "python3",
      "display_name": "Python 3"
    },
    "language_info": {
      "name": "python"
    }
  },
  "cells": [
    {
      "cell_type": "markdown",
      "metadata": {
        "id": "view-in-github",
        "colab_type": "text"
      },
      "source": [
        "<a href=\"https://colab.research.google.com/github/nurfnick/Mathematical_Musings/blob/main/CrapsSimulator.ipynb\" target=\"_parent\"><img src=\"https://colab.research.google.com/assets/colab-badge.svg\" alt=\"Open In Colab\"/></a>"
      ]
    },
    {
      "cell_type": "markdown",
      "metadata": {
        "id": "KEbGpsnhhgGO"
      },
      "source": [
        "# Craps Simulator for One Shooter"
      ]
    },
    {
      "cell_type": "code",
      "metadata": {
        "colab": {
          "base_uri": "https://localhost:8080/"
        },
        "id": "DmbMesWETxJb",
        "outputId": "93a32c10-865e-4dde-bfa9-415fe279cc0f"
      },
      "source": [
        "import random\n",
        "\n",
        "random.randint(1,6)"
      ],
      "execution_count": 1,
      "outputs": [
        {
          "output_type": "execute_result",
          "data": {
            "text/plain": [
              "5"
            ]
          },
          "metadata": {},
          "execution_count": 1
        }
      ]
    },
    {
      "cell_type": "markdown",
      "metadata": {
        "id": "cmBg8RPuhmh5"
      },
      "source": [
        "Above code rolls a dice once."
      ]
    },
    {
      "cell_type": "code",
      "metadata": {
        "id": "2iZcoXocT1qh"
      },
      "source": [
        "def Roll2Dice():\n",
        "  return [random.randint(1,6),random.randint(1,6)]"
      ],
      "execution_count": 2,
      "outputs": []
    },
    {
      "cell_type": "markdown",
      "metadata": {
        "id": "-RHUCT-QhqUv"
      },
      "source": [
        ""
      ]
    },
    {
      "cell_type": "code",
      "metadata": {
        "colab": {
          "base_uri": "https://localhost:8080/"
        },
        "id": "2h2W2QBOUNUQ",
        "outputId": "6a01fa9b-517e-4687-d224-f0b722932770"
      },
      "source": [
        "Roll2Dice()"
      ],
      "execution_count": 3,
      "outputs": [
        {
          "output_type": "execute_result",
          "data": {
            "text/plain": [
              "[4, 6]"
            ]
          },
          "metadata": {},
          "execution_count": 3
        }
      ]
    },
    {
      "cell_type": "markdown",
      "metadata": {
        "id": "DotTMWEqhrmK"
      },
      "source": [
        "This rolls two dies"
      ]
    },
    {
      "cell_type": "code",
      "metadata": {
        "colab": {
          "base_uri": "https://localhost:8080/"
        },
        "id": "fwmyBoSJpC3Q",
        "outputId": "a17cbdd8-3291-40c6-c349-757bc7554a1b"
      },
      "source": [
        "from numpy import histogram\n",
        "listy = []\n",
        "\n",
        "for i in range(1000):\n",
        "  listy.append(sum(Roll2Dice()))\n",
        "\n",
        "histogram(listy,bins = 11)"
      ],
      "execution_count": 4,
      "outputs": [
        {
          "output_type": "execute_result",
          "data": {
            "text/plain": [
              "(array([ 27,  62,  87, 121, 147, 163, 125,  91,  91,  61,  25]),\n",
              " array([ 2.        ,  2.90909091,  3.81818182,  4.72727273,  5.63636364,\n",
              "         6.54545455,  7.45454545,  8.36363636,  9.27272727, 10.18181818,\n",
              "        11.09090909, 12.        ]))"
            ]
          },
          "metadata": {},
          "execution_count": 4
        }
      ]
    },
    {
      "cell_type": "code",
      "metadata": {
        "colab": {
          "base_uri": "https://localhost:8080/"
        },
        "id": "vrEFNRkmqhJC",
        "outputId": "e1fe8c37-47e4-4148-d15c-bd446a80d6d8"
      },
      "source": [
        "sums = range(2,13,1)\n",
        "newlist =[]\n",
        "for i in sums:\n",
        "  newlist.append(0)\n",
        "\n",
        "for i in listy:\n",
        "  for j in sums:\n",
        "    if i == j:\n",
        "      newlist[i-2] +=1\n",
        "\n",
        "newlist"
      ],
      "execution_count": 5,
      "outputs": [
        {
          "output_type": "execute_result",
          "data": {
            "text/plain": [
              "[27, 62, 87, 121, 147, 163, 125, 91, 91, 61, 25]"
            ]
          },
          "metadata": {},
          "execution_count": 5
        }
      ]
    },
    {
      "cell_type": "markdown",
      "metadata": {
        "id": "-1J5WK6FhwMT"
      },
      "source": [
        "Above I have checked that the outcomes are random but as expected.  Both codes do the same thing\n"
      ]
    },
    {
      "cell_type": "code",
      "metadata": {
        "colab": {
          "base_uri": "https://localhost:8080/"
        },
        "id": "EmPCXtfLUO2n",
        "outputId": "1c7421d8-62d2-49f7-97ad-3a7b1a0c95d0"
      },
      "source": [
        "def ComeOutRoll(TwoDice):\n",
        "  s = sum(TwoDice)\n",
        "  if (s == 2)|(s == 3)|(s==12):\n",
        "    return 'Craps'\n",
        "  elif (s == 7)|(s == 11):\n",
        "    return 'comeAgain'\n",
        "  else:\n",
        "    return s #return the point\n",
        "\n",
        "ComeOutRoll([4,4])"
      ],
      "execution_count": 6,
      "outputs": [
        {
          "output_type": "execute_result",
          "data": {
            "text/plain": [
              "8"
            ]
          },
          "metadata": {},
          "execution_count": 6
        }
      ]
    },
    {
      "cell_type": "code",
      "metadata": {
        "colab": {
          "base_uri": "https://localhost:8080/",
          "height": 36
        },
        "id": "VoPZtKkjVP5I",
        "outputId": "a5018ea6-55db-4b75-c751-0681890603d4"
      },
      "source": [
        "ComeOutRoll([6,6])"
      ],
      "execution_count": 7,
      "outputs": [
        {
          "output_type": "execute_result",
          "data": {
            "application/vnd.google.colaboratory.intrinsic+json": {
              "type": "string"
            },
            "text/plain": [
              "'Craps'"
            ]
          },
          "metadata": {},
          "execution_count": 7
        }
      ]
    },
    {
      "cell_type": "markdown",
      "metadata": {
        "id": "_jtsAppwh92f"
      },
      "source": [
        "The `ComeOutRoll` is the first roll in the craps game.  There are three options **Craps** (2,3,12) **Natural** (7,11) (designated here as 'comeAgain' since you will get another come out roll.  Any othe value will set the point, the function just returns that number."
      ]
    },
    {
      "cell_type": "code",
      "metadata": {
        "colab": {
          "base_uri": "https://localhost:8080/",
          "height": 36
        },
        "id": "9MdCCcAYVUcA",
        "outputId": "d542ba27-b21c-4ab4-acd2-7fa00b75c7ef"
      },
      "source": [
        "def SetPointRoll(TwoDice,point):\n",
        "  s = sum(TwoDice)\n",
        "  if s == 7:\n",
        "    return 'SevenOut'\n",
        "  elif s == point:\n",
        "    return 'comeAgain'\n",
        "  else:\n",
        "    return point\n",
        "\n",
        "SetPointRoll([5,4],9)"
      ],
      "execution_count": 8,
      "outputs": [
        {
          "output_type": "execute_result",
          "data": {
            "application/vnd.google.colaboratory.intrinsic+json": {
              "type": "string"
            },
            "text/plain": [
              "'comeAgain'"
            ]
          },
          "metadata": {},
          "execution_count": 8
        }
      ]
    },
    {
      "cell_type": "code",
      "metadata": {
        "id": "VbBiy9C3hdOO",
        "colab": {
          "base_uri": "https://localhost:8080/",
          "height": 36
        },
        "outputId": "b0ce62e9-46e7-4498-f2b1-d5afe7ef9d4c"
      },
      "source": [
        "SetPointRoll([3,4],4)"
      ],
      "execution_count": 9,
      "outputs": [
        {
          "output_type": "execute_result",
          "data": {
            "application/vnd.google.colaboratory.intrinsic+json": {
              "type": "string"
            },
            "text/plain": [
              "'SevenOut'"
            ]
          },
          "metadata": {},
          "execution_count": 9
        }
      ]
    },
    {
      "cell_type": "code",
      "metadata": {
        "id": "OeT6qYdvimS7",
        "colab": {
          "base_uri": "https://localhost:8080/"
        },
        "outputId": "a1e82d56-78f1-4247-dd1a-b96b03a575c0"
      },
      "source": [
        "SetPointRoll([3,1],5)"
      ],
      "execution_count": 10,
      "outputs": [
        {
          "output_type": "execute_result",
          "data": {
            "text/plain": [
              "5"
            ]
          },
          "metadata": {},
          "execution_count": 10
        }
      ]
    },
    {
      "cell_type": "markdown",
      "metadata": {
        "id": "rHqVxReWit0V"
      },
      "source": [
        "After the point has been set, you will roll over and over again until you **comeAgain** by hitting the same point or **SevenOut** by rolling a 7.  The function returns the point if neither of those happen."
      ]
    },
    {
      "cell_type": "code",
      "metadata": {
        "id": "Ld1ZFAKeV_UV"
      },
      "source": [
        "def PlayCraps():\n",
        "  x = ComeOutRoll(Roll2Dice())\n",
        "  rollCounter = 1\n",
        "  while (x != 'Craps')&(x != 'SevenOut'):\n",
        "    if x == 'comeAgain':\n",
        "      rollCounter += 1\n",
        "      x = ComeOutRoll(Roll2Dice())\n",
        "    else:\n",
        "      point = x\n",
        "      rollCounter += 1\n",
        "      x = SetPointRoll(Roll2Dice(),point)\n",
        "  return rollCounter\n"
      ],
      "execution_count": 11,
      "outputs": []
    },
    {
      "cell_type": "code",
      "metadata": {
        "colab": {
          "base_uri": "https://localhost:8080/"
        },
        "id": "1Eqg-MgUXXuc",
        "outputId": "a966b099-c8bf-4e9d-8e17-b16950910052"
      },
      "source": [
        "PlayCraps()"
      ],
      "execution_count": 12,
      "outputs": [
        {
          "output_type": "execute_result",
          "data": {
            "text/plain": [
              "1"
            ]
          },
          "metadata": {},
          "execution_count": 12
        }
      ]
    },
    {
      "cell_type": "markdown",
      "metadata": {
        "id": "RVHT2BIsjqLZ"
      },
      "source": [
        "`PlayCraps` will play the game returning the number of rolls until you **Crap** or **SevenOut**.  Let's compute some statistics about it."
      ]
    },
    {
      "cell_type": "code",
      "metadata": {
        "colab": {
          "base_uri": "https://localhost:8080/"
        },
        "id": "Guy2bFBVXcFt",
        "outputId": "04a725ce-8d6a-487e-99e8-ee96190d3900"
      },
      "source": [
        "\n",
        "list1 = []\n",
        "for i in range(10000):\n",
        "  list1.append(PlayCraps())\n",
        "sum(list1)/len(list1)\n"
      ],
      "execution_count": 13,
      "outputs": [
        {
          "output_type": "execute_result",
          "data": {
            "text/plain": [
              "6.6403"
            ]
          },
          "metadata": {},
          "execution_count": 13
        }
      ]
    },
    {
      "cell_type": "code",
      "metadata": {
        "colab": {
          "base_uri": "https://localhost:8080/",
          "height": 338
        },
        "id": "pWPcOijyX4au",
        "outputId": "8632b36a-384a-4012-a16c-14e099f594a4"
      },
      "source": [
        "import matplotlib.pyplot as plt\n",
        "\n",
        "plt.hist(list1)"
      ],
      "execution_count": 14,
      "outputs": [
        {
          "output_type": "execute_result",
          "data": {
            "text/plain": [
              "(array([6.849e+03, 2.013e+03, 8.150e+02, 2.060e+02, 7.400e+01, 3.000e+01,\n",
              "        9.000e+00, 3.000e+00, 0.000e+00, 1.000e+00]),\n",
              " array([ 1. ,  7.4, 13.8, 20.2, 26.6, 33. , 39.4, 45.8, 52.2, 58.6, 65. ]),\n",
              " <a list of 10 Patch objects>)"
            ]
          },
          "metadata": {},
          "execution_count": 14
        },
        {
          "output_type": "display_data",
          "data": {
            "image/png": "[encoded data removed]",
            "text/plain": [
              "<Figure size 432x288 with 1 Axes>"
            ]
          },
          "metadata": {
            "needs_background": "light"
          }
        }
      ]
    },
    {
      "cell_type": "markdown",
      "metadata": {
        "id": "9S8rqiGdkErX"
      },
      "source": [
        "The distribution is not normal!  Seems like it is mostly just a few rolls.  I wonder what the expected or average value is."
      ]
    },
    {
      "cell_type": "code",
      "metadata": {
        "id": "3lu03WfNkT5S"
      },
      "source": [
        "list2 = []\n",
        "for j in range(1000):\n",
        "  list1 = []\n",
        "  for i in range(1000):\n",
        "    list1.append(PlayCraps())\n",
        "  list2.append(sum(list1)/len(list1))"
      ],
      "execution_count": 15,
      "outputs": []
    },
    {
      "cell_type": "code",
      "metadata": {
        "id": "bTY1tRoskuYu",
        "colab": {
          "base_uri": "https://localhost:8080/",
          "height": 338
        },
        "outputId": "ac42aa28-26f1-4950-af9a-389ecf863181"
      },
      "source": [
        "plt.hist(list2)"
      ],
      "execution_count": 16,
      "outputs": [
        {
          "output_type": "execute_result",
          "data": {
            "text/plain": [
              "(array([ 17.,  66., 129., 197., 209., 187., 119.,  45.,  23.,   8.]),\n",
              " array([6.209 , 6.3105, 6.412 , 6.5135, 6.615 , 6.7165, 6.818 , 6.9195,\n",
              "        7.021 , 7.1225, 7.224 ]),\n",
              " <a list of 10 Patch objects>)"
            ]
          },
          "metadata": {},
          "execution_count": 16
        },
        {
          "output_type": "display_data",
          "data": {
            "image/png": "[encoded data removed]",
            "text/plain": [
              "<Figure size 432x288 with 1 Axes>"
            ]
          },
          "metadata": {
            "needs_background": "light"
          }
        }
      ]
    },
    {
      "cell_type": "code",
      "metadata": {
        "id": "bSv9hHXkk0Im",
        "colab": {
          "base_uri": "https://localhost:8080/"
        },
        "outputId": "15ad88e2-6108-4cf8-ea1a-fafb3404cd12"
      },
      "source": [
        "from numpy import mean\n",
        "\n",
        "mean(list2)"
      ],
      "execution_count": 17,
      "outputs": [
        {
          "output_type": "execute_result",
          "data": {
            "text/plain": [
              "6.662007"
            ]
          },
          "metadata": {},
          "execution_count": 17
        }
      ]
    },
    {
      "cell_type": "markdown",
      "metadata": {
        "id": "VGG988Vqk6cY"
      },
      "source": [
        "As I perused the internet for this value, I found lots of answers that were larger!  How can that be!  At first I thought I had the program wrong.  Below I write some code to check the craps game by hand."
      ]
    },
    {
      "cell_type": "code",
      "metadata": {
        "id": "uKYlmD90Yb5e"
      },
      "source": [
        "def ErrorTestingPlayCraps():\n",
        "  listOfRolls = []\n",
        "  randRoll = Roll2Dice()\n",
        "  listOfRolls.append(randRoll)\n",
        "  x = ComeOutRoll(randRoll)\n",
        "  rollCounter = 1\n",
        "  PassLineWins = 0\n",
        "  while (x != 'Craps')&(x != 'SevenOut'):\n",
        "    if x == 'comeAgain':\n",
        "      listOfRolls.append('Pass Line Win')\n",
        "      PassLineWins += 1\n",
        "      rollCounter += 1\n",
        "      randRoll = Roll2Dice()\n",
        "      listOfRolls.append(randRoll)\n",
        "      x = ComeOutRoll(randRoll)\n",
        "    else:\n",
        "      point = x\n",
        "      rollCounter += 1\n",
        "      randRoll = Roll2Dice()\n",
        "      listOfRolls.append(randRoll)\n",
        "      listOfRolls.append(point)\n",
        "      x = SetPointRoll(randRoll,point)\n",
        "  else:\n",
        "    listOfRolls.append(x)\n",
        "  return rollCounter, listOfRolls"
      ],
      "execution_count": 18,
      "outputs": []
    },
    {
      "cell_type": "code",
      "metadata": {
        "colab": {
          "base_uri": "https://localhost:8080/"
        },
        "id": "dBxdCjPTsm5n",
        "outputId": "5f408ce1-0d25-49fd-b1ac-c3a293c5499b"
      },
      "source": [
        "ErrorTestingPlayCraps()"
      ],
      "execution_count": 35,
      "outputs": [
        {
          "output_type": "execute_result",
          "data": {
            "text/plain": [
              "(11,\n",
              " [[3, 6],\n",
              "  [4, 2],\n",
              "  9,\n",
              "  [4, 2],\n",
              "  9,\n",
              "  [5, 5],\n",
              "  9,\n",
              "  [4, 5],\n",
              "  9,\n",
              "  'Pass Line Win',\n",
              "  [4, 6],\n",
              "  [3, 3],\n",
              "  10,\n",
              "  [1, 1],\n",
              "  10,\n",
              "  [5, 4],\n",
              "  10,\n",
              "  [1, 4],\n",
              "  10,\n",
              "  [1, 6],\n",
              "  10,\n",
              "  'SevenOut'])"
            ]
          },
          "metadata": {},
          "execution_count": 35
        }
      ]
    },
    {
      "cell_type": "code",
      "metadata": {
        "id": "NbmPaqXflTut",
        "colab": {
          "base_uri": "https://localhost:8080/"
        },
        "outputId": "40a4c032-02fc-4e26-f1ea-0a340576f4a9"
      },
      "source": [
        "ErrorTestingPlayCraps()"
      ],
      "execution_count": 20,
      "outputs": [
        {
          "output_type": "execute_result",
          "data": {
            "text/plain": [
              "(4, [[6, 2], [4, 5], 8, [5, 5], 8, [3, 4], 8, 'SevenOut'])"
            ]
          },
          "metadata": {},
          "execution_count": 20
        }
      ]
    },
    {
      "cell_type": "markdown",
      "metadata": {
        "id": "rJeusM4Sl5Um"
      },
      "source": [
        "This simulation is more fun as it really shows you what happens on each roll.\n",
        "\n",
        "\n",
        "Trying this ***many*** times, I did not see an error.  This makes me feel like the reference [here](https://wizardofodds.com/ask-the-wizard/craps/probability/) has an error in their computation.  Let's see if we can find the value theoretically we have simulated!"
      ]
    },
    {
      "cell_type": "code",
      "metadata": {
        "id": "ivFNTqC8mLHk"
      },
      "source": [
        ""
      ],
      "execution_count": 20,
      "outputs": []
    }
  ]
}