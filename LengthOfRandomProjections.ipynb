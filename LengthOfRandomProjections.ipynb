{
  "nbformat": 4,
  "nbformat_minor": 0,
  "metadata": {
    "colab": {
      "name": "Untitled4.ipynb",
      "provenance": [],
      "authorship_tag": "ABX9TyNvhHwwktO4qUok6gZxvSBs",
      "include_colab_link": true
    },
    "kernelspec": {
      "display_name": "Python 3",
      "name": "python3"
    }
  },
  "cells": [
    {
      "cell_type": "markdown",
      "metadata": {
        "id": "view-in-github",
        "colab_type": "text"
      },
      "source": [
        "<a href=\"https://colab.research.google.com/github/nurfnick/Mathematical_Musings/blob/main/LengthOfRandomProjections.ipynb\" target=\"_parent\"><img src=\"https://colab.research.google.com/assets/colab-badge.svg\" alt=\"Open In Colab\"/></a>"
      ]
    },
    {
      "cell_type": "code",
      "metadata": {
        "id": "6wBs_n0SU-40"
      },
      "source": [
        "import numpy as np\n",
        "from scipy import stats\n",
        "np.random.seed(42)\n"
      ],
      "execution_count": 67,
      "outputs": []
    },
    {
      "cell_type": "code",
      "metadata": {
        "colab": {
          "base_uri": "https://localhost:8080/"
        },
        "id": "yCxgsHeNVFq0",
        "outputId": "e917a1aa-d267-4781-c0f0-d5596f4087a6"
      },
      "source": [
        "J = np.random.normal(0,scale = np.sqrt(1/5),size=[5,15])\n",
        "J"
      ],
      "execution_count": 75,
      "outputs": [
        {
          "output_type": "execute_result",
          "data": {
            "text/plain": [
              "array([[ 0.36756597,  0.22425451,  0.51795682,  0.11498616,  0.14065444,\n",
              "         0.6135154 ,  0.07850982, -0.13831804,  0.30103088, -0.11476851,\n",
              "        -0.16449666,  0.56963099, -0.1305652 , -1.18743083,  0.15452032],\n",
              "       [-0.17688033, -0.12930593,  0.20255928, -0.0742647 ,  0.09612357,\n",
              "        -0.90440673, -0.42174783,  0.62786944, -0.00829617, -0.74841402,\n",
              "        -0.47965082, -0.44389803,  0.04577128, -0.19346875, -0.29479529],\n",
              "       [ 0.00176082,  0.21365813, -0.11584113, -0.25701777, -0.18849973,\n",
              "         0.15197256, -0.0033005 ,  0.34314558, -0.51420287, -0.34674085,\n",
              "         0.3457591 , -0.35858831,  0.61895065,  0.62842692,  0.62266701],\n",
              "       [-0.39383455,  0.03438847, -0.22066971,  0.41285087,  0.76321694,\n",
              "         0.39068106,  0.00408948, -0.16347414,  0.29028041, -0.54688567,\n",
              "         0.23985677, -0.40906222,  0.2775176 , -0.07197338, -0.17363712],\n",
              "       [-0.39601317, -0.15954123,  0.24870523,  0.46682866,  0.23543478,\n",
              "         0.6099486 ,  1.13554809, -0.14511677, -0.09206639, -0.64400611,\n",
              "         0.53250942,  0.58110792, -0.38779955,  0.27621738,  0.54429061]])"
            ]
          },
          "metadata": {
            "tags": []
          },
          "execution_count": 75
        }
      ]
    },
    {
      "cell_type": "code",
      "metadata": {
        "id": "S9Y2aPnSVhMf",
        "colab": {
          "base_uri": "https://localhost:8080/"
        },
        "outputId": "d6e585af-b37f-4bb1-c876-bbc9ff6a4790"
      },
      "source": [
        "P = np.transpose(J)@J\n",
        "np.size(P)"
      ],
      "execution_count": 76,
      "outputs": [
        {
          "output_type": "execute_result",
          "data": {
            "text/plain": [
              "225"
            ]
          },
          "metadata": {
            "tags": []
          },
          "execution_count": 76
        }
      ]
    },
    {
      "cell_type": "code",
      "metadata": {
        "colab": {
          "base_uri": "https://localhost:8080/"
        },
        "id": "KS9BAr0VWO2Z",
        "outputId": "8a444027-1b0d-4163-8f4c-82f079421ea9"
      },
      "source": [
        "x = np.random.random(size = 15)\n",
        "x"
      ],
      "execution_count": 77,
      "outputs": [
        {
          "output_type": "execute_result",
          "data": {
            "text/plain": [
              "array([0.08413996, 0.16162871, 0.89855419, 0.60642906, 0.00919705,\n",
              "       0.10147154, 0.66350177, 0.00506158, 0.16080805, 0.54873379,\n",
              "       0.6918952 , 0.65196126, 0.22426931, 0.71217922, 0.23724909])"
            ]
          },
          "metadata": {
            "tags": []
          },
          "execution_count": 77
        }
      ]
    },
    {
      "cell_type": "code",
      "metadata": {
        "colab": {
          "base_uri": "https://localhost:8080/"
        },
        "id": "ug3jYYI6WlCz",
        "outputId": "e6fd44a4-fe91-4f84-d448-0c99db963995"
      },
      "source": [
        "J@x"
      ],
      "execution_count": 78,
      "outputs": [
        {
          "output_type": "execute_result",
          "data": {
            "text/plain": [
              "array([ 0.12196362, -1.49709376,  0.25454148, -0.31131641,  1.88221281])"
            ]
          },
          "metadata": {
            "tags": []
          },
          "execution_count": 78
        }
      ]
    },
    {
      "cell_type": "code",
      "metadata": {
        "colab": {
          "base_uri": "https://localhost:8080/"
        },
        "id": "6lfV0rCWW1NA",
        "outputId": "f4727a7f-8c26-4b93-993b-0abf527ab6e4"
      },
      "source": [
        "x.dot(x)"
      ],
      "execution_count": 79,
      "outputs": [
        {
          "output_type": "execute_result",
          "data": {
            "text/plain": [
              "3.50352403153792"
            ]
          },
          "metadata": {
            "tags": []
          },
          "execution_count": 79
        }
      ]
    },
    {
      "cell_type": "code",
      "metadata": {
        "colab": {
          "base_uri": "https://localhost:8080/"
        },
        "id": "1sZmuKXoXQ9E",
        "outputId": "38d82c36-1419-412d-bd1c-fc8a2dc73c55"
      },
      "source": [
        "(J@x).dot(J@x)"
      ],
      "execution_count": 80,
      "outputs": [
        {
          "output_type": "execute_result",
          "data": {
            "text/plain": [
              "5.960599178342913"
            ]
          },
          "metadata": {
            "tags": []
          },
          "execution_count": 80
        }
      ]
    },
    {
      "cell_type": "code",
      "metadata": {
        "colab": {
          "base_uri": "https://localhost:8080/"
        },
        "id": "dN7SdIJYXkU9",
        "outputId": "9c8a7fb1-a31f-411d-c1a7-08bb4ece6306"
      },
      "source": [
        "(np.linalg.norm(J@x))**2"
      ],
      "execution_count": 81,
      "outputs": [
        {
          "output_type": "execute_result",
          "data": {
            "text/plain": [
              "5.960599178342913"
            ]
          },
          "metadata": {
            "tags": []
          },
          "execution_count": 81
        }
      ]
    },
    {
      "cell_type": "markdown",
      "metadata": {
        "id": "po9QnyVBaz4s"
      },
      "source": [
        "So the theorem here says that the expected value of $E\\left[\\|Jx\\|^2\\right]$ should be equal to $\\|x\\|^2$  Using the normal distribution centered at 0 with a variance of $\\frac1k$ was important here too!  Let's preform a Monte Carlo simulation."
      ]
    },
    {
      "cell_type": "code",
      "metadata": {
        "id": "eZF1kUEoWPym",
        "colab": {
          "base_uri": "https://localhost:8080/"
        },
        "outputId": "def720e4-eda1-4b67-90f1-f0713560128b"
      },
      "source": [
        "list = []\n",
        "for i in range(100):\n",
        "  J = np.random.normal(0,scale = np.sqrt(1/5),size=[5,15])\n",
        "  list.append((J@x).dot(J@x))\n",
        "np.mean(list)\n",
        "\n"
      ],
      "execution_count": 85,
      "outputs": [
        {
          "output_type": "execute_result",
          "data": {
            "text/plain": [
              "3.35293140328717"
            ]
          },
          "metadata": {
            "tags": []
          },
          "execution_count": 84
        },
        {
          "output_type": "execute_result",
          "data": {
            "text/plain": [
              "3.70574528699684"
            ]
          },
          "metadata": {
            "tags": []
          },
          "execution_count": 85
        }
      ]
    },
    {
      "cell_type": "code",
      "metadata": {
        "id": "9r1GRV-ZcE_p",
        "outputId": "3a6e8220-2001-43a5-bc6d-77488041dd03",
        "colab": {
          "base_uri": "https://localhost:8080/"
        }
      },
      "source": [
        "list"
      ],
      "execution_count": 86,
      "outputs": [
        {
          "output_type": "execute_result",
          "data": {
            "text/plain": [
              "[5.401373833103554,\n",
              " 3.079757312530403,\n",
              " 2.7161063149947555,\n",
              " 0.848804568278809,\n",
              " 1.6024911624488174,\n",
              " 2.862999993836489,\n",
              " 7.65229969038855,\n",
              " 2.8184943077257514,\n",
              " 3.7244006730415857,\n",
              " 1.7667271791578336,\n",
              " 7.392685351759348,\n",
              " 5.307608887922622,\n",
              " 2.8180636310908636,\n",
              " 1.1906239007827994,\n",
              " 5.526099960942098,\n",
              " 2.16115979128065,\n",
              " 2.5173476626701805,\n",
              " 6.168329328885976,\n",
              " 4.064610808804924,\n",
              " 3.738495858675611,\n",
              " 8.368170717278385,\n",
              " 1.6569631567505347,\n",
              " 3.5462781652593818,\n",
              " 0.4384188511791657,\n",
              " 2.3033612879892975,\n",
              " 4.0286263495528125,\n",
              " 5.578661093546842,\n",
              " 0.4345697176645603,\n",
              " 3.323360403315484,\n",
              " 4.629638368043372,\n",
              " 3.9367684047436624,\n",
              " 2.3991497583080412,\n",
              " 2.1258311988946326,\n",
              " 1.2530754485943851,\n",
              " 2.8201638239441404,\n",
              " 3.6851475911973157,\n",
              " 1.4238104183320524,\n",
              " 1.4278549447766185,\n",
              " 3.2736826381534665,\n",
              " 1.1270326809426772,\n",
              " 2.9228910018337113,\n",
              " 1.5653606484551938,\n",
              " 3.4959152375400717,\n",
              " 2.283161216924296,\n",
              " 11.81013487816218,\n",
              " 7.646522512910454,\n",
              " 2.382799330163689,\n",
              " 0.8454658268184848,\n",
              " 4.0640670092756945,\n",
              " 1.90809143396687,\n",
              " 0.7290872339700399,\n",
              " 5.299356637167459,\n",
              " 5.044694511828259,\n",
              " 10.623393621965935,\n",
              " 0.6455135165102059,\n",
              " 7.4583257798399964,\n",
              " 1.5040925224085604,\n",
              " 5.4335565016249365,\n",
              " 11.877851002444164,\n",
              " 2.252253511202281,\n",
              " 5.561067694033382,\n",
              " 3.2053718046688475,\n",
              " 2.274276792008791,\n",
              " 8.815959154360257,\n",
              " 2.431223404150794,\n",
              " 1.5516024835143698,\n",
              " 7.5149659708323,\n",
              " 1.0596159551319702,\n",
              " 3.2375001948949587,\n",
              " 1.7218922690818625,\n",
              " 3.6168340675622703,\n",
              " 3.5280525870931334,\n",
              " 2.5315444570789407,\n",
              " 3.271060394125571,\n",
              " 0.7321266827022742,\n",
              " 2.6402075409715513,\n",
              " 3.491388520548767,\n",
              " 7.175074221769423,\n",
              " 5.341602903220685,\n",
              " 2.3097733382826067,\n",
              " 9.976915052850552,\n",
              " 1.7405483319558788,\n",
              " 3.09314621257895,\n",
              " 1.7846235307218576,\n",
              " 4.402812709233936,\n",
              " 2.6940165848150945,\n",
              " 6.276334861011672,\n",
              " 1.294202869061955,\n",
              " 0.7511832328942615,\n",
              " 8.078612826205635,\n",
              " 4.022981803225813,\n",
              " 2.743302732664022,\n",
              " 2.678400160309695,\n",
              " 1.7196953904647685,\n",
              " 5.200402339148623,\n",
              " 5.697693879967513,\n",
              " 1.8744439860664133,\n",
              " 2.728616199670478,\n",
              " 6.624773504071307,\n",
              " 4.2491028849319195]"
            ]
          },
          "metadata": {
            "tags": []
          },
          "execution_count": 86
        }
      ]
    },
    {
      "cell_type": "code",
      "metadata": {
        "id": "IDmR3ce-c8lR"
      },
      "source": [
        ""
      ],
      "execution_count": null,
      "outputs": []
    }
  ]
}