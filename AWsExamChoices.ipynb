{
  "nbformat": 4,
  "nbformat_minor": 0,
  "metadata": {
    "colab": {
      "provenance": [],
      "authorship_tag": "ABX9TyMCJTo+xy1CK64HibesRCO2",
      "include_colab_link": true
    },
    "kernelspec": {
      "name": "python3",
      "display_name": "Python 3"
    },
    "language_info": {
      "name": "python"
    }
  },
  "cells": [
    {
      "cell_type": "markdown",
      "metadata": {
        "id": "view-in-github",
        "colab_type": "text"
      },
      "source": [
        "<a href=\"https://colab.research.google.com/github/nurfnick/Mathematical_Musings/blob/main/AWsExamChoices.ipynb\" target=\"_parent\"><img src=\"https://colab.research.google.com/assets/colab-badge.svg\" alt=\"Open In Colab\"/></a>"
      ]
    },
    {
      "cell_type": "markdown",
      "source": [
        "# Modeling AW's Problem"
      ],
      "metadata": {
        "id": "t8-YlTgwCmPx"
      }
    },
    {
      "cell_type": "code",
      "source": [
        "import random\n",
        "\n",
        "def studentChoice():\n",
        "  a = random.choice([1,2])\n",
        "  b = random.choice([3,4])\n",
        "  c = random.choice([5,6])\n",
        "  choices = [a,b,c]\n",
        "  d = random.choice([1,2,3,4,5,6])\n",
        "  while d in choices:\n",
        "    d = random.choice([1,2,3,4,5,6])\n",
        "  choices.append(d)\n",
        "  return choices\n",
        "\n",
        "studentChoice()"
      ],
      "metadata": {
        "colab": {
          "base_uri": "https://localhost:8080/"
        },
        "id": "GsFQYqKrC-tW",
        "outputId": "dbb15dce-b5a9-446d-dde2-e8bda966f04b"
      },
      "execution_count": 47,
      "outputs": [
        {
          "output_type": "execute_result",
          "data": {
            "text/plain": [
              "[1, 3, 6, 5]"
            ]
          },
          "metadata": {},
          "execution_count": 47
        }
      ]
    },
    {
      "cell_type": "code",
      "source": [
        "\n",
        "\n",
        "classSize = 10\n",
        "sum = 0\n",
        "\n",
        "for i in range(1000):\n",
        "  selectedProblems = []\n",
        "  for j in range(classSize):\n",
        "    selectedProblems.append(studentChoice())\n",
        "  for k in range(1,7):\n",
        "    problemcheck = 0\n",
        "    for student in range(classSize):\n",
        "      if k in selectedProblems[student]:\n",
        "        problemcheck+=1\n",
        "    if problemcheck == classSize:\n",
        "      sum+=1\n",
        "      break\n",
        "\n",
        "\n",
        "\n"
      ],
      "metadata": {
        "id": "CQcFOr_sCpJv"
      },
      "execution_count": 68,
      "outputs": []
    },
    {
      "cell_type": "code",
      "source": [
        "sum"
      ],
      "metadata": {
        "id": "64zbWSR1ElaT",
        "colab": {
          "base_uri": "https://localhost:8080/"
        },
        "outputId": "2c58adb0-9c61-449a-8dfb-56feecbb68e3"
      },
      "execution_count": 69,
      "outputs": [
        {
          "output_type": "execute_result",
          "data": {
            "text/plain": [
              "115"
            ]
          },
          "metadata": {},
          "execution_count": 69
        }
      ]
    },
    {
      "cell_type": "code",
      "source": [],
      "metadata": {
        "id": "TuPXQ59_RfPQ"
      },
      "execution_count": null,
      "outputs": []
    }
  ]
}