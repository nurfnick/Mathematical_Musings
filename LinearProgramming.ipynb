{
  "nbformat": 4,
  "nbformat_minor": 0,
  "metadata": {
    "colab": {
      "name": "Untitled21.ipynb",
      "provenance": [],
      "authorship_tag": "ABX9TyM9LpXJoipJ9rw0HYJCozJw",
      "include_colab_link": true
    },
    "kernelspec": {
      "name": "python3",
      "display_name": "Python 3"
    }
  },
  "cells": [
    {
      "cell_type": "markdown",
      "metadata": {
        "id": "view-in-github",
        "colab_type": "text"
      },
      "source": [
        "<a href=\"https://colab.research.google.com/github/nurfnick/Mathematical_Musings/blob/main/LinearProgramming.ipynb\" target=\"_parent\"><img src=\"https://colab.research.google.com/assets/colab-badge.svg\" alt=\"Open In Colab\"/></a>"
      ]
    },
    {
      "cell_type": "code",
      "metadata": {
        "colab": {
          "base_uri": "https://localhost:8080/"
        },
        "id": "UejcKsDTA2vP",
        "outputId": "867da238-a881-49cd-a3df-0c42d58e7eb2"
      },
      "source": [
        "from scipy.optimize import linprog\r\n",
        "\r\n",
        "c = [-3,-5]\r\n",
        "A = [[1,0],[0,2],[3,2]]\r\n",
        "b = [4,12,18]\r\n",
        "xbounds = (0,None)\r\n",
        "ybounds = (0,None)\r\n",
        "\r\n",
        "linprog(c = c,A_ub=A,b_ub=b,bounds = [xbounds,ybounds])"
      ],
      "execution_count": 8,
      "outputs": [
        {
          "output_type": "stream",
          "text": [
            "/usr/local/lib/python3.7/dist-packages/numpy/core/fromnumeric.py:87: VisibleDeprecationWarning: Creating an ndarray from ragged nested sequences (which is a list-or-tuple of lists-or-tuples-or ndarrays with different lengths or shapes) is deprecated. If you meant to do this, you must specify 'dtype=object' when creating the ndarray\n",
            "  return ufunc.reduce(obj, axis, dtype, out, **passkwargs)\n"
          ],
          "name": "stderr"
        },
        {
          "output_type": "execute_result",
          "data": {
            "text/plain": [
              "     con: array([], dtype=float64)\n",
              "     fun: -35.99999997843224\n",
              " message: 'Optimization terminated successfully.'\n",
              "     nit: 4\n",
              "   slack: array([2.00000000e+00, 8.66162608e-09, 8.57531646e-09])\n",
              "  status: 0\n",
              " success: True\n",
              "       x: array([2., 6.])"
            ]
          },
          "metadata": {
            "tags": []
          },
          "execution_count": 8
        }
      ]
    },
    {
      "cell_type": "markdown",
      "metadata": {
        "id": "2tPV5iUQCyMq"
      },
      "source": [
        "First example from Hillier and Lieberman.  Note I made **c** the opposite because this only minimizes."
      ]
    },
    {
      "cell_type": "code",
      "metadata": {
        "id": "9hk96VrXBaI5"
      },
      "source": [
        ""
      ],
      "execution_count": null,
      "outputs": []
    }
  ]
}