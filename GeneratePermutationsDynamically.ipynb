{
  "nbformat": 4,
  "nbformat_minor": 0,
  "metadata": {
    "colab": {
      "provenance": [],
      "authorship_tag": "ABX9TyN5/Eqgi1s1nSgX8vHdQ3k0",
      "include_colab_link": true
    },
    "kernelspec": {
      "name": "python3",
      "display_name": "Python 3"
    },
    "language_info": {
      "name": "python"
    }
  },
  "cells": [
    {
      "cell_type": "markdown",
      "metadata": {
        "id": "view-in-github",
        "colab_type": "text"
      },
      "source": [
        "<a href=\"https://colab.research.google.com/github/nurfnick/Mathematical_Musings/blob/main/GeneratePermutationsDynamically.ipynb\" target=\"_parent\"><img src=\"https://colab.research.google.com/assets/colab-badge.svg\" alt=\"Open In Colab\"/></a>"
      ]
    },
    {
      "cell_type": "code",
      "execution_count": 22,
      "metadata": {
        "id": "CBZNvPGE4w-H"
      },
      "outputs": [],
      "source": [
        "\n",
        "P = [0,0,0]\n",
        "n = 3\n",
        "\n",
        "def gen1(i,k = -1):\n",
        "  k = k+1\n",
        "  P[i] = k\n",
        "  if k == n:\n",
        "    for q in range(n):\n",
        "      print(P[q])\n",
        "    print(\"\\n\")\n",
        "  for q in range(n):\n",
        "    if P[q]== 0:\n",
        "      gen1(q,k)\n",
        "  k = k-1\n",
        "  P[i] = 0\n",
        "\n"
      ]
    },
    {
      "cell_type": "code",
      "source": [
        "gen1(0,-1)"
      ],
      "metadata": {
        "colab": {
          "base_uri": "https://localhost:8080/"
        },
        "id": "kWVAT4FC5xlq",
        "outputId": "b6452d28-086b-4154-d792-a6c74874754b"
      },
      "execution_count": 23,
      "outputs": [
        {
          "output_type": "stream",
          "name": "stdout",
          "text": [
            "1\n",
            "2\n",
            "3\n",
            "\n",
            "\n",
            "1\n",
            "3\n",
            "2\n",
            "\n",
            "\n",
            "2\n",
            "1\n",
            "3\n",
            "\n",
            "\n",
            "3\n",
            "1\n",
            "2\n",
            "\n",
            "\n",
            "2\n",
            "3\n",
            "1\n",
            "\n",
            "\n",
            "3\n",
            "2\n",
            "1\n",
            "\n",
            "\n"
          ]
        }
      ]
    },
    {
      "cell_type": "code",
      "source": [
        "k"
      ],
      "metadata": {
        "colab": {
          "base_uri": "https://localhost:8080/"
        },
        "id": "CThbiRRm507v",
        "outputId": "cf2d3c06-6ce1-4354-fab1-66183255f507"
      },
      "execution_count": 20,
      "outputs": [
        {
          "output_type": "execute_result",
          "data": {
            "text/plain": [
              "-1"
            ]
          },
          "metadata": {},
          "execution_count": 20
        }
      ]
    },
    {
      "cell_type": "code",
      "source": [],
      "metadata": {
        "id": "BdJlaSWN8OFQ"
      },
      "execution_count": null,
      "outputs": []
    }
  ]
}