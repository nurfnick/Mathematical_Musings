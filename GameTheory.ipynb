{
  "nbformat": 4,
  "nbformat_minor": 0,
  "metadata": {
    "colab": {
      "name": "Untitled46.ipynb",
      "provenance": [],
      "authorship_tag": "ABX9TyPVjb3wdNILeUf0p7nfr+yI",
      "include_colab_link": true
    },
    "kernelspec": {
      "name": "python3",
      "display_name": "Python 3"
    },
    "language_info": {
      "name": "python"
    }
  },
  "cells": [
    {
      "cell_type": "markdown",
      "metadata": {
        "id": "view-in-github",
        "colab_type": "text"
      },
      "source": [
        "<a href=\"https://colab.research.google.com/github/nurfnick/Mathematical_Musings/blob/main/GameTheory.ipynb\" target=\"_parent\"><img src=\"https://colab.research.google.com/assets/colab-badge.svg\" alt=\"Open In Colab\"/></a>"
      ]
    },
    {
      "cell_type": "code",
      "metadata": {
        "colab": {
          "base_uri": "https://localhost:8080/"
        },
        "id": "6flUMj8SEhJz",
        "outputId": "659ad618-c7c3-44a4-f0a3-5c10d8d57935"
      },
      "source": [
        "!pip install nashpy"
      ],
      "execution_count": 1,
      "outputs": [
        {
          "output_type": "stream",
          "name": "stdout",
          "text": [
            "Collecting nashpy\n",
            "  Downloading nashpy-0.0.22.tar.gz (11 kB)\n",
            "\u001b[33mWARNING: Discarding https://files.pythonhosted.org/packages/93/1c/9005c6a0a3a3b183b5b216cc02cef14bb080fd3ee8733a1006fbcd81fffc/nashpy-0.0.22.tar.gz#sha256=9378fd492f01163ac01a7384dd94f7ffa3ce40e31fe2a08844a2e34576b3d8db (from https://pypi.org/simple/nashpy/). Command errored out with exit status 1: python setup.py egg_info Check the logs for full command output.\u001b[0m\n",
            "  Downloading nashpy-0.0.21.tar.gz (11 kB)\n",
            "Requirement already satisfied: numpy>=1.12.1 in /usr/local/lib/python3.7/dist-packages (from nashpy) (1.19.5)\n",
            "Requirement already satisfied: scipy>=0.19.0 in /usr/local/lib/python3.7/dist-packages (from nashpy) (1.4.1)\n",
            "Building wheels for collected packages: nashpy\n",
            "  Building wheel for nashpy (setup.py) ... \u001b[?25l\u001b[?25hdone\n",
            "  Created wheel for nashpy: filename=nashpy-0.0.21-py3-none-any.whl size=15281 sha256=69e18713054c02cb0673a01469649557cfb1ada536ebeb7fbf8537864355b567\n",
            "  Stored in directory: /root/.cache/pip/wheels/02/08/62/cf4fa931e0a317d180936b266169a57f4bb4eb801465bbe8a1\n",
            "Successfully built nashpy\n",
            "Installing collected packages: nashpy\n",
            "Successfully installed nashpy-0.0.21\n"
          ]
        }
      ]
    },
    {
      "cell_type": "code",
      "metadata": {
        "id": "7Xo_VJeEEjhX"
      },
      "source": [
        "import nashpy as nash\n",
        "import numpy as np\n",
        "\n"
      ],
      "execution_count": 2,
      "outputs": []
    },
    {
      "cell_type": "markdown",
      "metadata": {
        "id": "D_MMvYCdExyS"
      },
      "source": [
        "I am going to make a non-zero sum game representing the prisoner's dilema!"
      ]
    },
    {
      "cell_type": "code",
      "metadata": {
        "id": "NqfWR6uPExOq"
      },
      "source": [
        "A = np.array([[-8,0],[-12,-1]])\n",
        "B = np.array([[-8,-12],[0,-1]])\n",
        "\n",
        "rps = nash.Game(A, B)"
      ],
      "execution_count": 33,
      "outputs": []
    },
    {
      "cell_type": "code",
      "metadata": {
        "colab": {
          "base_uri": "https://localhost:8080/"
        },
        "id": "4BJH4Q7SFKBf",
        "outputId": "22d7442a-79c4-4a12-ace8-4c846bb37283"
      },
      "source": [
        "rps"
      ],
      "execution_count": 27,
      "outputs": [
        {
          "output_type": "execute_result",
          "data": {
            "text/plain": [
              "Bi matrix game with payoff matrices:\n",
              "\n",
              "Row player:\n",
              "[[ -8   0]\n",
              " [-12  -1]]\n",
              "\n",
              "Column player:\n",
              "[[ -8 -12]\n",
              " [  0  -1]]"
            ]
          },
          "metadata": {},
          "execution_count": 27
        }
      ]
    },
    {
      "cell_type": "code",
      "metadata": {
        "colab": {
          "base_uri": "https://localhost:8080/"
        },
        "id": "mM7GECkaFKs_",
        "outputId": "1c47e886-2c95-4e50-a5e2-c8bc18df103d"
      },
      "source": [
        "eqs = rps.support_enumeration()\n",
        "\n",
        "list(eqs)"
      ],
      "execution_count": 28,
      "outputs": [
        {
          "output_type": "execute_result",
          "data": {
            "text/plain": [
              "[(array([1., 0.]), array([1., 0.]))]"
            ]
          },
          "metadata": {},
          "execution_count": 28
        }
      ]
    },
    {
      "cell_type": "code",
      "metadata": {
        "colab": {
          "base_uri": "https://localhost:8080/"
        },
        "id": "b3A4Np1PFWuB",
        "outputId": "75ec7bf4-7c23-4c56-a0bc-d2a4eab14737"
      },
      "source": [
        "iterations = 10\n",
        "\n",
        "play_counts = rps.fictitious_play(iterations=iterations)\n",
        "\n",
        "for row_play_count, column_play_count in play_counts:\n",
        "\n",
        "    print(row_play_count, column_play_count)"
      ],
      "execution_count": 34,
      "outputs": [
        {
          "output_type": "stream",
          "name": "stdout",
          "text": [
            "[0 0] [0 0]\n",
            "[0. 1.] [1. 0.]\n",
            "[1. 1.] [2. 0.]\n",
            "[2. 1.] [3. 0.]\n",
            "[3. 1.] [4. 0.]\n",
            "[4. 1.] [5. 0.]\n",
            "[5. 1.] [6. 0.]\n",
            "[6. 1.] [7. 0.]\n",
            "[7. 1.] [8. 0.]\n",
            "[8. 1.] [9. 0.]\n",
            "[9. 1.] [10.  0.]\n"
          ]
        }
      ]
    },
    {
      "cell_type": "markdown",
      "metadata": {
        "id": "MA3ZDFfKGkGr"
      },
      "source": [
        "What if I play the game randomly.  Player 1 only snitches 10% of the time.  But player 2 always snitches"
      ]
    },
    {
      "cell_type": "code",
      "metadata": {
        "colab": {
          "base_uri": "https://localhost:8080/"
        },
        "id": "R57V71IdFhHW",
        "outputId": "c9ded261-d4d1-483b-ca96-398f24a23ecd"
      },
      "source": [
        "p1 = [.1,.9]\n",
        "p2 = [1,0]\n",
        "\n",
        "rps[p1,p2]"
      ],
      "execution_count": 30,
      "outputs": [
        {
          "output_type": "execute_result",
          "data": {
            "text/plain": [
              "array([-11.6,  -0.8])"
            ]
          },
          "metadata": {},
          "execution_count": 30
        }
      ]
    },
    {
      "cell_type": "markdown",
      "metadata": {
        "id": "1CJvZEvjHChk"
      },
      "source": [
        "Player 1 is going to average 11.6 months in the pokey but player 2 less than a month!"
      ]
    },
    {
      "cell_type": "code",
      "metadata": {
        "colab": {
          "base_uri": "https://localhost:8080/"
        },
        "id": "cUgKeWM6HBMs",
        "outputId": "3bf43c25-877b-4f77-e6bf-9c2aa7f806e9"
      },
      "source": [
        "play_counts = rps.stochastic_fictitious_play(iterations=iterations)\n",
        "\n",
        "for row_play_count, column_play_count in play_counts:\n",
        "\n",
        "    print(row_play_count, column_play_count)"
      ],
      "execution_count": 35,
      "outputs": [
        {
          "output_type": "stream",
          "name": "stdout",
          "text": [
            "[array([0, 0]), array([0, 0])] (None, None)\n",
            "[array([1., 0.]), array([1., 0.])] [array([1.00000000e+00, 1.35430458e-11]), array([1.00000000e+00, 1.43246414e-11])]\n",
            "[array([2., 0.]), array([2., 0.])] [array([1.00000000e+00, 4.11160353e-18]), array([1.00000000e+00, 4.03004298e-18])]\n",
            "[array([3., 0.]), array([3., 0.])] [array([1.00000000e+00, 4.20662144e-18]), array([1.00000000e+00, 4.28898414e-18])]\n",
            "[array([4., 0.]), array([4., 0.])] [array([1.00000000e+00, 4.22625066e-18]), array([1.00000000e+00, 4.16238836e-18])]\n",
            "[array([5., 0.]), array([5., 0.])] [array([1.00000000e+00, 4.42336035e-18]), array([1.00000000e+00, 4.02282297e-18])]\n",
            "[array([6., 0.]), array([6., 0.])] [array([1.0000000e+00, 4.2097779e-18]), array([1.00000000e+00, 4.08831526e-18])]\n",
            "[array([7., 0.]), array([7., 0.])] [array([1.00000000e+00, 4.37775149e-18]), array([1.00000000e+00, 4.03611431e-18])]\n",
            "[array([8., 0.]), array([8., 0.])] [array([1.00000000e+00, 4.27207303e-18]), array([1.00000000e+00, 4.36752076e-18])]\n",
            "[array([9., 0.]), array([9., 0.])] [array([1.00000000e+00, 4.09822939e-18]), array([1.00000000e+00, 4.10926599e-18])]\n",
            "[array([10.,  0.]), array([10.,  0.])] [array([1.00000000e+00, 4.36215203e-18]), array([1.00000000e+00, 4.48905468e-18])]\n"
          ]
        }
      ]
    },
    {
      "cell_type": "markdown",
      "metadata": {
        "id": "-hv8dwUZIJ_I"
      },
      "source": [
        "Stochastic should be random but the game is quickly learning an optimal strategy.  I followed NashPy's documentation to do this https://nashpy.readthedocs.io/en/stable/index.html"
      ]
    },
    {
      "cell_type": "code",
      "metadata": {
        "id": "PGgBz4IqHQ_S"
      },
      "source": [
        ""
      ],
      "execution_count": null,
      "outputs": []
    }
  ]
}