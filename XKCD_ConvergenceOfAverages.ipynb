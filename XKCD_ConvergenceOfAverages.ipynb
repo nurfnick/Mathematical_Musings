{
  "nbformat": 4,
  "nbformat_minor": 0,
  "metadata": {
    "colab": {
      "name": "Untitled29.ipynb",
      "provenance": [],
      "authorship_tag": "ABX9TyP20XsZldj4IlcutxgySPER",
      "include_colab_link": true
    },
    "kernelspec": {
      "name": "python3",
      "display_name": "Python 3"
    }
  },
  "cells": [
    {
      "cell_type": "markdown",
      "metadata": {
        "id": "view-in-github",
        "colab_type": "text"
      },
      "source": [
        "<a href=\"https://colab.research.google.com/github/nurfnick/Mathematical_Musings/blob/main/XKCD_ConvergenceOfAverages.ipynb\" target=\"_parent\"><img src=\"https://colab.research.google.com/assets/colab-badge.svg\" alt=\"Open In Colab\"/></a>"
      ]
    },
    {
      "cell_type": "markdown",
      "metadata": {
        "id": "Dlde0CDyfCJi"
      },
      "source": [
        "Reading xkcd this morning and figured I should dynamically program the funciton described\r\n",
        "https://xkcd.com/2435/\r\n",
        "\r\n",
        "<img src=\"https://imgs.xkcd.com/comics/geothmetic_meandian.png\"\r\n",
        "     alt=\"XKCD Comic that Inspired This Code\"\r\n",
        "     style=\"float: left; margin-right: 10px;\" />\r\n"
      ]
    },
    {
      "cell_type": "code",
      "metadata": {
        "id": "rnpGPoF7bhOg"
      },
      "source": [
        "from scipy import stats\r\n",
        "import numpy as np\r\n",
        "\r\n",
        "\r\n",
        "def GMDN(list):\r\n",
        "  new = [np.mean(list),stats.gmean(list),np.median(list) ]\r\n",
        "  if (new[0] == new[1]) & (new[0] == new[2]):\r\n",
        "    return new[0]\r\n",
        "  while (new[0] != new[1]) or (new[0] != new[2]):\r\n",
        "    return GMDN(new)\r\n",
        "  "
      ],
      "execution_count": 18,
      "outputs": []
    },
    {
      "cell_type": "code",
      "metadata": {
        "colab": {
          "base_uri": "https://localhost:8080/"
        },
        "id": "HVsfYW7Yd6rc",
        "outputId": "ad3050a3-a821-45ed-f42c-acfb4ce0acca"
      },
      "source": [
        "GeoMean([1,1,2,3,5])"
      ],
      "execution_count": 19,
      "outputs": [
        {
          "output_type": "execute_result",
          "data": {
            "text/plain": [
              "2.0890579497368598"
            ]
          },
          "metadata": {
            "tags": []
          },
          "execution_count": 19
        }
      ]
    },
    {
      "cell_type": "code",
      "metadata": {
        "id": "KQnzW2mEef4J"
      },
      "source": [
        ""
      ],
      "execution_count": null,
      "outputs": []
    }
  ]
}